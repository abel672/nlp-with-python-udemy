{
 "metadata": {
  "language_info": {
   "codemirror_mode": {
    "name": "ipython",
    "version": 3
   },
   "file_extension": ".py",
   "mimetype": "text/x-python",
   "name": "python",
   "nbconvert_exporter": "python",
   "pygments_lexer": "ipython3",
   "version": "3.7.4-final"
  },
  "orig_nbformat": 2,
  "kernelspec": {
   "name": "python3",
   "display_name": "Python 3",
   "language": "python"
  }
 },
 "nbformat": 4,
 "nbformat_minor": 2,
 "cells": [
  {
   "cell_type": "code",
   "execution_count": 3,
   "metadata": {},
   "outputs": [],
   "source": [
    "import numpy as np"
   ]
  },
  {
   "cell_type": "code",
   "execution_count": 4,
   "metadata": {},
   "outputs": [],
   "source": [
    "from sklearn.datasets import load_iris"
   ]
  },
  {
   "cell_type": "code",
   "execution_count": 5,
   "metadata": {},
   "outputs": [],
   "source": [
    "iris = load_iris()"
   ]
  },
  {
   "cell_type": "code",
   "execution_count": 6,
   "metadata": {},
   "outputs": [
    {
     "output_type": "execute_result",
     "data": {
      "text/plain": [
       "sklearn.utils.Bunch"
      ]
     },
     "metadata": {},
     "execution_count": 6
    }
   ],
   "source": [
    "type(iris)"
   ]
  },
  {
   "cell_type": "code",
   "execution_count": 7,
   "metadata": {},
   "outputs": [
    {
     "output_type": "stream",
     "name": "stdout",
     "text": [
      ".. _iris_dataset:\n\nIris plants dataset\n--------------------\n\n**Data Set Characteristics:**\n\n    :Number of Instances: 150 (50 in each of three classes)\n    :Number of Attributes: 4 numeric, predictive attributes and the class\n    :Attribute Information:\n        - sepal length in cm\n        - sepal width in cm\n        - petal length in cm\n        - petal width in cm\n        - class:\n                - Iris-Setosa\n                - Iris-Versicolour\n                - Iris-Virginica\n                \n    :Summary Statistics:\n\n    ============== ==== ==== ======= ===== ====================\n                    Min  Max   Mean    SD   Class Correlation\n    ============== ==== ==== ======= ===== ====================\n    sepal length:   4.3  7.9   5.84   0.83    0.7826\n    sepal width:    2.0  4.4   3.05   0.43   -0.4194\n    petal length:   1.0  6.9   3.76   1.76    0.9490  (high!)\n    petal width:    0.1  2.5   1.20   0.76    0.9565  (high!)\n    ============== ==== ==== ======= ===== ====================\n\n    :Missing Attribute Values: None\n    :Class Distribution: 33.3% for each of 3 classes.\n    :Creator: R.A. Fisher\n    :Donor: Michael Marshall (MARSHALL%PLU@io.arc.nasa.gov)\n    :Date: July, 1988\n\nThe famous Iris database, first used by Sir R.A. Fisher. The dataset is taken\nfrom Fisher's paper. Note that it's the same as in R, but not as in the UCI\nMachine Learning Repository, which has two wrong data points.\n\nThis is perhaps the best known database to be found in the\npattern recognition literature.  Fisher's paper is a classic in the field and\nis referenced frequently to this day.  (See Duda & Hart, for example.)  The\ndata set contains 3 classes of 50 instances each, where each class refers to a\ntype of iris plant.  One class is linearly separable from the other 2; the\nlatter are NOT linearly separable from each other.\n\n.. topic:: References\n\n   - Fisher, R.A. \"The use of multiple measurements in taxonomic problems\"\n     Annual Eugenics, 7, Part II, 179-188 (1936); also in \"Contributions to\n     Mathematical Statistics\" (John Wiley, NY, 1950).\n   - Duda, R.O., & Hart, P.E. (1973) Pattern Classification and Scene Analysis.\n     (Q327.D83) John Wiley & Sons.  ISBN 0-471-22361-1.  See page 218.\n   - Dasarathy, B.V. (1980) \"Nosing Around the Neighborhood: A New System\n     Structure and Classification Rule for Recognition in Partially Exposed\n     Environments\".  IEEE Transactions on Pattern Analysis and Machine\n     Intelligence, Vol. PAMI-2, No. 1, 67-71.\n   - Gates, G.W. (1972) \"The Reduced Nearest Neighbor Rule\".  IEEE Transactions\n     on Information Theory, May 1972, 431-433.\n   - See also: 1988 MLC Proceedings, 54-64.  Cheeseman et al\"s AUTOCLASS II\n     conceptual clustering system finds 3 classes in the data.\n   - Many, many more ...\n"
     ]
    }
   ],
   "source": [
    "print(iris.DESCR)"
   ]
  },
  {
   "cell_type": "code",
   "execution_count": 8,
   "metadata": {},
   "outputs": [],
   "source": [
    "X = iris.data"
   ]
  },
  {
   "cell_type": "code",
   "execution_count": 9,
   "metadata": {},
   "outputs": [
    {
     "output_type": "execute_result",
     "data": {
      "text/plain": [
       "array([[5.1, 3.5, 1.4, 0.2],\n",
       "       [4.9, 3. , 1.4, 0.2],\n",
       "       [4.7, 3.2, 1.3, 0.2],\n",
       "       [4.6, 3.1, 1.5, 0.2],\n",
       "       [5. , 3.6, 1.4, 0.2],\n",
       "       [5.4, 3.9, 1.7, 0.4],\n",
       "       [4.6, 3.4, 1.4, 0.3],\n",
       "       [5. , 3.4, 1.5, 0.2],\n",
       "       [4.4, 2.9, 1.4, 0.2],\n",
       "       [4.9, 3.1, 1.5, 0.1],\n",
       "       [5.4, 3.7, 1.5, 0.2],\n",
       "       [4.8, 3.4, 1.6, 0.2],\n",
       "       [4.8, 3. , 1.4, 0.1],\n",
       "       [4.3, 3. , 1.1, 0.1],\n",
       "       [5.8, 4. , 1.2, 0.2],\n",
       "       [5.7, 4.4, 1.5, 0.4],\n",
       "       [5.4, 3.9, 1.3, 0.4],\n",
       "       [5.1, 3.5, 1.4, 0.3],\n",
       "       [5.7, 3.8, 1.7, 0.3],\n",
       "       [5.1, 3.8, 1.5, 0.3],\n",
       "       [5.4, 3.4, 1.7, 0.2],\n",
       "       [5.1, 3.7, 1.5, 0.4],\n",
       "       [4.6, 3.6, 1. , 0.2],\n",
       "       [5.1, 3.3, 1.7, 0.5],\n",
       "       [4.8, 3.4, 1.9, 0.2],\n",
       "       [5. , 3. , 1.6, 0.2],\n",
       "       [5. , 3.4, 1.6, 0.4],\n",
       "       [5.2, 3.5, 1.5, 0.2],\n",
       "       [5.2, 3.4, 1.4, 0.2],\n",
       "       [4.7, 3.2, 1.6, 0.2],\n",
       "       [4.8, 3.1, 1.6, 0.2],\n",
       "       [5.4, 3.4, 1.5, 0.4],\n",
       "       [5.2, 4.1, 1.5, 0.1],\n",
       "       [5.5, 4.2, 1.4, 0.2],\n",
       "       [4.9, 3.1, 1.5, 0.2],\n",
       "       [5. , 3.2, 1.2, 0.2],\n",
       "       [5.5, 3.5, 1.3, 0.2],\n",
       "       [4.9, 3.6, 1.4, 0.1],\n",
       "       [4.4, 3. , 1.3, 0.2],\n",
       "       [5.1, 3.4, 1.5, 0.2],\n",
       "       [5. , 3.5, 1.3, 0.3],\n",
       "       [4.5, 2.3, 1.3, 0.3],\n",
       "       [4.4, 3.2, 1.3, 0.2],\n",
       "       [5. , 3.5, 1.6, 0.6],\n",
       "       [5.1, 3.8, 1.9, 0.4],\n",
       "       [4.8, 3. , 1.4, 0.3],\n",
       "       [5.1, 3.8, 1.6, 0.2],\n",
       "       [4.6, 3.2, 1.4, 0.2],\n",
       "       [5.3, 3.7, 1.5, 0.2],\n",
       "       [5. , 3.3, 1.4, 0.2],\n",
       "       [7. , 3.2, 4.7, 1.4],\n",
       "       [6.4, 3.2, 4.5, 1.5],\n",
       "       [6.9, 3.1, 4.9, 1.5],\n",
       "       [5.5, 2.3, 4. , 1.3],\n",
       "       [6.5, 2.8, 4.6, 1.5],\n",
       "       [5.7, 2.8, 4.5, 1.3],\n",
       "       [6.3, 3.3, 4.7, 1.6],\n",
       "       [4.9, 2.4, 3.3, 1. ],\n",
       "       [6.6, 2.9, 4.6, 1.3],\n",
       "       [5.2, 2.7, 3.9, 1.4],\n",
       "       [5. , 2. , 3.5, 1. ],\n",
       "       [5.9, 3. , 4.2, 1.5],\n",
       "       [6. , 2.2, 4. , 1. ],\n",
       "       [6.1, 2.9, 4.7, 1.4],\n",
       "       [5.6, 2.9, 3.6, 1.3],\n",
       "       [6.7, 3.1, 4.4, 1.4],\n",
       "       [5.6, 3. , 4.5, 1.5],\n",
       "       [5.8, 2.7, 4.1, 1. ],\n",
       "       [6.2, 2.2, 4.5, 1.5],\n",
       "       [5.6, 2.5, 3.9, 1.1],\n",
       "       [5.9, 3.2, 4.8, 1.8],\n",
       "       [6.1, 2.8, 4. , 1.3],\n",
       "       [6.3, 2.5, 4.9, 1.5],\n",
       "       [6.1, 2.8, 4.7, 1.2],\n",
       "       [6.4, 2.9, 4.3, 1.3],\n",
       "       [6.6, 3. , 4.4, 1.4],\n",
       "       [6.8, 2.8, 4.8, 1.4],\n",
       "       [6.7, 3. , 5. , 1.7],\n",
       "       [6. , 2.9, 4.5, 1.5],\n",
       "       [5.7, 2.6, 3.5, 1. ],\n",
       "       [5.5, 2.4, 3.8, 1.1],\n",
       "       [5.5, 2.4, 3.7, 1. ],\n",
       "       [5.8, 2.7, 3.9, 1.2],\n",
       "       [6. , 2.7, 5.1, 1.6],\n",
       "       [5.4, 3. , 4.5, 1.5],\n",
       "       [6. , 3.4, 4.5, 1.6],\n",
       "       [6.7, 3.1, 4.7, 1.5],\n",
       "       [6.3, 2.3, 4.4, 1.3],\n",
       "       [5.6, 3. , 4.1, 1.3],\n",
       "       [5.5, 2.5, 4. , 1.3],\n",
       "       [5.5, 2.6, 4.4, 1.2],\n",
       "       [6.1, 3. , 4.6, 1.4],\n",
       "       [5.8, 2.6, 4. , 1.2],\n",
       "       [5. , 2.3, 3.3, 1. ],\n",
       "       [5.6, 2.7, 4.2, 1.3],\n",
       "       [5.7, 3. , 4.2, 1.2],\n",
       "       [5.7, 2.9, 4.2, 1.3],\n",
       "       [6.2, 2.9, 4.3, 1.3],\n",
       "       [5.1, 2.5, 3. , 1.1],\n",
       "       [5.7, 2.8, 4.1, 1.3],\n",
       "       [6.3, 3.3, 6. , 2.5],\n",
       "       [5.8, 2.7, 5.1, 1.9],\n",
       "       [7.1, 3. , 5.9, 2.1],\n",
       "       [6.3, 2.9, 5.6, 1.8],\n",
       "       [6.5, 3. , 5.8, 2.2],\n",
       "       [7.6, 3. , 6.6, 2.1],\n",
       "       [4.9, 2.5, 4.5, 1.7],\n",
       "       [7.3, 2.9, 6.3, 1.8],\n",
       "       [6.7, 2.5, 5.8, 1.8],\n",
       "       [7.2, 3.6, 6.1, 2.5],\n",
       "       [6.5, 3.2, 5.1, 2. ],\n",
       "       [6.4, 2.7, 5.3, 1.9],\n",
       "       [6.8, 3. , 5.5, 2.1],\n",
       "       [5.7, 2.5, 5. , 2. ],\n",
       "       [5.8, 2.8, 5.1, 2.4],\n",
       "       [6.4, 3.2, 5.3, 2.3],\n",
       "       [6.5, 3. , 5.5, 1.8],\n",
       "       [7.7, 3.8, 6.7, 2.2],\n",
       "       [7.7, 2.6, 6.9, 2.3],\n",
       "       [6. , 2.2, 5. , 1.5],\n",
       "       [6.9, 3.2, 5.7, 2.3],\n",
       "       [5.6, 2.8, 4.9, 2. ],\n",
       "       [7.7, 2.8, 6.7, 2. ],\n",
       "       [6.3, 2.7, 4.9, 1.8],\n",
       "       [6.7, 3.3, 5.7, 2.1],\n",
       "       [7.2, 3.2, 6. , 1.8],\n",
       "       [6.2, 2.8, 4.8, 1.8],\n",
       "       [6.1, 3. , 4.9, 1.8],\n",
       "       [6.4, 2.8, 5.6, 2.1],\n",
       "       [7.2, 3. , 5.8, 1.6],\n",
       "       [7.4, 2.8, 6.1, 1.9],\n",
       "       [7.9, 3.8, 6.4, 2. ],\n",
       "       [6.4, 2.8, 5.6, 2.2],\n",
       "       [6.3, 2.8, 5.1, 1.5],\n",
       "       [6.1, 2.6, 5.6, 1.4],\n",
       "       [7.7, 3. , 6.1, 2.3],\n",
       "       [6.3, 3.4, 5.6, 2.4],\n",
       "       [6.4, 3.1, 5.5, 1.8],\n",
       "       [6. , 3. , 4.8, 1.8],\n",
       "       [6.9, 3.1, 5.4, 2.1],\n",
       "       [6.7, 3.1, 5.6, 2.4],\n",
       "       [6.9, 3.1, 5.1, 2.3],\n",
       "       [5.8, 2.7, 5.1, 1.9],\n",
       "       [6.8, 3.2, 5.9, 2.3],\n",
       "       [6.7, 3.3, 5.7, 2.5],\n",
       "       [6.7, 3. , 5.2, 2.3],\n",
       "       [6.3, 2.5, 5. , 1.9],\n",
       "       [6.5, 3. , 5.2, 2. ],\n",
       "       [6.2, 3.4, 5.4, 2.3],\n",
       "       [5.9, 3. , 5.1, 1.8]])"
      ]
     },
     "metadata": {},
     "execution_count": 9
    }
   ],
   "source": [
    "X # numpy array with four measurments (sepal length, sepal width, petal length, petal width)"
   ]
  },
  {
   "cell_type": "code",
   "execution_count": 10,
   "metadata": {},
   "outputs": [],
   "source": [
    "y = iris.target"
   ]
  },
  {
   "cell_type": "code",
   "execution_count": 11,
   "metadata": {},
   "outputs": [
    {
     "output_type": "execute_result",
     "data": {
      "text/plain": [
       "array([0, 0, 0, 0, 0, 0, 0, 0, 0, 0, 0, 0, 0, 0, 0, 0, 0, 0, 0, 0, 0, 0,\n",
       "       0, 0, 0, 0, 0, 0, 0, 0, 0, 0, 0, 0, 0, 0, 0, 0, 0, 0, 0, 0, 0, 0,\n",
       "       0, 0, 0, 0, 0, 0, 1, 1, 1, 1, 1, 1, 1, 1, 1, 1, 1, 1, 1, 1, 1, 1,\n",
       "       1, 1, 1, 1, 1, 1, 1, 1, 1, 1, 1, 1, 1, 1, 1, 1, 1, 1, 1, 1, 1, 1,\n",
       "       1, 1, 1, 1, 1, 1, 1, 1, 1, 1, 1, 1, 2, 2, 2, 2, 2, 2, 2, 2, 2, 2,\n",
       "       2, 2, 2, 2, 2, 2, 2, 2, 2, 2, 2, 2, 2, 2, 2, 2, 2, 2, 2, 2, 2, 2,\n",
       "       2, 2, 2, 2, 2, 2, 2, 2, 2, 2, 2, 2, 2, 2, 2, 2, 2, 2])"
      ]
     },
     "metadata": {},
     "execution_count": 11
    }
   ],
   "source": [
    "y # classes"
   ]
  },
  {
   "cell_type": "code",
   "execution_count": 12,
   "metadata": {},
   "outputs": [],
   "source": [
    "# this is how keras will setup the classes from 'y'\n",
    "# class 0 --> [1,0,0]\n",
    "# class 1 --> [0,1,0]\n",
    "# class 2 --> [0,0,1]"
   ]
  },
  {
   "cell_type": "code",
   "execution_count": 13,
   "metadata": {},
   "outputs": [],
   "source": [
    "from keras.utils import to_categorical"
   ]
  },
  {
   "cell_type": "code",
   "execution_count": 14,
   "metadata": {},
   "outputs": [],
   "source": [
    "y = to_categorical(y)"
   ]
  },
  {
   "cell_type": "code",
   "execution_count": 17,
   "metadata": {},
   "outputs": [
    {
     "output_type": "execute_result",
     "data": {
      "text/plain": [
       "(150, 3)"
      ]
     },
     "metadata": {},
     "execution_count": 17
    }
   ],
   "source": [
    "y.shape"
   ]
  },
  {
   "cell_type": "code",
   "execution_count": 18,
   "metadata": {},
   "outputs": [],
   "source": [
    "# step 1: Train the data that you have with sklearn\n",
    "from sklearn.model_selection import train_test_split"
   ]
  },
  {
   "cell_type": "code",
   "execution_count": 19,
   "metadata": {},
   "outputs": [],
   "source": [
    "# X = 4 measurments, y = 3 classes models\n",
    "X_train, X_test, y_train, y_test = train_test_split(X, y, test_size=0.33, random_state=42)"
   ]
  },
  {
   "cell_type": "code",
   "execution_count": 23,
   "metadata": {},
   "outputs": [],
   "source": [
    "# y_test"
   ]
  },
  {
   "cell_type": "code",
   "execution_count": 24,
   "metadata": {},
   "outputs": [],
   "source": [
    "from sklearn.preprocessing import MinMaxScaler"
   ]
  },
  {
   "cell_type": "code",
   "execution_count": 25,
   "metadata": {},
   "outputs": [
    {
     "output_type": "execute_result",
     "data": {
      "text/plain": [
       "array([0.25, 0.5 , 0.75, 1.  ])"
      ]
     },
     "metadata": {},
     "execution_count": 25
    }
   ],
   "source": [
    "# how MinMaxScaler works\n",
    "np.array([5,10,15,20])/20 # [min, x, y, max]/max = (ranges between 0 to 1)"
   ]
  },
  {
   "cell_type": "code",
   "execution_count": 26,
   "metadata": {},
   "outputs": [],
   "source": [
    "scaler_object = MinMaxScaler()"
   ]
  },
  {
   "cell_type": "code",
   "execution_count": 27,
   "metadata": {},
   "outputs": [
    {
     "output_type": "execute_result",
     "data": {
      "text/plain": [
       "MinMaxScaler(copy=True, feature_range=(0, 1))"
      ]
     },
     "metadata": {},
     "execution_count": 27
    }
   ],
   "source": [
    "scaler_object.fit(X_train)"
   ]
  },
  {
   "cell_type": "code",
   "execution_count": 28,
   "metadata": {},
   "outputs": [],
   "source": [
    "scaled_X_train = scaler_object.transform(X_train)"
   ]
  },
  {
   "cell_type": "code",
   "execution_count": 29,
   "metadata": {},
   "outputs": [],
   "source": [
    "scaled_X_test = scaler_object.transform(X_test)"
   ]
  },
  {
   "cell_type": "code",
   "execution_count": 31,
   "metadata": {},
   "outputs": [],
   "source": [
    "# all the values are now between 0 and 1 (helps neural networkw to evade large symbiosis growing)\n",
    "# scaled_X_train"
   ]
  },
  {
   "cell_type": "code",
   "execution_count": 32,
   "metadata": {},
   "outputs": [],
   "source": [
    "# setp 2: Build a network with keras\n",
    "from keras.models import Sequential # Model to use. In this case sequencial, to add a sequence of layers\n",
    "from keras.layers import Dense # layers to use, in this case, Dense layers"
   ]
  },
  {
   "cell_type": "code",
   "execution_count": 33,
   "metadata": {},
   "outputs": [],
   "source": [
    "model = Sequential()\n",
    "model.add(Dense(8,input_dim=4,activation='relu'))\n",
    "model.add(Dense(8,input_dim=4,activation='relu'))\n",
    "model.add(Dense(3,activation='softmax')) # [0.2,0.3,0.5]\n",
    "# compile the model\n",
    "model.compile(\n",
    "    loss='categorical_crossentropy', # what are we performing? in this case categorical data\n",
    "    optimizer='adam',\n",
    "    metrics=['accuracy'] # what are we trainig? what are we gonig to report back?. In this case, accuracy.\n",
    ")"
   ]
  },
  {
   "cell_type": "code",
   "execution_count": 34,
   "metadata": {},
   "outputs": [
    {
     "output_type": "stream",
     "name": "stdout",
     "text": [
      "Model: \"sequential\"\n_________________________________________________________________\nLayer (type)                 Output Shape              Param #   \n=================================================================\ndense (Dense)                (None, 8)                 40        \n_________________________________________________________________\ndense_1 (Dense)              (None, 8)                 72        \n_________________________________________________________________\ndense_2 (Dense)              (None, 3)                 27        \n=================================================================\nTotal params: 139\nTrainable params: 139\nNon-trainable params: 0\n_________________________________________________________________\n"
     ]
    }
   ],
   "source": [
    "model.summary()"
   ]
  },
  {
   "cell_type": "code",
   "execution_count": 35,
   "metadata": {},
   "outputs": [
    {
     "output_type": "stream",
     "name": "stdout",
     "text": [
      "Epoch 1/150\n",
      "4/4 - 0s - loss: 1.0969 - accuracy: 0.3500\n",
      "Epoch 2/150\n",
      "4/4 - 0s - loss: 1.0920 - accuracy: 0.3500\n",
      "Epoch 3/150\n",
      "4/4 - 0s - loss: 1.0874 - accuracy: 0.3600\n",
      "Epoch 4/150\n",
      "4/4 - 0s - loss: 1.0827 - accuracy: 0.3700\n",
      "Epoch 5/150\n",
      "4/4 - 0s - loss: 1.0783 - accuracy: 0.4200\n",
      "Epoch 6/150\n",
      "4/4 - 0s - loss: 1.0738 - accuracy: 0.4800\n",
      "Epoch 7/150\n",
      "4/4 - 0s - loss: 1.0698 - accuracy: 0.5700\n",
      "Epoch 8/150\n",
      "4/4 - 0s - loss: 1.0657 - accuracy: 0.6200\n",
      "Epoch 9/150\n",
      "4/4 - 0s - loss: 1.0616 - accuracy: 0.6400\n",
      "Epoch 10/150\n",
      "4/4 - 0s - loss: 1.0574 - accuracy: 0.6600\n",
      "Epoch 11/150\n",
      "4/4 - 0s - loss: 1.0533 - accuracy: 0.6600\n",
      "Epoch 12/150\n",
      "4/4 - 0s - loss: 1.0489 - accuracy: 0.6600\n",
      "Epoch 13/150\n",
      "4/4 - 0s - loss: 1.0445 - accuracy: 0.6600\n",
      "Epoch 14/150\n",
      "4/4 - 0s - loss: 1.0402 - accuracy: 0.6600\n",
      "Epoch 15/150\n",
      "4/4 - 0s - loss: 1.0355 - accuracy: 0.6600\n",
      "Epoch 16/150\n",
      "4/4 - 0s - loss: 1.0304 - accuracy: 0.6600\n",
      "Epoch 17/150\n",
      "4/4 - 0s - loss: 1.0251 - accuracy: 0.6600\n",
      "Epoch 18/150\n",
      "4/4 - 0s - loss: 1.0195 - accuracy: 0.6600\n",
      "Epoch 19/150\n",
      "4/4 - 0s - loss: 1.0136 - accuracy: 0.6600\n",
      "Epoch 20/150\n",
      "4/4 - 0s - loss: 1.0077 - accuracy: 0.6600\n",
      "Epoch 21/150\n",
      "4/4 - 0s - loss: 1.0012 - accuracy: 0.6600\n",
      "Epoch 22/150\n",
      "4/4 - 0s - loss: 0.9949 - accuracy: 0.6600\n",
      "Epoch 23/150\n",
      "4/4 - 0s - loss: 0.9882 - accuracy: 0.6600\n",
      "Epoch 24/150\n",
      "4/4 - 0s - loss: 0.9815 - accuracy: 0.6600\n",
      "Epoch 25/150\n",
      "4/4 - 0s - loss: 0.9747 - accuracy: 0.6600\n",
      "Epoch 26/150\n",
      "4/4 - 0s - loss: 0.9677 - accuracy: 0.6600\n",
      "Epoch 27/150\n",
      "4/4 - 0s - loss: 0.9605 - accuracy: 0.6600\n",
      "Epoch 28/150\n",
      "4/4 - 0s - loss: 0.9532 - accuracy: 0.6600\n",
      "Epoch 29/150\n",
      "4/4 - 0s - loss: 0.9461 - accuracy: 0.6600\n",
      "Epoch 30/150\n",
      "4/4 - 0s - loss: 0.9386 - accuracy: 0.6600\n",
      "Epoch 31/150\n",
      "4/4 - 0s - loss: 0.9311 - accuracy: 0.6600\n",
      "Epoch 32/150\n",
      "4/4 - 0s - loss: 0.9237 - accuracy: 0.6600\n",
      "Epoch 33/150\n",
      "4/4 - 0s - loss: 0.9163 - accuracy: 0.6600\n",
      "Epoch 34/150\n",
      "4/4 - 0s - loss: 0.9087 - accuracy: 0.6600\n",
      "Epoch 35/150\n",
      "4/4 - 0s - loss: 0.9014 - accuracy: 0.6600\n",
      "Epoch 36/150\n",
      "4/4 - 0s - loss: 0.8936 - accuracy: 0.6600\n",
      "Epoch 37/150\n",
      "4/4 - 0s - loss: 0.8857 - accuracy: 0.6600\n",
      "Epoch 38/150\n",
      "4/4 - 0s - loss: 0.8777 - accuracy: 0.6600\n",
      "Epoch 39/150\n",
      "4/4 - 0s - loss: 0.8698 - accuracy: 0.6600\n",
      "Epoch 40/150\n",
      "4/4 - 0s - loss: 0.8615 - accuracy: 0.6600\n",
      "Epoch 41/150\n",
      "4/4 - 0s - loss: 0.8534 - accuracy: 0.6600\n",
      "Epoch 42/150\n",
      "4/4 - 0s - loss: 0.8454 - accuracy: 0.6600\n",
      "Epoch 43/150\n",
      "4/4 - 0s - loss: 0.8366 - accuracy: 0.6600\n",
      "Epoch 44/150\n",
      "4/4 - 0s - loss: 0.8283 - accuracy: 0.6600\n",
      "Epoch 45/150\n",
      "4/4 - 0s - loss: 0.8191 - accuracy: 0.6600\n",
      "Epoch 46/150\n",
      "4/4 - 0s - loss: 0.8102 - accuracy: 0.6600\n",
      "Epoch 47/150\n",
      "4/4 - 0s - loss: 0.8018 - accuracy: 0.6600\n",
      "Epoch 48/150\n",
      "4/4 - 0s - loss: 0.7930 - accuracy: 0.6600\n",
      "Epoch 49/150\n",
      "4/4 - 0s - loss: 0.7843 - accuracy: 0.6600\n",
      "Epoch 50/150\n",
      "4/4 - 0s - loss: 0.7761 - accuracy: 0.6600\n",
      "Epoch 51/150\n",
      "4/4 - 0s - loss: 0.7677 - accuracy: 0.6600\n",
      "Epoch 52/150\n",
      "4/4 - 0s - loss: 0.7596 - accuracy: 0.6600\n",
      "Epoch 53/150\n",
      "4/4 - 0s - loss: 0.7517 - accuracy: 0.6600\n",
      "Epoch 54/150\n",
      "4/4 - 0s - loss: 0.7435 - accuracy: 0.6600\n",
      "Epoch 55/150\n",
      "4/4 - 0s - loss: 0.7354 - accuracy: 0.6600\n",
      "Epoch 56/150\n",
      "4/4 - 0s - loss: 0.7278 - accuracy: 0.6600\n",
      "Epoch 57/150\n",
      "4/4 - 0s - loss: 0.7200 - accuracy: 0.6600\n",
      "Epoch 58/150\n",
      "4/4 - 0s - loss: 0.7122 - accuracy: 0.6600\n",
      "Epoch 59/150\n",
      "4/4 - 0s - loss: 0.7045 - accuracy: 0.6600\n",
      "Epoch 60/150\n",
      "4/4 - 0s - loss: 0.6963 - accuracy: 0.6600\n",
      "Epoch 61/150\n",
      "4/4 - 0s - loss: 0.6889 - accuracy: 0.6600\n",
      "Epoch 62/150\n",
      "4/4 - 0s - loss: 0.6814 - accuracy: 0.6600\n",
      "Epoch 63/150\n",
      "4/4 - 0s - loss: 0.6743 - accuracy: 0.6600\n",
      "Epoch 64/150\n",
      "4/4 - 0s - loss: 0.6673 - accuracy: 0.6600\n",
      "Epoch 65/150\n",
      "4/4 - 0s - loss: 0.6601 - accuracy: 0.6600\n",
      "Epoch 66/150\n",
      "4/4 - 0s - loss: 0.6532 - accuracy: 0.6600\n",
      "Epoch 67/150\n",
      "4/4 - 0s - loss: 0.6465 - accuracy: 0.6600\n",
      "Epoch 68/150\n",
      "4/4 - 0s - loss: 0.6398 - accuracy: 0.6600\n",
      "Epoch 69/150\n",
      "4/4 - 0s - loss: 0.6335 - accuracy: 0.6600\n",
      "Epoch 70/150\n",
      "4/4 - 0s - loss: 0.6274 - accuracy: 0.6600\n",
      "Epoch 71/150\n",
      "4/4 - 0s - loss: 0.6213 - accuracy: 0.6700\n",
      "Epoch 72/150\n",
      "4/4 - 0s - loss: 0.6152 - accuracy: 0.6700\n",
      "Epoch 73/150\n",
      "4/4 - 0s - loss: 0.6097 - accuracy: 0.6700\n",
      "Epoch 74/150\n",
      "4/4 - 0s - loss: 0.6039 - accuracy: 0.6900\n",
      "Epoch 75/150\n",
      "4/4 - 0s - loss: 0.5981 - accuracy: 0.7100\n",
      "Epoch 76/150\n",
      "4/4 - 0s - loss: 0.5928 - accuracy: 0.7300\n",
      "Epoch 77/150\n",
      "4/4 - 0s - loss: 0.5875 - accuracy: 0.7500\n",
      "Epoch 78/150\n",
      "4/4 - 0s - loss: 0.5824 - accuracy: 0.8300\n",
      "Epoch 79/150\n",
      "4/4 - 0s - loss: 0.5776 - accuracy: 0.8700\n",
      "Epoch 80/150\n",
      "4/4 - 0s - loss: 0.5727 - accuracy: 0.8700\n",
      "Epoch 81/150\n",
      "4/4 - 0s - loss: 0.5680 - accuracy: 0.8600\n",
      "Epoch 82/150\n",
      "4/4 - 0s - loss: 0.5632 - accuracy: 0.8900\n",
      "Epoch 83/150\n",
      "4/4 - 0s - loss: 0.5587 - accuracy: 0.8700\n",
      "Epoch 84/150\n",
      "4/4 - 0s - loss: 0.5544 - accuracy: 0.9200\n",
      "Epoch 85/150\n",
      "4/4 - 0s - loss: 0.5501 - accuracy: 0.9200\n",
      "Epoch 86/150\n",
      "4/4 - 0s - loss: 0.5460 - accuracy: 0.9300\n",
      "Epoch 87/150\n",
      "4/4 - 0s - loss: 0.5420 - accuracy: 0.9400\n",
      "Epoch 88/150\n",
      "4/4 - 0s - loss: 0.5382 - accuracy: 0.9400\n",
      "Epoch 89/150\n",
      "4/4 - 0s - loss: 0.5344 - accuracy: 0.9400\n",
      "Epoch 90/150\n",
      "4/4 - 0s - loss: 0.5307 - accuracy: 0.9500\n",
      "Epoch 91/150\n",
      "4/4 - 0s - loss: 0.5272 - accuracy: 0.9500\n",
      "Epoch 92/150\n",
      "4/4 - 0s - loss: 0.5236 - accuracy: 0.9500\n",
      "Epoch 93/150\n",
      "4/4 - 0s - loss: 0.5202 - accuracy: 0.9500\n",
      "Epoch 94/150\n",
      "4/4 - 0s - loss: 0.5166 - accuracy: 0.9500\n",
      "Epoch 95/150\n",
      "4/4 - 0s - loss: 0.5131 - accuracy: 0.9500\n",
      "Epoch 96/150\n",
      "4/4 - 0s - loss: 0.5098 - accuracy: 0.9500\n",
      "Epoch 97/150\n",
      "4/4 - 0s - loss: 0.5066 - accuracy: 0.9500\n",
      "Epoch 98/150\n",
      "4/4 - 0s - loss: 0.5034 - accuracy: 0.9500\n",
      "Epoch 99/150\n",
      "4/4 - 0s - loss: 0.5001 - accuracy: 0.9600\n",
      "Epoch 100/150\n",
      "4/4 - 0s - loss: 0.4971 - accuracy: 0.9600\n",
      "Epoch 101/150\n",
      "4/4 - 0s - loss: 0.4936 - accuracy: 0.9600\n",
      "Epoch 102/150\n",
      "4/4 - 0s - loss: 0.4905 - accuracy: 0.9500\n",
      "Epoch 103/150\n",
      "4/4 - 0s - loss: 0.4873 - accuracy: 0.9500\n",
      "Epoch 104/150\n",
      "4/4 - 0s - loss: 0.4842 - accuracy: 0.9600\n",
      "Epoch 105/150\n",
      "4/4 - 0s - loss: 0.4809 - accuracy: 0.9600\n",
      "Epoch 106/150\n",
      "4/4 - 0s - loss: 0.4778 - accuracy: 0.9700\n",
      "Epoch 107/150\n",
      "4/4 - 0s - loss: 0.4752 - accuracy: 0.9500\n",
      "Epoch 108/150\n",
      "4/4 - 0s - loss: 0.4727 - accuracy: 0.9600\n",
      "Epoch 109/150\n",
      "4/4 - 0s - loss: 0.4701 - accuracy: 0.9400\n",
      "Epoch 110/150\n",
      "4/4 - 0s - loss: 0.4667 - accuracy: 0.9600\n",
      "Epoch 111/150\n",
      "4/4 - 0s - loss: 0.4635 - accuracy: 0.9600\n",
      "Epoch 112/150\n",
      "4/4 - 0s - loss: 0.4603 - accuracy: 0.9600\n",
      "Epoch 113/150\n",
      "4/4 - 0s - loss: 0.4568 - accuracy: 0.9500\n",
      "Epoch 114/150\n",
      "4/4 - 0s - loss: 0.4532 - accuracy: 0.9600\n",
      "Epoch 115/150\n",
      "4/4 - 0s - loss: 0.4504 - accuracy: 0.9500\n",
      "Epoch 116/150\n",
      "4/4 - 0s - loss: 0.4473 - accuracy: 0.9600\n",
      "Epoch 117/150\n",
      "4/4 - 0s - loss: 0.4436 - accuracy: 0.9600\n",
      "Epoch 118/150\n",
      "4/4 - 0s - loss: 0.4401 - accuracy: 0.9600\n",
      "Epoch 119/150\n",
      "4/4 - 0s - loss: 0.4367 - accuracy: 0.9600\n",
      "Epoch 120/150\n",
      "4/4 - 0s - loss: 0.4344 - accuracy: 0.9500\n",
      "Epoch 121/150\n",
      "4/4 - 0s - loss: 0.4317 - accuracy: 0.9500\n",
      "Epoch 122/150\n",
      "4/4 - 0s - loss: 0.4287 - accuracy: 0.9500\n",
      "Epoch 123/150\n",
      "4/4 - 0s - loss: 0.4264 - accuracy: 0.9500\n",
      "Epoch 124/150\n",
      "4/4 - 0s - loss: 0.4229 - accuracy: 0.9500\n",
      "Epoch 125/150\n",
      "4/4 - 0s - loss: 0.4199 - accuracy: 0.9500\n",
      "Epoch 126/150\n",
      "4/4 - 0s - loss: 0.4163 - accuracy: 0.9500\n",
      "Epoch 127/150\n",
      "4/4 - 0s - loss: 0.4133 - accuracy: 0.9500\n",
      "Epoch 128/150\n",
      "4/4 - 0s - loss: 0.4104 - accuracy: 0.9500\n",
      "Epoch 129/150\n",
      "4/4 - 0s - loss: 0.4074 - accuracy: 0.9500\n",
      "Epoch 130/150\n",
      "4/4 - 0s - loss: 0.4042 - accuracy: 0.9500\n",
      "Epoch 131/150\n",
      "4/4 - 0s - loss: 0.4011 - accuracy: 0.9500\n",
      "Epoch 132/150\n",
      "4/4 - 0s - loss: 0.3980 - accuracy: 0.9500\n",
      "Epoch 133/150\n",
      "4/4 - 0s - loss: 0.3947 - accuracy: 0.9500\n",
      "Epoch 134/150\n",
      "4/4 - 0s - loss: 0.3923 - accuracy: 0.9500\n",
      "Epoch 135/150\n",
      "4/4 - 0s - loss: 0.3895 - accuracy: 0.9500\n",
      "Epoch 136/150\n",
      "4/4 - 0s - loss: 0.3856 - accuracy: 0.9500\n",
      "Epoch 137/150\n",
      "4/4 - 0s - loss: 0.3826 - accuracy: 0.9600\n",
      "Epoch 138/150\n",
      "4/4 - 0s - loss: 0.3789 - accuracy: 0.9600\n",
      "Epoch 139/150\n",
      "4/4 - 0s - loss: 0.3758 - accuracy: 0.9500\n",
      "Epoch 140/150\n",
      "4/4 - 0s - loss: 0.3731 - accuracy: 0.9500\n",
      "Epoch 141/150\n",
      "4/4 - 0s - loss: 0.3700 - accuracy: 0.9500\n",
      "Epoch 142/150\n",
      "4/4 - 0s - loss: 0.3667 - accuracy: 0.9500\n",
      "Epoch 143/150\n",
      "4/4 - 0s - loss: 0.3633 - accuracy: 0.9600\n",
      "Epoch 144/150\n",
      "4/4 - 0s - loss: 0.3603 - accuracy: 0.9700\n",
      "Epoch 145/150\n",
      "4/4 - 0s - loss: 0.3568 - accuracy: 0.9700\n",
      "Epoch 146/150\n",
      "4/4 - 0s - loss: 0.3536 - accuracy: 0.9600\n",
      "Epoch 147/150\n",
      "4/4 - 0s - loss: 0.3504 - accuracy: 0.9600\n",
      "Epoch 148/150\n",
      "4/4 - 0s - loss: 0.3476 - accuracy: 0.9600\n",
      "Epoch 149/150\n",
      "4/4 - 0s - loss: 0.3451 - accuracy: 0.9700\n",
      "Epoch 150/150\n",
      "4/4 - 0s - loss: 0.3432 - accuracy: 0.9700\n"
     ]
    },
    {
     "output_type": "execute_result",
     "data": {
      "text/plain": [
       "<tensorflow.python.keras.callbacks.History at 0x1a65baaa90>"
      ]
     },
     "metadata": {},
     "execution_count": 35
    }
   ],
   "source": [
    " model.fit(scaled_X_train, y_train, epochs=150, verbose=2) # train our model with our scale data"
   ]
  },
  {
   "cell_type": "code",
   "execution_count": null,
   "metadata": {},
   "outputs": [],
   "source": []
  }
 ]
}