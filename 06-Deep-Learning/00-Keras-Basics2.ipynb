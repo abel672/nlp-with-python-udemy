{
 "metadata": {
  "language_info": {
   "codemirror_mode": {
    "name": "ipython",
    "version": 3
   },
   "file_extension": ".py",
   "mimetype": "text/x-python",
   "name": "python",
   "nbconvert_exporter": "python",
   "pygments_lexer": "ipython3",
   "version": "3.7.4-final"
  },
  "orig_nbformat": 2,
  "kernelspec": {
   "name": "python3",
   "display_name": "Python 3",
   "language": "python"
  }
 },
 "nbformat": 4,
 "nbformat_minor": 2,
 "cells": [
  {
   "cell_type": "code",
   "execution_count": 2,
   "metadata": {},
   "outputs": [],
   "source": [
    "import numpy as np"
   ]
  },
  {
   "cell_type": "code",
   "execution_count": 3,
   "metadata": {},
   "outputs": [],
   "source": [
    "from sklearn.datasets import load_iris"
   ]
  },
  {
   "cell_type": "code",
   "execution_count": 4,
   "metadata": {},
   "outputs": [],
   "source": [
    "iris = load_iris()"
   ]
  },
  {
   "cell_type": "code",
   "execution_count": 5,
   "metadata": {},
   "outputs": [
    {
     "output_type": "execute_result",
     "data": {
      "text/plain": [
       "sklearn.utils.Bunch"
      ]
     },
     "metadata": {},
     "execution_count": 5
    }
   ],
   "source": [
    "type(iris)"
   ]
  },
  {
   "cell_type": "code",
   "execution_count": 6,
   "metadata": {},
   "outputs": [
    {
     "output_type": "stream",
     "name": "stdout",
     "text": [
      ".. _iris_dataset:\n\nIris plants dataset\n--------------------\n\n**Data Set Characteristics:**\n\n    :Number of Instances: 150 (50 in each of three classes)\n    :Number of Attributes: 4 numeric, predictive attributes and the class\n    :Attribute Information:\n        - sepal length in cm\n        - sepal width in cm\n        - petal length in cm\n        - petal width in cm\n        - class:\n                - Iris-Setosa\n                - Iris-Versicolour\n                - Iris-Virginica\n                \n    :Summary Statistics:\n\n    ============== ==== ==== ======= ===== ====================\n                    Min  Max   Mean    SD   Class Correlation\n    ============== ==== ==== ======= ===== ====================\n    sepal length:   4.3  7.9   5.84   0.83    0.7826\n    sepal width:    2.0  4.4   3.05   0.43   -0.4194\n    petal length:   1.0  6.9   3.76   1.76    0.9490  (high!)\n    petal width:    0.1  2.5   1.20   0.76    0.9565  (high!)\n    ============== ==== ==== ======= ===== ====================\n\n    :Missing Attribute Values: None\n    :Class Distribution: 33.3% for each of 3 classes.\n    :Creator: R.A. Fisher\n    :Donor: Michael Marshall (MARSHALL%PLU@io.arc.nasa.gov)\n    :Date: July, 1988\n\nThe famous Iris database, first used by Sir R.A. Fisher. The dataset is taken\nfrom Fisher's paper. Note that it's the same as in R, but not as in the UCI\nMachine Learning Repository, which has two wrong data points.\n\nThis is perhaps the best known database to be found in the\npattern recognition literature.  Fisher's paper is a classic in the field and\nis referenced frequently to this day.  (See Duda & Hart, for example.)  The\ndata set contains 3 classes of 50 instances each, where each class refers to a\ntype of iris plant.  One class is linearly separable from the other 2; the\nlatter are NOT linearly separable from each other.\n\n.. topic:: References\n\n   - Fisher, R.A. \"The use of multiple measurements in taxonomic problems\"\n     Annual Eugenics, 7, Part II, 179-188 (1936); also in \"Contributions to\n     Mathematical Statistics\" (John Wiley, NY, 1950).\n   - Duda, R.O., & Hart, P.E. (1973) Pattern Classification and Scene Analysis.\n     (Q327.D83) John Wiley & Sons.  ISBN 0-471-22361-1.  See page 218.\n   - Dasarathy, B.V. (1980) \"Nosing Around the Neighborhood: A New System\n     Structure and Classification Rule for Recognition in Partially Exposed\n     Environments\".  IEEE Transactions on Pattern Analysis and Machine\n     Intelligence, Vol. PAMI-2, No. 1, 67-71.\n   - Gates, G.W. (1972) \"The Reduced Nearest Neighbor Rule\".  IEEE Transactions\n     on Information Theory, May 1972, 431-433.\n   - See also: 1988 MLC Proceedings, 54-64.  Cheeseman et al\"s AUTOCLASS II\n     conceptual clustering system finds 3 classes in the data.\n   - Many, many more ...\n"
     ]
    }
   ],
   "source": [
    "print(iris.DESCR)"
   ]
  },
  {
   "cell_type": "code",
   "execution_count": 7,
   "metadata": {},
   "outputs": [],
   "source": [
    "X = iris.data"
   ]
  },
  {
   "cell_type": "code",
   "execution_count": 8,
   "metadata": {},
   "outputs": [
    {
     "output_type": "execute_result",
     "data": {
      "text/plain": [
       "array([[5.1, 3.5, 1.4, 0.2],\n",
       "       [4.9, 3. , 1.4, 0.2],\n",
       "       [4.7, 3.2, 1.3, 0.2],\n",
       "       [4.6, 3.1, 1.5, 0.2],\n",
       "       [5. , 3.6, 1.4, 0.2],\n",
       "       [5.4, 3.9, 1.7, 0.4],\n",
       "       [4.6, 3.4, 1.4, 0.3],\n",
       "       [5. , 3.4, 1.5, 0.2],\n",
       "       [4.4, 2.9, 1.4, 0.2],\n",
       "       [4.9, 3.1, 1.5, 0.1],\n",
       "       [5.4, 3.7, 1.5, 0.2],\n",
       "       [4.8, 3.4, 1.6, 0.2],\n",
       "       [4.8, 3. , 1.4, 0.1],\n",
       "       [4.3, 3. , 1.1, 0.1],\n",
       "       [5.8, 4. , 1.2, 0.2],\n",
       "       [5.7, 4.4, 1.5, 0.4],\n",
       "       [5.4, 3.9, 1.3, 0.4],\n",
       "       [5.1, 3.5, 1.4, 0.3],\n",
       "       [5.7, 3.8, 1.7, 0.3],\n",
       "       [5.1, 3.8, 1.5, 0.3],\n",
       "       [5.4, 3.4, 1.7, 0.2],\n",
       "       [5.1, 3.7, 1.5, 0.4],\n",
       "       [4.6, 3.6, 1. , 0.2],\n",
       "       [5.1, 3.3, 1.7, 0.5],\n",
       "       [4.8, 3.4, 1.9, 0.2],\n",
       "       [5. , 3. , 1.6, 0.2],\n",
       "       [5. , 3.4, 1.6, 0.4],\n",
       "       [5.2, 3.5, 1.5, 0.2],\n",
       "       [5.2, 3.4, 1.4, 0.2],\n",
       "       [4.7, 3.2, 1.6, 0.2],\n",
       "       [4.8, 3.1, 1.6, 0.2],\n",
       "       [5.4, 3.4, 1.5, 0.4],\n",
       "       [5.2, 4.1, 1.5, 0.1],\n",
       "       [5.5, 4.2, 1.4, 0.2],\n",
       "       [4.9, 3.1, 1.5, 0.2],\n",
       "       [5. , 3.2, 1.2, 0.2],\n",
       "       [5.5, 3.5, 1.3, 0.2],\n",
       "       [4.9, 3.6, 1.4, 0.1],\n",
       "       [4.4, 3. , 1.3, 0.2],\n",
       "       [5.1, 3.4, 1.5, 0.2],\n",
       "       [5. , 3.5, 1.3, 0.3],\n",
       "       [4.5, 2.3, 1.3, 0.3],\n",
       "       [4.4, 3.2, 1.3, 0.2],\n",
       "       [5. , 3.5, 1.6, 0.6],\n",
       "       [5.1, 3.8, 1.9, 0.4],\n",
       "       [4.8, 3. , 1.4, 0.3],\n",
       "       [5.1, 3.8, 1.6, 0.2],\n",
       "       [4.6, 3.2, 1.4, 0.2],\n",
       "       [5.3, 3.7, 1.5, 0.2],\n",
       "       [5. , 3.3, 1.4, 0.2],\n",
       "       [7. , 3.2, 4.7, 1.4],\n",
       "       [6.4, 3.2, 4.5, 1.5],\n",
       "       [6.9, 3.1, 4.9, 1.5],\n",
       "       [5.5, 2.3, 4. , 1.3],\n",
       "       [6.5, 2.8, 4.6, 1.5],\n",
       "       [5.7, 2.8, 4.5, 1.3],\n",
       "       [6.3, 3.3, 4.7, 1.6],\n",
       "       [4.9, 2.4, 3.3, 1. ],\n",
       "       [6.6, 2.9, 4.6, 1.3],\n",
       "       [5.2, 2.7, 3.9, 1.4],\n",
       "       [5. , 2. , 3.5, 1. ],\n",
       "       [5.9, 3. , 4.2, 1.5],\n",
       "       [6. , 2.2, 4. , 1. ],\n",
       "       [6.1, 2.9, 4.7, 1.4],\n",
       "       [5.6, 2.9, 3.6, 1.3],\n",
       "       [6.7, 3.1, 4.4, 1.4],\n",
       "       [5.6, 3. , 4.5, 1.5],\n",
       "       [5.8, 2.7, 4.1, 1. ],\n",
       "       [6.2, 2.2, 4.5, 1.5],\n",
       "       [5.6, 2.5, 3.9, 1.1],\n",
       "       [5.9, 3.2, 4.8, 1.8],\n",
       "       [6.1, 2.8, 4. , 1.3],\n",
       "       [6.3, 2.5, 4.9, 1.5],\n",
       "       [6.1, 2.8, 4.7, 1.2],\n",
       "       [6.4, 2.9, 4.3, 1.3],\n",
       "       [6.6, 3. , 4.4, 1.4],\n",
       "       [6.8, 2.8, 4.8, 1.4],\n",
       "       [6.7, 3. , 5. , 1.7],\n",
       "       [6. , 2.9, 4.5, 1.5],\n",
       "       [5.7, 2.6, 3.5, 1. ],\n",
       "       [5.5, 2.4, 3.8, 1.1],\n",
       "       [5.5, 2.4, 3.7, 1. ],\n",
       "       [5.8, 2.7, 3.9, 1.2],\n",
       "       [6. , 2.7, 5.1, 1.6],\n",
       "       [5.4, 3. , 4.5, 1.5],\n",
       "       [6. , 3.4, 4.5, 1.6],\n",
       "       [6.7, 3.1, 4.7, 1.5],\n",
       "       [6.3, 2.3, 4.4, 1.3],\n",
       "       [5.6, 3. , 4.1, 1.3],\n",
       "       [5.5, 2.5, 4. , 1.3],\n",
       "       [5.5, 2.6, 4.4, 1.2],\n",
       "       [6.1, 3. , 4.6, 1.4],\n",
       "       [5.8, 2.6, 4. , 1.2],\n",
       "       [5. , 2.3, 3.3, 1. ],\n",
       "       [5.6, 2.7, 4.2, 1.3],\n",
       "       [5.7, 3. , 4.2, 1.2],\n",
       "       [5.7, 2.9, 4.2, 1.3],\n",
       "       [6.2, 2.9, 4.3, 1.3],\n",
       "       [5.1, 2.5, 3. , 1.1],\n",
       "       [5.7, 2.8, 4.1, 1.3],\n",
       "       [6.3, 3.3, 6. , 2.5],\n",
       "       [5.8, 2.7, 5.1, 1.9],\n",
       "       [7.1, 3. , 5.9, 2.1],\n",
       "       [6.3, 2.9, 5.6, 1.8],\n",
       "       [6.5, 3. , 5.8, 2.2],\n",
       "       [7.6, 3. , 6.6, 2.1],\n",
       "       [4.9, 2.5, 4.5, 1.7],\n",
       "       [7.3, 2.9, 6.3, 1.8],\n",
       "       [6.7, 2.5, 5.8, 1.8],\n",
       "       [7.2, 3.6, 6.1, 2.5],\n",
       "       [6.5, 3.2, 5.1, 2. ],\n",
       "       [6.4, 2.7, 5.3, 1.9],\n",
       "       [6.8, 3. , 5.5, 2.1],\n",
       "       [5.7, 2.5, 5. , 2. ],\n",
       "       [5.8, 2.8, 5.1, 2.4],\n",
       "       [6.4, 3.2, 5.3, 2.3],\n",
       "       [6.5, 3. , 5.5, 1.8],\n",
       "       [7.7, 3.8, 6.7, 2.2],\n",
       "       [7.7, 2.6, 6.9, 2.3],\n",
       "       [6. , 2.2, 5. , 1.5],\n",
       "       [6.9, 3.2, 5.7, 2.3],\n",
       "       [5.6, 2.8, 4.9, 2. ],\n",
       "       [7.7, 2.8, 6.7, 2. ],\n",
       "       [6.3, 2.7, 4.9, 1.8],\n",
       "       [6.7, 3.3, 5.7, 2.1],\n",
       "       [7.2, 3.2, 6. , 1.8],\n",
       "       [6.2, 2.8, 4.8, 1.8],\n",
       "       [6.1, 3. , 4.9, 1.8],\n",
       "       [6.4, 2.8, 5.6, 2.1],\n",
       "       [7.2, 3. , 5.8, 1.6],\n",
       "       [7.4, 2.8, 6.1, 1.9],\n",
       "       [7.9, 3.8, 6.4, 2. ],\n",
       "       [6.4, 2.8, 5.6, 2.2],\n",
       "       [6.3, 2.8, 5.1, 1.5],\n",
       "       [6.1, 2.6, 5.6, 1.4],\n",
       "       [7.7, 3. , 6.1, 2.3],\n",
       "       [6.3, 3.4, 5.6, 2.4],\n",
       "       [6.4, 3.1, 5.5, 1.8],\n",
       "       [6. , 3. , 4.8, 1.8],\n",
       "       [6.9, 3.1, 5.4, 2.1],\n",
       "       [6.7, 3.1, 5.6, 2.4],\n",
       "       [6.9, 3.1, 5.1, 2.3],\n",
       "       [5.8, 2.7, 5.1, 1.9],\n",
       "       [6.8, 3.2, 5.9, 2.3],\n",
       "       [6.7, 3.3, 5.7, 2.5],\n",
       "       [6.7, 3. , 5.2, 2.3],\n",
       "       [6.3, 2.5, 5. , 1.9],\n",
       "       [6.5, 3. , 5.2, 2. ],\n",
       "       [6.2, 3.4, 5.4, 2.3],\n",
       "       [5.9, 3. , 5.1, 1.8]])"
      ]
     },
     "metadata": {},
     "execution_count": 8
    }
   ],
   "source": [
    "X # numpy array with four measurments (sepal length, sepal width, petal length, petal width)"
   ]
  },
  {
   "cell_type": "code",
   "execution_count": 9,
   "metadata": {},
   "outputs": [],
   "source": [
    "y = iris.target"
   ]
  },
  {
   "cell_type": "code",
   "execution_count": 10,
   "metadata": {},
   "outputs": [
    {
     "output_type": "execute_result",
     "data": {
      "text/plain": [
       "array([0, 0, 0, 0, 0, 0, 0, 0, 0, 0, 0, 0, 0, 0, 0, 0, 0, 0, 0, 0, 0, 0,\n",
       "       0, 0, 0, 0, 0, 0, 0, 0, 0, 0, 0, 0, 0, 0, 0, 0, 0, 0, 0, 0, 0, 0,\n",
       "       0, 0, 0, 0, 0, 0, 1, 1, 1, 1, 1, 1, 1, 1, 1, 1, 1, 1, 1, 1, 1, 1,\n",
       "       1, 1, 1, 1, 1, 1, 1, 1, 1, 1, 1, 1, 1, 1, 1, 1, 1, 1, 1, 1, 1, 1,\n",
       "       1, 1, 1, 1, 1, 1, 1, 1, 1, 1, 1, 1, 2, 2, 2, 2, 2, 2, 2, 2, 2, 2,\n",
       "       2, 2, 2, 2, 2, 2, 2, 2, 2, 2, 2, 2, 2, 2, 2, 2, 2, 2, 2, 2, 2, 2,\n",
       "       2, 2, 2, 2, 2, 2, 2, 2, 2, 2, 2, 2, 2, 2, 2, 2, 2, 2])"
      ]
     },
     "metadata": {},
     "execution_count": 10
    }
   ],
   "source": [
    "y # classes"
   ]
  },
  {
   "cell_type": "code",
   "execution_count": 11,
   "metadata": {},
   "outputs": [],
   "source": [
    "# this is how keras will setup the classes from 'y'\n",
    "# class 0 --> [1,0,0]\n",
    "# class 1 --> [0,1,0]\n",
    "# class 2 --> [0,0,1]"
   ]
  },
  {
   "cell_type": "code",
   "execution_count": 12,
   "metadata": {},
   "outputs": [],
   "source": [
    "from keras.utils import to_categorical"
   ]
  },
  {
   "cell_type": "code",
   "execution_count": 13,
   "metadata": {},
   "outputs": [],
   "source": [
    "y = to_categorical(y)"
   ]
  },
  {
   "cell_type": "code",
   "execution_count": 14,
   "metadata": {},
   "outputs": [
    {
     "output_type": "execute_result",
     "data": {
      "text/plain": [
       "(150, 3)"
      ]
     },
     "metadata": {},
     "execution_count": 14
    }
   ],
   "source": [
    "y.shape"
   ]
  },
  {
   "cell_type": "code",
   "execution_count": 15,
   "metadata": {},
   "outputs": [],
   "source": [
    "# step 1: Train the data that you have with sklearn\n",
    "from sklearn.model_selection import train_test_split"
   ]
  },
  {
   "cell_type": "code",
   "execution_count": 16,
   "metadata": {},
   "outputs": [],
   "source": [
    "# X = 4 measurments, y = 3 classes models\n",
    "X_train, X_test, y_train, y_test = train_test_split(X, y, test_size=0.33, random_state=42)"
   ]
  },
  {
   "cell_type": "code",
   "execution_count": 17,
   "metadata": {},
   "outputs": [],
   "source": [
    "# y_test"
   ]
  },
  {
   "cell_type": "code",
   "execution_count": 18,
   "metadata": {},
   "outputs": [],
   "source": [
    "from sklearn.preprocessing import MinMaxScaler"
   ]
  },
  {
   "cell_type": "code",
   "execution_count": 19,
   "metadata": {},
   "outputs": [
    {
     "output_type": "execute_result",
     "data": {
      "text/plain": [
       "array([0.25, 0.5 , 0.75, 1.  ])"
      ]
     },
     "metadata": {},
     "execution_count": 19
    }
   ],
   "source": [
    "# how MinMaxScaler works\n",
    "np.array([5,10,15,20])/20 # [min, x, y, max]/max = (ranges between 0 to 1)"
   ]
  },
  {
   "cell_type": "code",
   "execution_count": 20,
   "metadata": {},
   "outputs": [],
   "source": [
    "scaler_object = MinMaxScaler()"
   ]
  },
  {
   "cell_type": "code",
   "execution_count": 21,
   "metadata": {},
   "outputs": [
    {
     "output_type": "execute_result",
     "data": {
      "text/plain": [
       "MinMaxScaler(copy=True, feature_range=(0, 1))"
      ]
     },
     "metadata": {},
     "execution_count": 21
    }
   ],
   "source": [
    "scaler_object.fit(X_train)"
   ]
  },
  {
   "cell_type": "code",
   "execution_count": 22,
   "metadata": {},
   "outputs": [],
   "source": [
    "scaled_X_train = scaler_object.transform(X_train)"
   ]
  },
  {
   "cell_type": "code",
   "execution_count": 23,
   "metadata": {},
   "outputs": [],
   "source": [
    "scaled_X_test = scaler_object.transform(X_test)"
   ]
  },
  {
   "cell_type": "code",
   "execution_count": 24,
   "metadata": {},
   "outputs": [],
   "source": [
    "# all the values are now between 0 and 1 (helps neural networkw to evade large symbiosis growing)\n",
    "# scaled_X_train"
   ]
  },
  {
   "cell_type": "code",
   "execution_count": 25,
   "metadata": {},
   "outputs": [],
   "source": [
    "# setp 2: Build a network with keras\n",
    "from keras.models import Sequential # Model to use. In this case sequencial, to add a sequence of layers\n",
    "from keras.layers import Dense # layers to use, in this case, Dense layers"
   ]
  },
  {
   "cell_type": "code",
   "execution_count": 26,
   "metadata": {},
   "outputs": [],
   "source": [
    "model = Sequential()\n",
    "model.add(Dense(8,input_dim=4,activation='relu'))\n",
    "model.add(Dense(8,input_dim=4,activation='relu'))\n",
    "model.add(Dense(3,activation='softmax')) # [0.2,0.3,0.5]\n",
    "# compile the model\n",
    "model.compile(\n",
    "    loss='categorical_crossentropy', # what are we performing? in this case categorical data\n",
    "    optimizer='adam',\n",
    "    metrics=['accuracy'] # what are we trainig? what are we gonig to report back?. In this case, accuracy.\n",
    ")"
   ]
  },
  {
   "cell_type": "code",
   "execution_count": 27,
   "metadata": {},
   "outputs": [
    {
     "output_type": "stream",
     "name": "stdout",
     "text": [
      "Model: \"sequential\"\n_________________________________________________________________\nLayer (type)                 Output Shape              Param #   \n=================================================================\ndense (Dense)                (None, 8)                 40        \n_________________________________________________________________\ndense_1 (Dense)              (None, 8)                 72        \n_________________________________________________________________\ndense_2 (Dense)              (None, 3)                 27        \n=================================================================\nTotal params: 139\nTrainable params: 139\nNon-trainable params: 0\n_________________________________________________________________\n"
     ]
    }
   ],
   "source": [
    "model.summary()"
   ]
  },
  {
   "cell_type": "code",
   "execution_count": 28,
   "metadata": {},
   "outputs": [
    {
     "output_type": "stream",
     "name": "stdout",
     "text": [
      "Epoch 1/150\n",
      "4/4 - 0s - loss: 1.0921 - accuracy: 0.3700\n",
      "Epoch 2/150\n",
      "4/4 - 0s - loss: 1.0880 - accuracy: 0.3700\n",
      "Epoch 3/150\n",
      "4/4 - 0s - loss: 1.0854 - accuracy: 0.3700\n",
      "Epoch 4/150\n",
      "4/4 - 0s - loss: 1.0826 - accuracy: 0.3700\n",
      "Epoch 5/150\n",
      "4/4 - 0s - loss: 1.0799 - accuracy: 0.3700\n",
      "Epoch 6/150\n",
      "4/4 - 0s - loss: 1.0772 - accuracy: 0.3700\n",
      "Epoch 7/150\n",
      "4/4 - 0s - loss: 1.0746 - accuracy: 0.3700\n",
      "Epoch 8/150\n",
      "4/4 - 0s - loss: 1.0721 - accuracy: 0.3700\n",
      "Epoch 9/150\n",
      "4/4 - 0s - loss: 1.0697 - accuracy: 0.3600\n",
      "Epoch 10/150\n",
      "4/4 - 0s - loss: 1.0670 - accuracy: 0.3400\n",
      "Epoch 11/150\n",
      "4/4 - 0s - loss: 1.0647 - accuracy: 0.3400\n",
      "Epoch 12/150\n",
      "4/4 - 0s - loss: 1.0619 - accuracy: 0.3400\n",
      "Epoch 13/150\n",
      "4/4 - 0s - loss: 1.0596 - accuracy: 0.3400\n",
      "Epoch 14/150\n",
      "4/4 - 0s - loss: 1.0568 - accuracy: 0.3400\n",
      "Epoch 15/150\n",
      "4/4 - 0s - loss: 1.0542 - accuracy: 0.3400\n",
      "Epoch 16/150\n",
      "4/4 - 0s - loss: 1.0514 - accuracy: 0.3400\n",
      "Epoch 17/150\n",
      "4/4 - 0s - loss: 1.0486 - accuracy: 0.3400\n",
      "Epoch 18/150\n",
      "4/4 - 0s - loss: 1.0458 - accuracy: 0.3400\n",
      "Epoch 19/150\n",
      "4/4 - 0s - loss: 1.0426 - accuracy: 0.3400\n",
      "Epoch 20/150\n",
      "4/4 - 0s - loss: 1.0392 - accuracy: 0.3400\n",
      "Epoch 21/150\n",
      "4/4 - 0s - loss: 1.0359 - accuracy: 0.3400\n",
      "Epoch 22/150\n",
      "4/4 - 0s - loss: 1.0323 - accuracy: 0.3400\n",
      "Epoch 23/150\n",
      "4/4 - 0s - loss: 1.0289 - accuracy: 0.3400\n",
      "Epoch 24/150\n",
      "4/4 - 0s - loss: 1.0252 - accuracy: 0.3400\n",
      "Epoch 25/150\n",
      "4/4 - 0s - loss: 1.0212 - accuracy: 0.3400\n",
      "Epoch 26/150\n",
      "4/4 - 0s - loss: 1.0169 - accuracy: 0.3400\n",
      "Epoch 27/150\n",
      "4/4 - 0s - loss: 1.0124 - accuracy: 0.3600\n",
      "Epoch 28/150\n",
      "4/4 - 0s - loss: 1.0077 - accuracy: 0.3900\n",
      "Epoch 29/150\n",
      "4/4 - 0s - loss: 1.0029 - accuracy: 0.4500\n",
      "Epoch 30/150\n",
      "4/4 - 0s - loss: 0.9981 - accuracy: 0.4900\n",
      "Epoch 31/150\n",
      "4/4 - 0s - loss: 0.9928 - accuracy: 0.5300\n",
      "Epoch 32/150\n",
      "4/4 - 0s - loss: 0.9878 - accuracy: 0.5400\n",
      "Epoch 33/150\n",
      "4/4 - 0s - loss: 0.9828 - accuracy: 0.5600\n",
      "Epoch 34/150\n",
      "4/4 - 0s - loss: 0.9777 - accuracy: 0.5700\n",
      "Epoch 35/150\n",
      "4/4 - 0s - loss: 0.9722 - accuracy: 0.6000\n",
      "Epoch 36/150\n",
      "4/4 - 0s - loss: 0.9664 - accuracy: 0.6200\n",
      "Epoch 37/150\n",
      "4/4 - 0s - loss: 0.9606 - accuracy: 0.6400\n",
      "Epoch 38/150\n",
      "4/4 - 0s - loss: 0.9549 - accuracy: 0.6400\n",
      "Epoch 39/150\n",
      "4/4 - 0s - loss: 0.9492 - accuracy: 0.6400\n",
      "Epoch 40/150\n",
      "4/4 - 0s - loss: 0.9429 - accuracy: 0.6400\n",
      "Epoch 41/150\n",
      "4/4 - 0s - loss: 0.9369 - accuracy: 0.6400\n",
      "Epoch 42/150\n",
      "4/4 - 0s - loss: 0.9310 - accuracy: 0.6400\n",
      "Epoch 43/150\n",
      "4/4 - 0s - loss: 0.9249 - accuracy: 0.6400\n",
      "Epoch 44/150\n",
      "4/4 - 0s - loss: 0.9186 - accuracy: 0.6400\n",
      "Epoch 45/150\n",
      "4/4 - 0s - loss: 0.9121 - accuracy: 0.6400\n",
      "Epoch 46/150\n",
      "4/4 - 0s - loss: 0.9056 - accuracy: 0.6400\n",
      "Epoch 47/150\n",
      "4/4 - 0s - loss: 0.8990 - accuracy: 0.6400\n",
      "Epoch 48/150\n",
      "4/4 - 0s - loss: 0.8914 - accuracy: 0.6400\n",
      "Epoch 49/150\n",
      "4/4 - 0s - loss: 0.8843 - accuracy: 0.6500\n",
      "Epoch 50/150\n",
      "4/4 - 0s - loss: 0.8773 - accuracy: 0.6500\n",
      "Epoch 51/150\n",
      "4/4 - 0s - loss: 0.8702 - accuracy: 0.6500\n",
      "Epoch 52/150\n",
      "4/4 - 0s - loss: 0.8628 - accuracy: 0.6500\n",
      "Epoch 53/150\n",
      "4/4 - 0s - loss: 0.8558 - accuracy: 0.6500\n",
      "Epoch 54/150\n",
      "4/4 - 0s - loss: 0.8489 - accuracy: 0.6500\n",
      "Epoch 55/150\n",
      "4/4 - 0s - loss: 0.8416 - accuracy: 0.6500\n",
      "Epoch 56/150\n",
      "4/4 - 0s - loss: 0.8344 - accuracy: 0.6500\n",
      "Epoch 57/150\n",
      "4/4 - 0s - loss: 0.8263 - accuracy: 0.6500\n",
      "Epoch 58/150\n",
      "4/4 - 0s - loss: 0.8190 - accuracy: 0.6500\n",
      "Epoch 59/150\n",
      "4/4 - 0s - loss: 0.8102 - accuracy: 0.6500\n",
      "Epoch 60/150\n",
      "4/4 - 0s - loss: 0.8027 - accuracy: 0.6500\n",
      "Epoch 61/150\n",
      "4/4 - 0s - loss: 0.7949 - accuracy: 0.6500\n",
      "Epoch 62/150\n",
      "4/4 - 0s - loss: 0.7874 - accuracy: 0.6500\n",
      "Epoch 63/150\n",
      "4/4 - 0s - loss: 0.7800 - accuracy: 0.6500\n",
      "Epoch 64/150\n",
      "4/4 - 0s - loss: 0.7726 - accuracy: 0.6500\n",
      "Epoch 65/150\n",
      "4/4 - 0s - loss: 0.7647 - accuracy: 0.6500\n",
      "Epoch 66/150\n",
      "4/4 - 0s - loss: 0.7576 - accuracy: 0.6500\n",
      "Epoch 67/150\n",
      "4/4 - 0s - loss: 0.7508 - accuracy: 0.6500\n",
      "Epoch 68/150\n",
      "4/4 - 0s - loss: 0.7439 - accuracy: 0.6500\n",
      "Epoch 69/150\n",
      "4/4 - 0s - loss: 0.7371 - accuracy: 0.6500\n",
      "Epoch 70/150\n",
      "4/4 - 0s - loss: 0.7304 - accuracy: 0.6500\n",
      "Epoch 71/150\n",
      "4/4 - 0s - loss: 0.7239 - accuracy: 0.6500\n",
      "Epoch 72/150\n",
      "4/4 - 0s - loss: 0.7175 - accuracy: 0.6500\n",
      "Epoch 73/150\n",
      "4/4 - 0s - loss: 0.7111 - accuracy: 0.6500\n",
      "Epoch 74/150\n",
      "4/4 - 0s - loss: 0.7046 - accuracy: 0.6500\n",
      "Epoch 75/150\n",
      "4/4 - 0s - loss: 0.6981 - accuracy: 0.6500\n",
      "Epoch 76/150\n",
      "4/4 - 0s - loss: 0.6922 - accuracy: 0.6500\n",
      "Epoch 77/150\n",
      "4/4 - 0s - loss: 0.6858 - accuracy: 0.6500\n",
      "Epoch 78/150\n",
      "4/4 - 0s - loss: 0.6798 - accuracy: 0.6500\n",
      "Epoch 79/150\n",
      "4/4 - 0s - loss: 0.6737 - accuracy: 0.6500\n",
      "Epoch 80/150\n",
      "4/4 - 0s - loss: 0.6677 - accuracy: 0.6500\n",
      "Epoch 81/150\n",
      "4/4 - 0s - loss: 0.6623 - accuracy: 0.6500\n",
      "Epoch 82/150\n",
      "4/4 - 0s - loss: 0.6568 - accuracy: 0.6500\n",
      "Epoch 83/150\n",
      "4/4 - 0s - loss: 0.6507 - accuracy: 0.6500\n",
      "Epoch 84/150\n",
      "4/4 - 0s - loss: 0.6449 - accuracy: 0.6500\n",
      "Epoch 85/150\n",
      "4/4 - 0s - loss: 0.6391 - accuracy: 0.6500\n",
      "Epoch 86/150\n",
      "4/4 - 0s - loss: 0.6340 - accuracy: 0.6500\n",
      "Epoch 87/150\n",
      "4/4 - 0s - loss: 0.6288 - accuracy: 0.6500\n",
      "Epoch 88/150\n",
      "4/4 - 0s - loss: 0.6236 - accuracy: 0.6500\n",
      "Epoch 89/150\n",
      "4/4 - 0s - loss: 0.6184 - accuracy: 0.6500\n",
      "Epoch 90/150\n",
      "4/4 - 0s - loss: 0.6133 - accuracy: 0.6500\n",
      "Epoch 91/150\n",
      "4/4 - 0s - loss: 0.6086 - accuracy: 0.6500\n",
      "Epoch 92/150\n",
      "4/4 - 0s - loss: 0.6039 - accuracy: 0.6500\n",
      "Epoch 93/150\n",
      "4/4 - 0s - loss: 0.5994 - accuracy: 0.6500\n",
      "Epoch 94/150\n",
      "4/4 - 0s - loss: 0.5949 - accuracy: 0.6500\n",
      "Epoch 95/150\n",
      "4/4 - 0s - loss: 0.5910 - accuracy: 0.6500\n",
      "Epoch 96/150\n",
      "4/4 - 0s - loss: 0.5868 - accuracy: 0.6500\n",
      "Epoch 97/150\n",
      "4/4 - 0s - loss: 0.5830 - accuracy: 0.6500\n",
      "Epoch 98/150\n",
      "4/4 - 0s - loss: 0.5789 - accuracy: 0.6500\n",
      "Epoch 99/150\n",
      "4/4 - 0s - loss: 0.5752 - accuracy: 0.6500\n",
      "Epoch 100/150\n",
      "4/4 - 0s - loss: 0.5716 - accuracy: 0.6500\n",
      "Epoch 101/150\n",
      "4/4 - 0s - loss: 0.5679 - accuracy: 0.6500\n",
      "Epoch 102/150\n",
      "4/4 - 0s - loss: 0.5644 - accuracy: 0.6500\n",
      "Epoch 103/150\n",
      "4/4 - 0s - loss: 0.5611 - accuracy: 0.6500\n",
      "Epoch 104/150\n",
      "4/4 - 0s - loss: 0.5576 - accuracy: 0.6500\n",
      "Epoch 105/150\n",
      "4/4 - 0s - loss: 0.5543 - accuracy: 0.6500\n",
      "Epoch 106/150\n",
      "4/4 - 0s - loss: 0.5513 - accuracy: 0.6500\n",
      "Epoch 107/150\n",
      "4/4 - 0s - loss: 0.5481 - accuracy: 0.6500\n",
      "Epoch 108/150\n",
      "4/4 - 0s - loss: 0.5450 - accuracy: 0.6500\n",
      "Epoch 109/150\n",
      "4/4 - 0s - loss: 0.5419 - accuracy: 0.6500\n",
      "Epoch 110/150\n",
      "4/4 - 0s - loss: 0.5392 - accuracy: 0.6700\n",
      "Epoch 111/150\n",
      "4/4 - 0s - loss: 0.5362 - accuracy: 0.6700\n",
      "Epoch 112/150\n",
      "4/4 - 0s - loss: 0.5334 - accuracy: 0.6700\n",
      "Epoch 113/150\n",
      "4/4 - 0s - loss: 0.5308 - accuracy: 0.6800\n",
      "Epoch 114/150\n",
      "4/4 - 0s - loss: 0.5285 - accuracy: 0.6900\n",
      "Epoch 115/150\n",
      "4/4 - 0s - loss: 0.5259 - accuracy: 0.7100\n",
      "Epoch 116/150\n",
      "4/4 - 0s - loss: 0.5233 - accuracy: 0.7100\n",
      "Epoch 117/150\n",
      "4/4 - 0s - loss: 0.5209 - accuracy: 0.7100\n",
      "Epoch 118/150\n",
      "4/4 - 0s - loss: 0.5185 - accuracy: 0.7100\n",
      "Epoch 119/150\n",
      "4/4 - 0s - loss: 0.5159 - accuracy: 0.7100\n",
      "Epoch 120/150\n",
      "4/4 - 0s - loss: 0.5135 - accuracy: 0.7100\n",
      "Epoch 121/150\n",
      "4/4 - 0s - loss: 0.5116 - accuracy: 0.7300\n",
      "Epoch 122/150\n",
      "4/4 - 0s - loss: 0.5089 - accuracy: 0.7400\n",
      "Epoch 123/150\n",
      "4/4 - 0s - loss: 0.5066 - accuracy: 0.7400\n",
      "Epoch 124/150\n",
      "4/4 - 0s - loss: 0.5041 - accuracy: 0.7300\n",
      "Epoch 125/150\n",
      "4/4 - 0s - loss: 0.5018 - accuracy: 0.7200\n",
      "Epoch 126/150\n",
      "4/4 - 0s - loss: 0.4995 - accuracy: 0.7100\n",
      "Epoch 127/150\n",
      "4/4 - 0s - loss: 0.4973 - accuracy: 0.7100\n",
      "Epoch 128/150\n",
      "4/4 - 0s - loss: 0.4952 - accuracy: 0.7100\n",
      "Epoch 129/150\n",
      "4/4 - 0s - loss: 0.4930 - accuracy: 0.7100\n",
      "Epoch 130/150\n",
      "4/4 - 0s - loss: 0.4909 - accuracy: 0.7100\n",
      "Epoch 131/150\n",
      "4/4 - 0s - loss: 0.4893 - accuracy: 0.7100\n",
      "Epoch 132/150\n",
      "4/4 - 0s - loss: 0.4868 - accuracy: 0.7100\n",
      "Epoch 133/150\n",
      "4/4 - 0s - loss: 0.4847 - accuracy: 0.7100\n",
      "Epoch 134/150\n",
      "4/4 - 0s - loss: 0.4825 - accuracy: 0.7400\n",
      "Epoch 135/150\n",
      "4/4 - 0s - loss: 0.4805 - accuracy: 0.7600\n",
      "Epoch 136/150\n",
      "4/4 - 0s - loss: 0.4785 - accuracy: 0.7700\n",
      "Epoch 137/150\n",
      "4/4 - 0s - loss: 0.4765 - accuracy: 0.7800\n",
      "Epoch 138/150\n",
      "4/4 - 0s - loss: 0.4744 - accuracy: 0.7800\n",
      "Epoch 139/150\n",
      "4/4 - 0s - loss: 0.4726 - accuracy: 0.7800\n",
      "Epoch 140/150\n",
      "4/4 - 0s - loss: 0.4704 - accuracy: 0.7900\n",
      "Epoch 141/150\n",
      "4/4 - 0s - loss: 0.4687 - accuracy: 0.8200\n",
      "Epoch 142/150\n",
      "4/4 - 0s - loss: 0.4667 - accuracy: 0.8400\n",
      "Epoch 143/150\n",
      "4/4 - 0s - loss: 0.4647 - accuracy: 0.8600\n",
      "Epoch 144/150\n",
      "4/4 - 0s - loss: 0.4627 - accuracy: 0.8500\n",
      "Epoch 145/150\n",
      "4/4 - 0s - loss: 0.4606 - accuracy: 0.8400\n",
      "Epoch 146/150\n",
      "4/4 - 0s - loss: 0.4587 - accuracy: 0.8400\n",
      "Epoch 147/150\n",
      "4/4 - 0s - loss: 0.4568 - accuracy: 0.8200\n",
      "Epoch 148/150\n",
      "4/4 - 0s - loss: 0.4551 - accuracy: 0.8100\n",
      "Epoch 149/150\n",
      "4/4 - 0s - loss: 0.4531 - accuracy: 0.8100\n",
      "Epoch 150/150\n",
      "4/4 - 0s - loss: 0.4513 - accuracy: 0.8000\n"
     ]
    },
    {
     "output_type": "execute_result",
     "data": {
      "text/plain": [
       "<tensorflow.python.keras.callbacks.History at 0x1a613a8990>"
      ]
     },
     "metadata": {},
     "execution_count": 28
    }
   ],
   "source": [
    " model.fit(scaled_X_train, y_train, epochs=150, verbose=2) # train our model with our scale data"
   ]
  },
  {
   "cell_type": "code",
   "execution_count": 29,
   "metadata": {},
   "outputs": [
    {
     "output_type": "execute_result",
     "data": {
      "text/plain": [
       "array([2, 0, 2, 2, 2, 0, 1, 2, 2, 1, 2, 0, 0, 0, 0, 1, 2, 1, 2, 2, 0, 2,\n",
       "       0, 2, 2, 2, 2, 2, 0, 0, 0, 0, 2, 0, 0, 2, 1, 0, 0, 0, 2, 1, 2, 0,\n",
       "       0, 1, 2, 2, 2, 2])"
      ]
     },
     "metadata": {},
     "execution_count": 29
    }
   ],
   "source": [
    "# part 2: Predictions with our models\n",
    "model.predict_classes(scaled_X_test)"
   ]
  },
  {
   "cell_type": "code",
   "execution_count": 30,
   "metadata": {},
   "outputs": [
    {
     "output_type": "execute_result",
     "data": {
      "text/plain": [
       "array([[2.9981606e-02, 4.5531443e-01, 5.1470393e-01],\n",
       "       [9.4843727e-01, 4.1365497e-02, 1.0197180e-02],\n",
       "       [6.0734467e-04, 2.5857285e-01, 7.4081981e-01],\n",
       "       [2.8673463e-02, 4.6224910e-01, 5.0907749e-01],\n",
       "       [1.2149183e-02, 4.0328020e-01, 5.8457065e-01],\n",
       "       [9.1524005e-01, 6.6065446e-02, 1.8694513e-02],\n",
       "       [1.1065453e-01, 4.9598494e-01, 3.9336056e-01],\n",
       "       [3.0810935e-03, 3.4755144e-01, 6.4936745e-01],\n",
       "       [8.1888214e-03, 3.7764022e-01, 6.1417103e-01],\n",
       "       [6.2504895e-02, 4.8336643e-01, 4.5412871e-01],\n",
       "       [8.9725517e-03, 4.1099253e-01, 5.8003485e-01],\n",
       "       [9.1116911e-01, 6.7889325e-02, 2.0941600e-02],\n",
       "       [9.4186407e-01, 4.5683686e-02, 1.2452220e-02],\n",
       "       [9.1876185e-01, 6.2606476e-02, 1.8631702e-02],\n",
       "       [9.5881057e-01, 3.2998633e-02, 8.1907678e-03],\n",
       "       [3.8657252e-02, 4.8407695e-01, 4.7726578e-01],\n",
       "       [2.3433266e-03, 3.4231642e-01, 6.5534025e-01],\n",
       "       [5.6019135e-02, 4.7734591e-01, 4.6663487e-01],\n",
       "       [4.0415037e-02, 4.7802487e-01, 4.8156014e-01],\n",
       "       [2.6085991e-03, 3.4378928e-01, 6.5360212e-01],\n",
       "       [9.2045295e-01, 6.1653096e-02, 1.7893873e-02],\n",
       "       [1.3136209e-02, 4.2873904e-01, 5.5812478e-01],\n",
       "       [9.1993868e-01, 6.2592432e-02, 1.7468942e-02],\n",
       "       [2.8515595e-03, 3.4779802e-01, 6.4935035e-01],\n",
       "       [3.8737287e-03, 3.6917979e-01, 6.2694651e-01],\n",
       "       [2.8395571e-03, 3.4475791e-01, 6.5240252e-01],\n",
       "       [2.6553513e-03, 3.2674766e-01, 6.7059696e-01],\n",
       "       [1.9564764e-03, 3.3495539e-01, 6.6308808e-01],\n",
       "       [8.9335632e-01, 8.1133582e-02, 2.5509991e-02],\n",
       "       [9.0898895e-01, 7.0112318e-02, 2.0898752e-02],\n",
       "       [9.5346123e-01, 3.6988083e-02, 9.5507381e-03],\n",
       "       [9.7666287e-01, 1.9305594e-02, 4.0314766e-03],\n",
       "       [3.8108572e-02, 4.7079906e-01, 4.9109235e-01],\n",
       "       [9.3747681e-01, 4.9067587e-02, 1.3455668e-02],\n",
       "       [9.2889053e-01, 5.4917447e-02, 1.6191920e-02],\n",
       "       [4.5672725e-03, 3.6134118e-01, 6.3409156e-01],\n",
       "       [4.2484250e-02, 4.8212063e-01, 4.7539511e-01],\n",
       "       [9.4413292e-01, 4.4056311e-02, 1.1810758e-02],\n",
       "       [9.5285231e-01, 3.7440937e-02, 9.7067263e-03],\n",
       "       [9.7369045e-01, 2.1624960e-02, 4.6845325e-03],\n",
       "       [6.1519612e-03, 3.8647598e-01, 6.0737199e-01],\n",
       "       [6.6691771e-02, 5.0615835e-01, 4.2714986e-01],\n",
       "       [2.4216702e-02, 4.5343176e-01, 5.2235150e-01],\n",
       "       [9.6051764e-01, 3.1702485e-02, 7.7799177e-03],\n",
       "       [9.5545137e-01, 3.5541955e-02, 9.0066101e-03],\n",
       "       [6.8795279e-02, 4.7985175e-01, 4.5135295e-01],\n",
       "       [1.0569317e-02, 4.0644121e-01, 5.8298939e-01],\n",
       "       [7.8659402e-03, 4.0638828e-01, 5.8574575e-01],\n",
       "       [3.2774471e-02, 4.6295288e-01, 5.0427258e-01],\n",
       "       [2.0774365e-03, 3.4487832e-01, 6.5304422e-01]], dtype=float32)"
      ]
     },
     "metadata": {},
     "execution_count": 30
    }
   ],
   "source": [
    "model.predict(scaled_X_test)"
   ]
  },
  {
   "cell_type": "code",
   "execution_count": 31,
   "metadata": {},
   "outputs": [],
   "source": [
    "predictions = model.predict_classes(scaled_X_test)"
   ]
  },
  {
   "cell_type": "code",
   "execution_count": 32,
   "metadata": {},
   "outputs": [
    {
     "output_type": "execute_result",
     "data": {
      "text/plain": [
       "array([1, 0, 2, 1, 1, 0, 1, 2, 1, 1, 2, 0, 0, 0, 0, 1, 2, 1, 1, 2, 0, 2,\n",
       "       0, 2, 2, 2, 2, 2, 0, 0, 0, 0, 1, 0, 0, 2, 1, 0, 0, 0, 2, 1, 1, 0,\n",
       "       0, 1, 2, 2, 1, 2])"
      ]
     },
     "metadata": {},
     "execution_count": 32
    }
   ],
   "source": [
    "y_test.argmax(axis=1) # adapt y_test to the scaled predictions format"
   ]
  },
  {
   "cell_type": "code",
   "execution_count": 33,
   "metadata": {},
   "outputs": [
    {
     "output_type": "execute_result",
     "data": {
      "text/plain": [
       "array([2, 0, 2, 2, 2, 0, 1, 2, 2, 1, 2, 0, 0, 0, 0, 1, 2, 1, 2, 2, 0, 2,\n",
       "       0, 2, 2, 2, 2, 2, 0, 0, 0, 0, 2, 0, 0, 2, 1, 0, 0, 0, 2, 1, 2, 0,\n",
       "       0, 1, 2, 2, 2, 2])"
      ]
     },
     "metadata": {},
     "execution_count": 33
    }
   ],
   "source": [
    "predictions"
   ]
  },
  {
   "cell_type": "code",
   "execution_count": 34,
   "metadata": {},
   "outputs": [],
   "source": [
    "# now we just compared them\n",
    "from sklearn.metrics import confusion_matrix, classification_report, accuracy_score"
   ]
  },
  {
   "cell_type": "code",
   "execution_count": 35,
   "metadata": {},
   "outputs": [
    {
     "output_type": "execute_result",
     "data": {
      "text/plain": [
       "array([[19,  0,  0],\n",
       "       [ 0,  7,  8],\n",
       "       [ 0,  0, 16]])"
      ]
     },
     "metadata": {},
     "execution_count": 35
    }
   ],
   "source": [
    "confusion_matrix(y_test.argmax(axis=1), predictions)"
   ]
  },
  {
   "cell_type": "code",
   "execution_count": 36,
   "metadata": {},
   "outputs": [
    {
     "output_type": "stream",
     "name": "stdout",
     "text": [
      "              precision    recall  f1-score   support\n\n           0       1.00      1.00      1.00        19\n           1       1.00      0.47      0.64        15\n           2       0.67      1.00      0.80        16\n\n    accuracy                           0.84        50\n   macro avg       0.89      0.82      0.81        50\nweighted avg       0.89      0.84      0.83        50\n\n"
     ]
    }
   ],
   "source": [
    "print(classification_report(y_test.argmax(axis=1), predictions))"
   ]
  },
  {
   "cell_type": "code",
   "execution_count": 37,
   "metadata": {},
   "outputs": [
    {
     "output_type": "execute_result",
     "data": {
      "text/plain": [
       "0.84"
      ]
     },
     "metadata": {},
     "execution_count": 37
    }
   ],
   "source": [
    "accuracy_score(y_test.argmax(axis=1), predictions)"
   ]
  },
  {
   "cell_type": "code",
   "execution_count": 38,
   "metadata": {},
   "outputs": [],
   "source": [
    "# save our model\n",
    "model.save('myfirstmodel.h5')"
   ]
  },
  {
   "cell_type": "code",
   "execution_count": 39,
   "metadata": {},
   "outputs": [],
   "source": [
    "# load our model\n",
    "from keras.models import load_model"
   ]
  },
  {
   "cell_type": "code",
   "execution_count": 40,
   "metadata": {},
   "outputs": [],
   "source": [
    "new_model = load_model('myfirstmodel.h5')"
   ]
  },
  {
   "cell_type": "code",
   "execution_count": 42,
   "metadata": {},
   "outputs": [],
   "source": [
    "# after loading it, we can use it as before\n",
    "predictions2 = new_model.predict_classes(scaled_X_test)"
   ]
  },
  {
   "cell_type": "code",
   "execution_count": 43,
   "metadata": {},
   "outputs": [
    {
     "output_type": "execute_result",
     "data": {
      "text/plain": [
       "array([2, 0, 2, 2, 2, 0, 1, 2, 2, 1, 2, 0, 0, 0, 0, 1, 2, 1, 2, 2, 0, 2,\n",
       "       0, 2, 2, 2, 2, 2, 0, 0, 0, 0, 2, 0, 0, 2, 1, 0, 0, 0, 2, 1, 2, 0,\n",
       "       0, 1, 2, 2, 2, 2])"
      ]
     },
     "metadata": {},
     "execution_count": 43
    }
   ],
   "source": [
    "predictions2"
   ]
  },
  {
   "cell_type": "code",
   "execution_count": 44,
   "metadata": {},
   "outputs": [
    {
     "output_type": "execute_result",
     "data": {
      "text/plain": [
       "array([2, 0, 2, 2, 2, 0, 1, 2, 2, 1, 2, 0, 0, 0, 0, 1, 2, 1, 2, 2, 0, 2,\n",
       "       0, 2, 2, 2, 2, 2, 0, 0, 0, 0, 2, 0, 0, 2, 1, 0, 0, 0, 2, 1, 2, 0,\n",
       "       0, 1, 2, 2, 2, 2])"
      ]
     },
     "metadata": {},
     "execution_count": 44
    }
   ],
   "source": [
    "predictions"
   ]
  },
  {
   "cell_type": "code",
   "execution_count": null,
   "metadata": {},
   "outputs": [],
   "source": []
  }
 ]
}