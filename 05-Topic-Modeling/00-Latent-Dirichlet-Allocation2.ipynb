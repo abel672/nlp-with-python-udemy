{
 "metadata": {
  "language_info": {
   "codemirror_mode": {
    "name": "ipython",
    "version": 3
   },
   "file_extension": ".py",
   "mimetype": "text/x-python",
   "name": "python",
   "nbconvert_exporter": "python",
   "pygments_lexer": "ipython3",
   "version": "3.7.4-final"
  },
  "orig_nbformat": 2,
  "kernelspec": {
   "name": "python3",
   "display_name": "Python 3",
   "language": "python"
  }
 },
 "nbformat": 4,
 "nbformat_minor": 2,
 "cells": [
  {
   "cell_type": "code",
   "execution_count": 1,
   "metadata": {},
   "outputs": [],
   "source": [
    "import pandas as pd"
   ]
  },
  {
   "cell_type": "code",
   "execution_count": 2,
   "metadata": {},
   "outputs": [],
   "source": [
    "npr = pd.read_csv('npr.csv')"
   ]
  },
  {
   "cell_type": "code",
   "execution_count": 4,
   "metadata": {},
   "outputs": [
    {
     "output_type": "execute_result",
     "data": {
      "text/plain": [
       "                                             Article\n",
       "0  In the Washington of 2016, even when the polic...\n",
       "1    Donald Trump has used Twitter  —   his prefe...\n",
       "2    Donald Trump is unabashedly praising Russian...\n",
       "3  Updated at 2:50 p. m. ET, Russian President Vl...\n",
       "4  From photography, illustration and video, to d..."
      ],
      "text/html": "<div>\n<style scoped>\n    .dataframe tbody tr th:only-of-type {\n        vertical-align: middle;\n    }\n\n    .dataframe tbody tr th {\n        vertical-align: top;\n    }\n\n    .dataframe thead th {\n        text-align: right;\n    }\n</style>\n<table border=\"1\" class=\"dataframe\">\n  <thead>\n    <tr style=\"text-align: right;\">\n      <th></th>\n      <th>Article</th>\n    </tr>\n  </thead>\n  <tbody>\n    <tr>\n      <td>0</td>\n      <td>In the Washington of 2016, even when the polic...</td>\n    </tr>\n    <tr>\n      <td>1</td>\n      <td>Donald Trump has used Twitter  —   his prefe...</td>\n    </tr>\n    <tr>\n      <td>2</td>\n      <td>Donald Trump is unabashedly praising Russian...</td>\n    </tr>\n    <tr>\n      <td>3</td>\n      <td>Updated at 2:50 p. m. ET, Russian President Vl...</td>\n    </tr>\n    <tr>\n      <td>4</td>\n      <td>From photography, illustration and video, to d...</td>\n    </tr>\n  </tbody>\n</table>\n</div>"
     },
     "metadata": {},
     "execution_count": 4
    }
   ],
   "source": [
    "npr.head()"
   ]
  },
  {
   "cell_type": "code",
   "execution_count": 7,
   "metadata": {},
   "outputs": [
    {
     "output_type": "execute_result",
     "data": {
      "text/plain": [
       "11992"
      ]
     },
     "metadata": {},
     "execution_count": 7
    }
   ],
   "source": [
    "len(npr['Article'])"
   ]
  },
  {
   "cell_type": "code",
   "execution_count": 8,
   "metadata": {},
   "outputs": [
    {
     "output_type": "execute_result",
     "data": {
      "text/plain": [
       "'The headline shocked the   world of the surface Navy: Seven sailors aboard the destroyer USS Fitzgerald were killed, and other crew members injured, when the warship collided with a cargo vessel off Japan. As the Navy family grieves, both it and the wider world are asking the same question: How did this happen? The short answer is that no one knows  —   yet. Official inquiries into what led up to the encounter could take months or more. The Navy and the U. S. Coast Guard both likely will eventually issue reports that describe what happened and could make recommendations for preventing another such accident. ”I will not speculate on how long these investigations will last,” said Vice Adm. Joseph Aucoin, commander of the Navy’s 7th Fleet. The Fitzgerald and the other ships of Destroyer Squadron 15, based outside Tokyo, fall under his authority. There are clues, however, that explain how something like the Fitzgerald’s collision could happen, including photographs of the ships involved, navigation data about the container ship ACX Crystal and the experience the Navy has had with past mishaps. The $1. 8 billion Fitzgerald is one of the most modern and technologically advanced warships afloat, capable of using its powerful sensors to look up into space, if necessary, and reach up to hit targets there with its battery of missiles. The destroyer still has a human crew, however, most of which was likely asleep around 2:30 a. m. local time when it collided with the Crystal. There was no moon over the waters south of Tokyo Bay, according to local accounts, and the channel there is frequently crowded with ships on their way into and out of the Japanese capital. Vessels of all sizes sail to other ports in Asia or head east into the vast Pacific. Sailors in the Fitzgerald’s combat information center and on its bridge are responsible for using the ship’s sensors to plot the location of each one, as well as the directions they’re headed and the speed at which they’re sailing. Officers and sailors must at all times keep what the Navy calls good ”situational awareness” about not only what their own ship is doing, but about what might be ahead in the next patch of ocean where the Fitzgerald wants to sail. In 2012 a sibling of the Fitzgerald, the destroyer USS Porter, was in a congested,   seaway called the Strait of Hormuz  —   the ribbon of water that connects the Persian Gulf with the Arabian Sea  —   when it collided with an oil tanker. The Navy’s investigation later found that as sailors tried to keep track of the traffic all around them, including those ships headed the other direction, they lost focus on their own immediate course ahead. When the tanker Otowasan suddenly loomed ahead, Cmdr. Martin Arriola ordered the Porter to turn left to cross ahead of the huge other ship to avoid a   crash. But he hadn’t done so with enough time, and not even ordering full speed at the last minute could get the destroyer safely clear. The Otowasan hit the Porter along its right  —   or starboard  —   side, in a location on the ship very near where the ACX Crystal hit the Fitzgerald early Saturday. But when the sun came up and photos appeared of both ships, they revealed the Crystal had damage on the left or port side of its bow  —   suggesting it might have been traveling in the same direction as the Fitzgerald. It may have been trailing the smaller destroyer at a perpendicular angle that stayed relatively the same even as the distance between the ships closed: ”constant bearing, decreasing range.” If the crew of the Fitzgerald was watching what was ahead of them and got used to the presence of the container ship on their starboard quarter because it didn’t appear to be moving in either direction relative to the destroyer  —   even though it was getting closer all the while  —   the sailors might not have realized what was happening until they were in extremis. Another similar possibility: the Fitzgerald wanted to sail east, say, and its course crossed over that of the Crystal, heading north. The destroyer might have been like someone trying to get across a busy street, thinking it could get out of the way of the oncoming cars in time  —   in this case, a miscalculation. Investigators will focus closely on what the crews on both ships were doing. When the fast attack submarine USS Hartford collided with the amphibious transport USS New Orleans in 2009, discipline on the sub was lax, the Navy later found. The Hartford’s captain never came into the control room during the transit through the crowded Strait of Hormuz. The navigator was in the wardroom listening to his iPod. It’s possible that no one was on the bridge of the Crystal  —   even huge container ships are comparatively lightly crewed, compared with Navy ships, and unlike warships, often use an autopilot. In the wide open Pacific, mariners sometimes let ”Iron Mike” take the helm. After a series of accidents, the U. S. Coast Guard warned mariners last year about the dangers involved with relying too heavily on autopilot. The Fitzgerald’s bridge almost certainly was crewed, by sailors and officers on the overnight ”midwatch” and those are the watchstanders who may have made the critical decisions about what to do or not do before the collision. Were they managing a whole screen full of contacts and too distracted to notice the one bearing down on them? Or was it a quiet night with so little to do that the crew became bored and complacent? Investigators will conduct interviews, review navigational data and could even listen to recordings of what happened on the bridge, like the one eventually released from the Porter. One detail already is known: The Fitzgerald’s commanding officer, Cmdr. Bryce Benson, was in his cabin at the time of the accident, 7th Fleet’s Aucoin said. The captain’s compartment is located on the starboard side of the ship that was crushed by the Crystal, and Benson was hurt  —   the Japanese Coast Guard took him to shore by helicopter. Other sailors were berthed in compartments farther below decks, which were flooded by the Crystal’s bulbous bow. In all, two berthing compartments and one machinery space, which houses one of the gas turbines for making the ship’s electrical power, quickly filled with seawater. ”Heroic efforts prevented the flooding from catastrophically spreading, which could have caused the ship to founder or sink,” Aucoin said. ”It could have been much worse.” The Fitzgerald limped into Tokyo under its own power the crew of the   Aegis combatant used a magnetic compass and their backup instruments to get home with only one of the ship’s two propellers. The destroyer now needs millions of dollars’ worth of repairs, including a visit to a dry dock, before it could be ready to take another mission. The Navy identified the seven sailors who died in the accident on Sunday evening. Acting Navy Secretary Sean Stackley vowed that service officials would answer the question everyone is now asking: how it could have happened. ”In due time, the United States Navy will fully investigate the cause of this tragedy,” he said, ”and I ask all of you to keep the Fitzgerald families in your thoughts and prayers as we begin the task of answering the many questions before us.”'"
      ]
     },
     "metadata": {},
     "execution_count": 8
    }
   ],
   "source": [
    "npr['Article'][4000]"
   ]
  },
  {
   "cell_type": "code",
   "execution_count": 9,
   "metadata": {},
   "outputs": [],
   "source": [
    "from sklearn.feature_extraction.text import CountVectorizer"
   ]
  },
  {
   "cell_type": "code",
   "execution_count": 10,
   "metadata": {},
   "outputs": [],
   "source": [
    "cv = CountVectorizer(\n",
    "    max_df=0.9, # document frequency: very common terms along the documents\n",
    "    min_df=2, # Minimal document frequency for a word in this count vectorizer has to be 2 documents\n",
    "    # the terms has to be minimal in 2 documents to be detected in this count vector\n",
    "    stop_words='english' # remove english stop words (a, the, for, ...)\n",
    ")"
   ]
  },
  {
   "cell_type": "code",
   "execution_count": 12,
   "metadata": {},
   "outputs": [],
   "source": [
    "dtm = cv.fit_transform(npr['Article'])"
   ]
  },
  {
   "cell_type": "code",
   "execution_count": 13,
   "metadata": {},
   "outputs": [
    {
     "output_type": "execute_result",
     "data": {
      "text/plain": [
       "<11992x54777 sparse matrix of type '<class 'numpy.int64'>'\n",
       "\twith 3033388 stored elements in Compressed Sparse Row format>"
      ]
     },
     "metadata": {},
     "execution_count": 13
    }
   ],
   "source": [
    "dtm"
   ]
  },
  {
   "cell_type": "code",
   "execution_count": 14,
   "metadata": {},
   "outputs": [],
   "source": [
    "from sklearn.decomposition import LatentDirichletAllocation"
   ]
  },
  {
   "cell_type": "code",
   "execution_count": 15,
   "metadata": {},
   "outputs": [],
   "source": [
    "LDA = LatentDirichletAllocation(n_components=7, random_state=42)"
   ]
  },
  {
   "cell_type": "code",
   "execution_count": 16,
   "metadata": {},
   "outputs": [
    {
     "output_type": "execute_result",
     "data": {
      "text/plain": [
       "LatentDirichletAllocation(batch_size=128, doc_topic_prior=None,\n",
       "                          evaluate_every=-1, learning_decay=0.7,\n",
       "                          learning_method='batch', learning_offset=10.0,\n",
       "                          max_doc_update_iter=100, max_iter=10,\n",
       "                          mean_change_tol=0.001, n_components=7, n_jobs=None,\n",
       "                          perp_tol=0.1, random_state=42, topic_word_prior=None,\n",
       "                          total_samples=1000000.0, verbose=0)"
      ]
     },
     "metadata": {},
     "execution_count": 16
    }
   ],
   "source": [
    "LDA.fit(dtm)"
   ]
  },
  {
   "cell_type": "code",
   "execution_count": null,
   "metadata": {},
   "outputs": [],
   "source": [
    "# Grab the vocabulary of words\n",
    "\n",
    "# Grab the topics\n",
    "\n",
    "# Grab the highest probability words per topic"
   ]
  }
 ]
}