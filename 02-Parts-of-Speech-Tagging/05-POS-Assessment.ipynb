{
 "cells": [
  {
   "cell_type": "markdown",
   "metadata": {
    "collapsed": true
   },
   "source": [
    "___\n",
    "\n",
    "<a href='http://www.pieriandata.com'> <img src='../Pierian_Data_Logo.png' /></a>\n",
    "___"
   ]
  },
  {
   "cell_type": "markdown",
   "metadata": {},
   "source": [
    "# Parts of Speech Assessment"
   ]
  },
  {
   "cell_type": "markdown",
   "metadata": {},
   "source": [
    "For this assessment we'll be using the short story [The Tale of Peter Rabbit](https://en.wikipedia.org/wiki/The_Tale_of_Peter_Rabbit) by Beatrix Potter (1902). <br>The story is in the public domain; the text file was obtained from [Project Gutenberg](https://www.gutenberg.org/ebooks/14838.txt.utf-8)."
   ]
  },
  {
   "cell_type": "code",
   "execution_count": 1,
   "metadata": {},
   "outputs": [],
   "source": [
    "# RUN THIS CELL to perform standard imports:\n",
    "import spacy\n",
    "nlp = spacy.load('en_core_web_sm')\n",
    "from spacy import displacy"
   ]
  },
  {
   "cell_type": "markdown",
   "metadata": {},
   "source": [
    "**1. Create a Doc object from the file `peterrabbit.txt`**<br>\n",
    "> HINT: Use `with open('../TextFiles/peterrabbit.txt') as f:`"
   ]
  },
  {
   "cell_type": "code",
   "execution_count": 7,
   "metadata": {},
   "outputs": [
    {
     "output_type": "stream",
     "name": "stdout",
     "text": [
      "The Tale of Peter Rabbit, by Beatrix Potter (1902).\n\nOnce upon a time there were four little Rabbits, and their names\nwere--\n\n          Flopsy,\n       Mopsy,\n   Cotton-tail,\nand Peter.\n\nThey lived with their Mother in a sand-bank, underneath the root of a\nvery big fir-tree.\n\n'Now my dears,' said old Mrs. Rabbit one morning, 'you may go into\nthe fields or down the lane, but don't go into Mr. McGregor's garden:\nyour Father had an accident there; he was put in a pie by Mrs.\nMcGregor.'\n\n'Now run along, and don't get into mischief. I am going out.'\n\nThen old Mrs. Rabbit took a basket and her umbrella, and went through\nthe wood to the baker's. She bought a loaf of brown bread and five\ncurrant buns.\n\nFlopsy, Mopsy, and Cottontail, who were good little bunnies, went\ndown the lane to gather blackberries:\n\nBut Peter, who was very naughty, ran straight away to Mr. McGregor's\ngarden, and squeezed under the gate!\n\nFirst he ate some lettuces and some French beans; and then he ate\nsome radishes;\n\nAnd then, feeling rather sick, he went to look for some parsley.\n\nBut round the end of a cucumber frame, whom should he meet but Mr.\nMcGregor!\n\nMr. McGregor was on his hands and knees planting out young cabbages,\nbut he jumped up and ran after Peter, waving a rake and calling out,\n'Stop thief!'\n\nPeter was most dreadfully frightened; he rushed all over the garden,\nfor he had forgotten the way back to the gate.\n\nHe lost one of his shoes among the cabbages, and the other shoe\namongst the potatoes.\n\nAfter losing them, he ran on four legs and went faster, so that I\nthink he might have got away altogether if he had not unfortunately\nrun into a gooseberry net, and got caught by the large buttons on his\njacket. It was a blue jacket with brass buttons, quite new.\n\nPeter gave himself up for lost, and shed big tears; but his sobs were\noverheard by some friendly sparrows, who flew to him in great\nexcitement, and implored him to exert himself.\n\nMr. McGregor came up with a sieve, which he intended to pop upon the\ntop of Peter; but Peter wriggled out just in time, leaving his jacket\nbehind him.\n\nAnd rushed into the tool-shed, and jumped into a can. It would have\nbeen a beautiful thing to hide in, if it had not had so much water in it.\n\nMr. McGregor was quite sure that Peter was somewhere in the\ntool-shed, perhaps hidden underneath a flower-pot. He began to turn\nthem over carefully, looking under each.\n\nPresently Peter sneezed--'Kertyschoo!' Mr. McGregor was after him in\nno time.\n\nAnd tried to put his foot upon Peter, who jumped out of a window,\nupsetting three plants. The window was too small for Mr. McGregor, and\nhe was tired of running after Peter. He went back to his work.\n\nPeter sat down to rest; he was out of breath and trembling with\nfright, and he had not the least idea which way to go. Also he was\nvery damp with sitting in that can.\n\nAfter a time he began to wander about, going lippity--lippity--not\nvery fast, and looking all round.\n\nHe found a door in a wall; but it was locked, and there was no room\nfor a fat little rabbit to squeeze underneath.\n\nAn old mouse was running in and out over the stone doorstep, carrying\npeas and beans to her family in the wood. Peter asked her the way to\nthe gate, but she had such a large pea in her mouth that she could not\nanswer. She only shook her head at him. Peter began to cry.\n\nThen he tried to find his way straight across the garden, but he\nbecame more and more puzzled. Presently, he came to a pond where Mr.\nMcGregor filled his water-cans. A white cat was staring at some\ngold-fish, she sat very, very still, but now and then the tip of her\ntail twitched as if it were alive. Peter thought it best to go away\nwithout speaking to her; he had heard about cats from his cousin,\nlittle Benjamin Bunny.\n\nHe went back towards the tool-shed, but suddenly, quite close to him,\nhe heard the noise of a hoe--scr-r-ritch, scratch, scratch, scritch.\nPeter scuttered underneath the bushes. But presently, as nothing\nhappened, he came out, and climbed upon a wheelbarrow and peeped over.\nThe first thing he saw was Mr. McGregor hoeing onions. His back was\nturned towards Peter, and beyond him was the gate!\n\nPeter got down very quietly off the wheelbarrow; and started running\nas fast as he could go, along a straight walk behind some\nblack-currant bushes.\n\nMr. McGregor caught sight of him at the corner, but Peter did not\ncare. He slipped underneath the gate, and was safe at last in the wood\noutside the garden.\n\nMr. McGregor hung up the little jacket and the shoes for a scare-crow\nto frighten the blackbirds.\n\nPeter never stopped running or looked behind him till he got home to\nthe big fir-tree.\n\nHe was so tired that he flopped down upon the nice soft sand on the\nfloor of the rabbit-hole and shut his eyes. His mother was busy\ncooking; she wondered what he had done with his clothes. It was the\nsecond little jacket and pair of shoes that Peter had lost in a\nfortnight!\n\nI am sorry to say that Peter was not very well during the evening.\n\nHis mother put him to bed, and made some camomile tea; and she gave a\ndose of it to Peter!\n\n'One table-spoonful to be taken at bed-time.'\n\nBut Flopsy, Mopsy, and Cotton-tail had bread and milk and\nblackberries for supper.\n\nTHE END\n\n"
     ]
    }
   ],
   "source": [
    "with open('../TextFiles/peterrabbit.txt') as f:\n",
    "    doc = nlp(f.read())\n",
    "    print(doc)\n"
   ]
  },
  {
   "cell_type": "markdown",
   "metadata": {},
   "source": [
    "**2. For every token in the third sentence, print the token text, the POS tag, the fine-grained TAG tag, and the description of the fine-grained tag.**"
   ]
  },
  {
   "cell_type": "code",
   "execution_count": 10,
   "metadata": {},
   "outputs": [
    {
     "output_type": "stream",
     "name": "stdout",
     "text": [
      "They       PRON       PRP        pronoun, personal\nlived      VERB       VBD        verb, past tense\nwith       ADP        IN         conjunction, subordinating or preposition\ntheir      DET        PRP$       pronoun, possessive\nMother     PROPN      NNP        noun, proper singular\nin         ADP        IN         conjunction, subordinating or preposition\na          DET        DT         determiner\nsand       NOUN       NN         noun, singular or mass\n-          PUNCT      HYPH       punctuation mark, hyphen\nbank       NOUN       NN         noun, singular or mass\n,          PUNCT      ,          punctuation mark, comma\nunderneath ADP        IN         conjunction, subordinating or preposition\nthe        DET        DT         determiner\nroot       NOUN       NN         noun, singular or mass\nof         ADP        IN         conjunction, subordinating or preposition\na          DET        DT         determiner\n\n          SPACE      _SP        None\nvery       ADV        RB         adverb\nbig        ADJ        JJ         adjective\nfir        NOUN       NN         noun, singular or mass\n-          PUNCT      HYPH       punctuation mark, hyphen\ntree       NOUN       NN         noun, singular or mass\n.          PUNCT      .          punctuation mark, sentence closer\n\n\n         SPACE      _SP        None\n"
     ]
    }
   ],
   "source": [
    "# Enter your code here:\n",
    "for token in list(doc.sents)[3]:\n",
    "    print(f'{token.text:{10}} {token.pos_:{10}} {token.tag_:{10}} {spacy.explain(token.tag_)}')\n",
    "\n"
   ]
  },
  {
   "cell_type": "markdown",
   "metadata": {},
   "source": [
    "**3. Provide a frequency list of POS tags from the entire document**"
   ]
  },
  {
   "cell_type": "code",
   "execution_count": 15,
   "metadata": {},
   "outputs": [
    {
     "output_type": "stream",
     "name": "stdout",
     "text": [
      "84. ADJ       : 57\n85. ADP       : 129\n86. ADV       : 75\n89. CCONJ     : 61\n90. DET       : 118\n92. NOUN      : 166\n93. NUM       : 8\n94. PART      : 34\n95. PRON      : 78\n96. PROPN     : 75\n97. PUNCT     : 173\n100. VERB      : 185\n103. SPACE     : 99\n"
     ]
    }
   ],
   "source": [
    "POS_counts = doc.count_by(spacy.attrs.POS)\n",
    "POS_counts\n",
    "\n",
    "for k, v in sorted(POS_counts.items()):\n",
    "    print(f'{k}. {doc.vocab[k].text:{10}}: {v}')"
   ]
  },
  {
   "cell_type": "markdown",
   "metadata": {},
   "source": [
    "**4. CHALLENGE: What percentage of tokens are nouns?**<br>\n",
    "HINT: the attribute ID for 'NOUN' is 92"
   ]
  },
  {
   "cell_type": "code",
   "execution_count": 75,
   "metadata": {},
   "outputs": [
    {
     "output_type": "stream",
     "name": "stdout",
     "text": [
      "1258\n166\n"
     ]
    }
   ],
   "source": [
    "# Teacher Solution\n",
    "print(len(doc)) # words in the document\n",
    "print(POS_counts[92]) # words that are NOUN in the document"
   ]
  },
  {
   "cell_type": "code",
   "execution_count": 72,
   "metadata": {},
   "outputs": [
    {
     "output_type": "stream",
     "name": "stdout",
     "text": [
      "13.2%\n"
     ]
    }
   ],
   "source": [
    "# POS = Part Of Speech, it contains all tags (NOUN, VERB, NUM, ...)\n",
    "result = 100 * POS_counts[92] / len(doc)\n",
    "print(f'{round(result, 2)}%')"
   ]
  },
  {
   "cell_type": "code",
   "execution_count": 23,
   "metadata": {},
   "outputs": [
    {
     "output_type": "stream",
     "name": "stdout",
     "text": [
      "Noun Token: 92, 166\n166/1258 = 13.2%\n"
     ]
    }
   ],
   "source": [
    "# MY SOLUTION\n",
    "all_tokens = 0\n",
    "noun_tokens = 0\n",
    "for k, v in sorted(POS_counts.items()):\n",
    "    if (doc.vocab[k] == 92):\n",
    "        noun_tokens = v\n",
    "        print(f'Noun Token: {k}, {v}')\n",
    "    all_tokens += v\n",
    "\n",
    "result = (noun_tokens * 100) / all_tokens\n",
    "\n",
    "print(f'{noun_tokens}/{all_tokens} = {round(result, 2)}%')"
   ]
  },
  {
   "cell_type": "markdown",
   "metadata": {},
   "source": [
    "**5. Display the Dependency Parse for the third sentence**"
   ]
  },
  {
   "cell_type": "code",
   "execution_count": 76,
   "metadata": {},
   "outputs": [
    {
     "output_type": "display_data",
     "data": {
      "text/plain": "<IPython.core.display.HTML object>",
      "text/html": "<svg xmlns=\"http://www.w3.org/2000/svg\" xmlns:xlink=\"http://www.w3.org/1999/xlink\" xml:lang=\"en\" id=\"fd802c4d11e04728a950e5e0d2c111d7-0\" class=\"displacy\" width=\"3550\" height=\"749.5\" direction=\"ltr\" style=\"max-width: none; height: 749.5px; color: #000000; background: #ffffff; font-family: Arial; direction: ltr\">\n<text class=\"displacy-token\" fill=\"currentColor\" text-anchor=\"middle\" y=\"659.5\">\n    <tspan class=\"displacy-word\" fill=\"currentColor\" x=\"50\">They</tspan>\n    <tspan class=\"displacy-tag\" dy=\"2em\" fill=\"currentColor\" x=\"50\">PRON</tspan>\n</text>\n\n<text class=\"displacy-token\" fill=\"currentColor\" text-anchor=\"middle\" y=\"659.5\">\n    <tspan class=\"displacy-word\" fill=\"currentColor\" x=\"225\">lived</tspan>\n    <tspan class=\"displacy-tag\" dy=\"2em\" fill=\"currentColor\" x=\"225\">VERB</tspan>\n</text>\n\n<text class=\"displacy-token\" fill=\"currentColor\" text-anchor=\"middle\" y=\"659.5\">\n    <tspan class=\"displacy-word\" fill=\"currentColor\" x=\"400\">with</tspan>\n    <tspan class=\"displacy-tag\" dy=\"2em\" fill=\"currentColor\" x=\"400\">ADP</tspan>\n</text>\n\n<text class=\"displacy-token\" fill=\"currentColor\" text-anchor=\"middle\" y=\"659.5\">\n    <tspan class=\"displacy-word\" fill=\"currentColor\" x=\"575\">their</tspan>\n    <tspan class=\"displacy-tag\" dy=\"2em\" fill=\"currentColor\" x=\"575\">DET</tspan>\n</text>\n\n<text class=\"displacy-token\" fill=\"currentColor\" text-anchor=\"middle\" y=\"659.5\">\n    <tspan class=\"displacy-word\" fill=\"currentColor\" x=\"750\">Mother</tspan>\n    <tspan class=\"displacy-tag\" dy=\"2em\" fill=\"currentColor\" x=\"750\">PROPN</tspan>\n</text>\n\n<text class=\"displacy-token\" fill=\"currentColor\" text-anchor=\"middle\" y=\"659.5\">\n    <tspan class=\"displacy-word\" fill=\"currentColor\" x=\"925\">in</tspan>\n    <tspan class=\"displacy-tag\" dy=\"2em\" fill=\"currentColor\" x=\"925\">ADP</tspan>\n</text>\n\n<text class=\"displacy-token\" fill=\"currentColor\" text-anchor=\"middle\" y=\"659.5\">\n    <tspan class=\"displacy-word\" fill=\"currentColor\" x=\"1100\">a</tspan>\n    <tspan class=\"displacy-tag\" dy=\"2em\" fill=\"currentColor\" x=\"1100\">DET</tspan>\n</text>\n\n<text class=\"displacy-token\" fill=\"currentColor\" text-anchor=\"middle\" y=\"659.5\">\n    <tspan class=\"displacy-word\" fill=\"currentColor\" x=\"1275\">sand-</tspan>\n    <tspan class=\"displacy-tag\" dy=\"2em\" fill=\"currentColor\" x=\"1275\">NOUN</tspan>\n</text>\n\n<text class=\"displacy-token\" fill=\"currentColor\" text-anchor=\"middle\" y=\"659.5\">\n    <tspan class=\"displacy-word\" fill=\"currentColor\" x=\"1450\">bank,</tspan>\n    <tspan class=\"displacy-tag\" dy=\"2em\" fill=\"currentColor\" x=\"1450\">NOUN</tspan>\n</text>\n\n<text class=\"displacy-token\" fill=\"currentColor\" text-anchor=\"middle\" y=\"659.5\">\n    <tspan class=\"displacy-word\" fill=\"currentColor\" x=\"1625\">underneath</tspan>\n    <tspan class=\"displacy-tag\" dy=\"2em\" fill=\"currentColor\" x=\"1625\">ADP</tspan>\n</text>\n\n<text class=\"displacy-token\" fill=\"currentColor\" text-anchor=\"middle\" y=\"659.5\">\n    <tspan class=\"displacy-word\" fill=\"currentColor\" x=\"1800\">the</tspan>\n    <tspan class=\"displacy-tag\" dy=\"2em\" fill=\"currentColor\" x=\"1800\">DET</tspan>\n</text>\n\n<text class=\"displacy-token\" fill=\"currentColor\" text-anchor=\"middle\" y=\"659.5\">\n    <tspan class=\"displacy-word\" fill=\"currentColor\" x=\"1975\">root</tspan>\n    <tspan class=\"displacy-tag\" dy=\"2em\" fill=\"currentColor\" x=\"1975\">NOUN</tspan>\n</text>\n\n<text class=\"displacy-token\" fill=\"currentColor\" text-anchor=\"middle\" y=\"659.5\">\n    <tspan class=\"displacy-word\" fill=\"currentColor\" x=\"2150\">of</tspan>\n    <tspan class=\"displacy-tag\" dy=\"2em\" fill=\"currentColor\" x=\"2150\">ADP</tspan>\n</text>\n\n<text class=\"displacy-token\" fill=\"currentColor\" text-anchor=\"middle\" y=\"659.5\">\n    <tspan class=\"displacy-word\" fill=\"currentColor\" x=\"2325\">a</tspan>\n    <tspan class=\"displacy-tag\" dy=\"2em\" fill=\"currentColor\" x=\"2325\">DET</tspan>\n</text>\n\n<text class=\"displacy-token\" fill=\"currentColor\" text-anchor=\"middle\" y=\"659.5\">\n    <tspan class=\"displacy-word\" fill=\"currentColor\" x=\"2500\">\n</tspan>\n    <tspan class=\"displacy-tag\" dy=\"2em\" fill=\"currentColor\" x=\"2500\">SPACE</tspan>\n</text>\n\n<text class=\"displacy-token\" fill=\"currentColor\" text-anchor=\"middle\" y=\"659.5\">\n    <tspan class=\"displacy-word\" fill=\"currentColor\" x=\"2675\">very</tspan>\n    <tspan class=\"displacy-tag\" dy=\"2em\" fill=\"currentColor\" x=\"2675\">ADV</tspan>\n</text>\n\n<text class=\"displacy-token\" fill=\"currentColor\" text-anchor=\"middle\" y=\"659.5\">\n    <tspan class=\"displacy-word\" fill=\"currentColor\" x=\"2850\">big</tspan>\n    <tspan class=\"displacy-tag\" dy=\"2em\" fill=\"currentColor\" x=\"2850\">ADJ</tspan>\n</text>\n\n<text class=\"displacy-token\" fill=\"currentColor\" text-anchor=\"middle\" y=\"659.5\">\n    <tspan class=\"displacy-word\" fill=\"currentColor\" x=\"3025\">fir-</tspan>\n    <tspan class=\"displacy-tag\" dy=\"2em\" fill=\"currentColor\" x=\"3025\">NOUN</tspan>\n</text>\n\n<text class=\"displacy-token\" fill=\"currentColor\" text-anchor=\"middle\" y=\"659.5\">\n    <tspan class=\"displacy-word\" fill=\"currentColor\" x=\"3200\">tree.</tspan>\n    <tspan class=\"displacy-tag\" dy=\"2em\" fill=\"currentColor\" x=\"3200\">NOUN</tspan>\n</text>\n\n<text class=\"displacy-token\" fill=\"currentColor\" text-anchor=\"middle\" y=\"659.5\">\n    <tspan class=\"displacy-word\" fill=\"currentColor\" x=\"3375\">\n\n</tspan>\n    <tspan class=\"displacy-tag\" dy=\"2em\" fill=\"currentColor\" x=\"3375\">SPACE</tspan>\n</text>\n\n<g class=\"displacy-arrow\">\n    <path class=\"displacy-arc\" id=\"arrow-fd802c4d11e04728a950e5e0d2c111d7-0-0\" stroke-width=\"2px\" d=\"M70,614.5 C70,527.0 195.0,527.0 195.0,614.5\" fill=\"none\" stroke=\"currentColor\"/>\n    <text dy=\"1.25em\" style=\"font-size: 0.8em; letter-spacing: 1px\">\n        <textPath xlink:href=\"#arrow-fd802c4d11e04728a950e5e0d2c111d7-0-0\" class=\"displacy-label\" startOffset=\"50%\" side=\"left\" fill=\"currentColor\" text-anchor=\"middle\">nsubj</textPath>\n    </text>\n    <path class=\"displacy-arrowhead\" d=\"M70,616.5 L62,604.5 78,604.5\" fill=\"currentColor\"/>\n</g>\n\n<g class=\"displacy-arrow\">\n    <path class=\"displacy-arc\" id=\"arrow-fd802c4d11e04728a950e5e0d2c111d7-0-1\" stroke-width=\"2px\" d=\"M245,614.5 C245,527.0 370.0,527.0 370.0,614.5\" fill=\"none\" stroke=\"currentColor\"/>\n    <text dy=\"1.25em\" style=\"font-size: 0.8em; letter-spacing: 1px\">\n        <textPath xlink:href=\"#arrow-fd802c4d11e04728a950e5e0d2c111d7-0-1\" class=\"displacy-label\" startOffset=\"50%\" side=\"left\" fill=\"currentColor\" text-anchor=\"middle\">prep</textPath>\n    </text>\n    <path class=\"displacy-arrowhead\" d=\"M370.0,616.5 L378.0,604.5 362.0,604.5\" fill=\"currentColor\"/>\n</g>\n\n<g class=\"displacy-arrow\">\n    <path class=\"displacy-arc\" id=\"arrow-fd802c4d11e04728a950e5e0d2c111d7-0-2\" stroke-width=\"2px\" d=\"M595,614.5 C595,527.0 720.0,527.0 720.0,614.5\" fill=\"none\" stroke=\"currentColor\"/>\n    <text dy=\"1.25em\" style=\"font-size: 0.8em; letter-spacing: 1px\">\n        <textPath xlink:href=\"#arrow-fd802c4d11e04728a950e5e0d2c111d7-0-2\" class=\"displacy-label\" startOffset=\"50%\" side=\"left\" fill=\"currentColor\" text-anchor=\"middle\">poss</textPath>\n    </text>\n    <path class=\"displacy-arrowhead\" d=\"M595,616.5 L587,604.5 603,604.5\" fill=\"currentColor\"/>\n</g>\n\n<g class=\"displacy-arrow\">\n    <path class=\"displacy-arc\" id=\"arrow-fd802c4d11e04728a950e5e0d2c111d7-0-3\" stroke-width=\"2px\" d=\"M420,614.5 C420,439.5 725.0,439.5 725.0,614.5\" fill=\"none\" stroke=\"currentColor\"/>\n    <text dy=\"1.25em\" style=\"font-size: 0.8em; letter-spacing: 1px\">\n        <textPath xlink:href=\"#arrow-fd802c4d11e04728a950e5e0d2c111d7-0-3\" class=\"displacy-label\" startOffset=\"50%\" side=\"left\" fill=\"currentColor\" text-anchor=\"middle\">pobj</textPath>\n    </text>\n    <path class=\"displacy-arrowhead\" d=\"M725.0,616.5 L733.0,604.5 717.0,604.5\" fill=\"currentColor\"/>\n</g>\n\n<g class=\"displacy-arrow\">\n    <path class=\"displacy-arc\" id=\"arrow-fd802c4d11e04728a950e5e0d2c111d7-0-4\" stroke-width=\"2px\" d=\"M245,614.5 C245,264.5 910.0,264.5 910.0,614.5\" fill=\"none\" stroke=\"currentColor\"/>\n    <text dy=\"1.25em\" style=\"font-size: 0.8em; letter-spacing: 1px\">\n        <textPath xlink:href=\"#arrow-fd802c4d11e04728a950e5e0d2c111d7-0-4\" class=\"displacy-label\" startOffset=\"50%\" side=\"left\" fill=\"currentColor\" text-anchor=\"middle\">prep</textPath>\n    </text>\n    <path class=\"displacy-arrowhead\" d=\"M910.0,616.5 L918.0,604.5 902.0,604.5\" fill=\"currentColor\"/>\n</g>\n\n<g class=\"displacy-arrow\">\n    <path class=\"displacy-arc\" id=\"arrow-fd802c4d11e04728a950e5e0d2c111d7-0-5\" stroke-width=\"2px\" d=\"M1120,614.5 C1120,439.5 1425.0,439.5 1425.0,614.5\" fill=\"none\" stroke=\"currentColor\"/>\n    <text dy=\"1.25em\" style=\"font-size: 0.8em; letter-spacing: 1px\">\n        <textPath xlink:href=\"#arrow-fd802c4d11e04728a950e5e0d2c111d7-0-5\" class=\"displacy-label\" startOffset=\"50%\" side=\"left\" fill=\"currentColor\" text-anchor=\"middle\">det</textPath>\n    </text>\n    <path class=\"displacy-arrowhead\" d=\"M1120,616.5 L1112,604.5 1128,604.5\" fill=\"currentColor\"/>\n</g>\n\n<g class=\"displacy-arrow\">\n    <path class=\"displacy-arc\" id=\"arrow-fd802c4d11e04728a950e5e0d2c111d7-0-6\" stroke-width=\"2px\" d=\"M1295,614.5 C1295,527.0 1420.0,527.0 1420.0,614.5\" fill=\"none\" stroke=\"currentColor\"/>\n    <text dy=\"1.25em\" style=\"font-size: 0.8em; letter-spacing: 1px\">\n        <textPath xlink:href=\"#arrow-fd802c4d11e04728a950e5e0d2c111d7-0-6\" class=\"displacy-label\" startOffset=\"50%\" side=\"left\" fill=\"currentColor\" text-anchor=\"middle\">compound</textPath>\n    </text>\n    <path class=\"displacy-arrowhead\" d=\"M1295,616.5 L1287,604.5 1303,604.5\" fill=\"currentColor\"/>\n</g>\n\n<g class=\"displacy-arrow\">\n    <path class=\"displacy-arc\" id=\"arrow-fd802c4d11e04728a950e5e0d2c111d7-0-7\" stroke-width=\"2px\" d=\"M945,614.5 C945,352.0 1430.0,352.0 1430.0,614.5\" fill=\"none\" stroke=\"currentColor\"/>\n    <text dy=\"1.25em\" style=\"font-size: 0.8em; letter-spacing: 1px\">\n        <textPath xlink:href=\"#arrow-fd802c4d11e04728a950e5e0d2c111d7-0-7\" class=\"displacy-label\" startOffset=\"50%\" side=\"left\" fill=\"currentColor\" text-anchor=\"middle\">pobj</textPath>\n    </text>\n    <path class=\"displacy-arrowhead\" d=\"M1430.0,616.5 L1438.0,604.5 1422.0,604.5\" fill=\"currentColor\"/>\n</g>\n\n<g class=\"displacy-arrow\">\n    <path class=\"displacy-arc\" id=\"arrow-fd802c4d11e04728a950e5e0d2c111d7-0-8\" stroke-width=\"2px\" d=\"M245,614.5 C245,89.5 1620.0,89.5 1620.0,614.5\" fill=\"none\" stroke=\"currentColor\"/>\n    <text dy=\"1.25em\" style=\"font-size: 0.8em; letter-spacing: 1px\">\n        <textPath xlink:href=\"#arrow-fd802c4d11e04728a950e5e0d2c111d7-0-8\" class=\"displacy-label\" startOffset=\"50%\" side=\"left\" fill=\"currentColor\" text-anchor=\"middle\">prep</textPath>\n    </text>\n    <path class=\"displacy-arrowhead\" d=\"M1620.0,616.5 L1628.0,604.5 1612.0,604.5\" fill=\"currentColor\"/>\n</g>\n\n<g class=\"displacy-arrow\">\n    <path class=\"displacy-arc\" id=\"arrow-fd802c4d11e04728a950e5e0d2c111d7-0-9\" stroke-width=\"2px\" d=\"M1820,614.5 C1820,527.0 1945.0,527.0 1945.0,614.5\" fill=\"none\" stroke=\"currentColor\"/>\n    <text dy=\"1.25em\" style=\"font-size: 0.8em; letter-spacing: 1px\">\n        <textPath xlink:href=\"#arrow-fd802c4d11e04728a950e5e0d2c111d7-0-9\" class=\"displacy-label\" startOffset=\"50%\" side=\"left\" fill=\"currentColor\" text-anchor=\"middle\">det</textPath>\n    </text>\n    <path class=\"displacy-arrowhead\" d=\"M1820,616.5 L1812,604.5 1828,604.5\" fill=\"currentColor\"/>\n</g>\n\n<g class=\"displacy-arrow\">\n    <path class=\"displacy-arc\" id=\"arrow-fd802c4d11e04728a950e5e0d2c111d7-0-10\" stroke-width=\"2px\" d=\"M1645,614.5 C1645,439.5 1950.0,439.5 1950.0,614.5\" fill=\"none\" stroke=\"currentColor\"/>\n    <text dy=\"1.25em\" style=\"font-size: 0.8em; letter-spacing: 1px\">\n        <textPath xlink:href=\"#arrow-fd802c4d11e04728a950e5e0d2c111d7-0-10\" class=\"displacy-label\" startOffset=\"50%\" side=\"left\" fill=\"currentColor\" text-anchor=\"middle\">pobj</textPath>\n    </text>\n    <path class=\"displacy-arrowhead\" d=\"M1950.0,616.5 L1958.0,604.5 1942.0,604.5\" fill=\"currentColor\"/>\n</g>\n\n<g class=\"displacy-arrow\">\n    <path class=\"displacy-arc\" id=\"arrow-fd802c4d11e04728a950e5e0d2c111d7-0-11\" stroke-width=\"2px\" d=\"M1995,614.5 C1995,527.0 2120.0,527.0 2120.0,614.5\" fill=\"none\" stroke=\"currentColor\"/>\n    <text dy=\"1.25em\" style=\"font-size: 0.8em; letter-spacing: 1px\">\n        <textPath xlink:href=\"#arrow-fd802c4d11e04728a950e5e0d2c111d7-0-11\" class=\"displacy-label\" startOffset=\"50%\" side=\"left\" fill=\"currentColor\" text-anchor=\"middle\">prep</textPath>\n    </text>\n    <path class=\"displacy-arrowhead\" d=\"M2120.0,616.5 L2128.0,604.5 2112.0,604.5\" fill=\"currentColor\"/>\n</g>\n\n<g class=\"displacy-arrow\">\n    <path class=\"displacy-arc\" id=\"arrow-fd802c4d11e04728a950e5e0d2c111d7-0-12\" stroke-width=\"2px\" d=\"M2345,614.5 C2345,177.0 3190.0,177.0 3190.0,614.5\" fill=\"none\" stroke=\"currentColor\"/>\n    <text dy=\"1.25em\" style=\"font-size: 0.8em; letter-spacing: 1px\">\n        <textPath xlink:href=\"#arrow-fd802c4d11e04728a950e5e0d2c111d7-0-12\" class=\"displacy-label\" startOffset=\"50%\" side=\"left\" fill=\"currentColor\" text-anchor=\"middle\">det</textPath>\n    </text>\n    <path class=\"displacy-arrowhead\" d=\"M2345,616.5 L2337,604.5 2353,604.5\" fill=\"currentColor\"/>\n</g>\n\n<g class=\"displacy-arrow\">\n    <path class=\"displacy-arc\" id=\"arrow-fd802c4d11e04728a950e5e0d2c111d7-0-13\" stroke-width=\"2px\" d=\"M2345,614.5 C2345,527.0 2470.0,527.0 2470.0,614.5\" fill=\"none\" stroke=\"currentColor\"/>\n    <text dy=\"1.25em\" style=\"font-size: 0.8em; letter-spacing: 1px\">\n        <textPath xlink:href=\"#arrow-fd802c4d11e04728a950e5e0d2c111d7-0-13\" class=\"displacy-label\" startOffset=\"50%\" side=\"left\" fill=\"currentColor\" text-anchor=\"middle\"></textPath>\n    </text>\n    <path class=\"displacy-arrowhead\" d=\"M2470.0,616.5 L2478.0,604.5 2462.0,604.5\" fill=\"currentColor\"/>\n</g>\n\n<g class=\"displacy-arrow\">\n    <path class=\"displacy-arc\" id=\"arrow-fd802c4d11e04728a950e5e0d2c111d7-0-14\" stroke-width=\"2px\" d=\"M2695,614.5 C2695,527.0 2820.0,527.0 2820.0,614.5\" fill=\"none\" stroke=\"currentColor\"/>\n    <text dy=\"1.25em\" style=\"font-size: 0.8em; letter-spacing: 1px\">\n        <textPath xlink:href=\"#arrow-fd802c4d11e04728a950e5e0d2c111d7-0-14\" class=\"displacy-label\" startOffset=\"50%\" side=\"left\" fill=\"currentColor\" text-anchor=\"middle\">advmod</textPath>\n    </text>\n    <path class=\"displacy-arrowhead\" d=\"M2695,616.5 L2687,604.5 2703,604.5\" fill=\"currentColor\"/>\n</g>\n\n<g class=\"displacy-arrow\">\n    <path class=\"displacy-arc\" id=\"arrow-fd802c4d11e04728a950e5e0d2c111d7-0-15\" stroke-width=\"2px\" d=\"M2870,614.5 C2870,439.5 3175.0,439.5 3175.0,614.5\" fill=\"none\" stroke=\"currentColor\"/>\n    <text dy=\"1.25em\" style=\"font-size: 0.8em; letter-spacing: 1px\">\n        <textPath xlink:href=\"#arrow-fd802c4d11e04728a950e5e0d2c111d7-0-15\" class=\"displacy-label\" startOffset=\"50%\" side=\"left\" fill=\"currentColor\" text-anchor=\"middle\">amod</textPath>\n    </text>\n    <path class=\"displacy-arrowhead\" d=\"M2870,616.5 L2862,604.5 2878,604.5\" fill=\"currentColor\"/>\n</g>\n\n<g class=\"displacy-arrow\">\n    <path class=\"displacy-arc\" id=\"arrow-fd802c4d11e04728a950e5e0d2c111d7-0-16\" stroke-width=\"2px\" d=\"M3045,614.5 C3045,527.0 3170.0,527.0 3170.0,614.5\" fill=\"none\" stroke=\"currentColor\"/>\n    <text dy=\"1.25em\" style=\"font-size: 0.8em; letter-spacing: 1px\">\n        <textPath xlink:href=\"#arrow-fd802c4d11e04728a950e5e0d2c111d7-0-16\" class=\"displacy-label\" startOffset=\"50%\" side=\"left\" fill=\"currentColor\" text-anchor=\"middle\">compound</textPath>\n    </text>\n    <path class=\"displacy-arrowhead\" d=\"M3045,616.5 L3037,604.5 3053,604.5\" fill=\"currentColor\"/>\n</g>\n\n<g class=\"displacy-arrow\">\n    <path class=\"displacy-arc\" id=\"arrow-fd802c4d11e04728a950e5e0d2c111d7-0-17\" stroke-width=\"2px\" d=\"M245,614.5 C245,2.0 3200.0,2.0 3200.0,614.5\" fill=\"none\" stroke=\"currentColor\"/>\n    <text dy=\"1.25em\" style=\"font-size: 0.8em; letter-spacing: 1px\">\n        <textPath xlink:href=\"#arrow-fd802c4d11e04728a950e5e0d2c111d7-0-17\" class=\"displacy-label\" startOffset=\"50%\" side=\"left\" fill=\"currentColor\" text-anchor=\"middle\">punct</textPath>\n    </text>\n    <path class=\"displacy-arrowhead\" d=\"M3200.0,616.5 L3208.0,604.5 3192.0,604.5\" fill=\"currentColor\"/>\n</g>\n\n<g class=\"displacy-arrow\">\n    <path class=\"displacy-arc\" id=\"arrow-fd802c4d11e04728a950e5e0d2c111d7-0-18\" stroke-width=\"2px\" d=\"M3220,614.5 C3220,527.0 3345.0,527.0 3345.0,614.5\" fill=\"none\" stroke=\"currentColor\"/>\n    <text dy=\"1.25em\" style=\"font-size: 0.8em; letter-spacing: 1px\">\n        <textPath xlink:href=\"#arrow-fd802c4d11e04728a950e5e0d2c111d7-0-18\" class=\"displacy-label\" startOffset=\"50%\" side=\"left\" fill=\"currentColor\" text-anchor=\"middle\"></textPath>\n    </text>\n    <path class=\"displacy-arrowhead\" d=\"M3345.0,616.5 L3353.0,604.5 3337.0,604.5\" fill=\"currentColor\"/>\n</g>\n</svg>"
     },
     "metadata": {}
    }
   ],
   "source": [
    "# Teacher Solution\n",
    "displacy.render(list(doc.sents)[3], style='dep', jupyter=True)"
   ]
  },
  {
   "cell_type": "code",
   "execution_count": 40,
   "metadata": {},
   "outputs": [
    {
     "output_type": "display_data",
     "data": {
      "text/plain": "<IPython.core.display.HTML object>",
      "text/html": "<svg xmlns=\"http://www.w3.org/2000/svg\" xmlns:xlink=\"http://www.w3.org/1999/xlink\" xml:lang=\"en\" id=\"00ab0cc88c24411c992662ea72014a2e-0\" class=\"displacy\" width=\"3050\" height=\"662.0\" direction=\"ltr\" style=\"max-width: none; height: 662.0px; color: #000000; background: #ffffff; font-family: Arial; direction: ltr\">\n<text class=\"displacy-token\" fill=\"currentColor\" text-anchor=\"middle\" y=\"572.0\">\n    <tspan class=\"displacy-word\" fill=\"currentColor\" x=\"50\">They</tspan>\n    <tspan class=\"displacy-tag\" dy=\"2em\" fill=\"currentColor\" x=\"50\">PRON</tspan>\n</text>\n\n<text class=\"displacy-token\" fill=\"currentColor\" text-anchor=\"middle\" y=\"572.0\">\n    <tspan class=\"displacy-word\" fill=\"currentColor\" x=\"200\">lived</tspan>\n    <tspan class=\"displacy-tag\" dy=\"2em\" fill=\"currentColor\" x=\"200\">VERB</tspan>\n</text>\n\n<text class=\"displacy-token\" fill=\"currentColor\" text-anchor=\"middle\" y=\"572.0\">\n    <tspan class=\"displacy-word\" fill=\"currentColor\" x=\"350\">with</tspan>\n    <tspan class=\"displacy-tag\" dy=\"2em\" fill=\"currentColor\" x=\"350\">ADP</tspan>\n</text>\n\n<text class=\"displacy-token\" fill=\"currentColor\" text-anchor=\"middle\" y=\"572.0\">\n    <tspan class=\"displacy-word\" fill=\"currentColor\" x=\"500\">their</tspan>\n    <tspan class=\"displacy-tag\" dy=\"2em\" fill=\"currentColor\" x=\"500\">DET</tspan>\n</text>\n\n<text class=\"displacy-token\" fill=\"currentColor\" text-anchor=\"middle\" y=\"572.0\">\n    <tspan class=\"displacy-word\" fill=\"currentColor\" x=\"650\">Mother</tspan>\n    <tspan class=\"displacy-tag\" dy=\"2em\" fill=\"currentColor\" x=\"650\">PROPN</tspan>\n</text>\n\n<text class=\"displacy-token\" fill=\"currentColor\" text-anchor=\"middle\" y=\"572.0\">\n    <tspan class=\"displacy-word\" fill=\"currentColor\" x=\"800\">in</tspan>\n    <tspan class=\"displacy-tag\" dy=\"2em\" fill=\"currentColor\" x=\"800\">ADP</tspan>\n</text>\n\n<text class=\"displacy-token\" fill=\"currentColor\" text-anchor=\"middle\" y=\"572.0\">\n    <tspan class=\"displacy-word\" fill=\"currentColor\" x=\"950\">a</tspan>\n    <tspan class=\"displacy-tag\" dy=\"2em\" fill=\"currentColor\" x=\"950\">DET</tspan>\n</text>\n\n<text class=\"displacy-token\" fill=\"currentColor\" text-anchor=\"middle\" y=\"572.0\">\n    <tspan class=\"displacy-word\" fill=\"currentColor\" x=\"1100\">sand-</tspan>\n    <tspan class=\"displacy-tag\" dy=\"2em\" fill=\"currentColor\" x=\"1100\">NOUN</tspan>\n</text>\n\n<text class=\"displacy-token\" fill=\"currentColor\" text-anchor=\"middle\" y=\"572.0\">\n    <tspan class=\"displacy-word\" fill=\"currentColor\" x=\"1250\">bank,</tspan>\n    <tspan class=\"displacy-tag\" dy=\"2em\" fill=\"currentColor\" x=\"1250\">NOUN</tspan>\n</text>\n\n<text class=\"displacy-token\" fill=\"currentColor\" text-anchor=\"middle\" y=\"572.0\">\n    <tspan class=\"displacy-word\" fill=\"currentColor\" x=\"1400\">underneath</tspan>\n    <tspan class=\"displacy-tag\" dy=\"2em\" fill=\"currentColor\" x=\"1400\">ADP</tspan>\n</text>\n\n<text class=\"displacy-token\" fill=\"currentColor\" text-anchor=\"middle\" y=\"572.0\">\n    <tspan class=\"displacy-word\" fill=\"currentColor\" x=\"1550\">the</tspan>\n    <tspan class=\"displacy-tag\" dy=\"2em\" fill=\"currentColor\" x=\"1550\">DET</tspan>\n</text>\n\n<text class=\"displacy-token\" fill=\"currentColor\" text-anchor=\"middle\" y=\"572.0\">\n    <tspan class=\"displacy-word\" fill=\"currentColor\" x=\"1700\">root</tspan>\n    <tspan class=\"displacy-tag\" dy=\"2em\" fill=\"currentColor\" x=\"1700\">NOUN</tspan>\n</text>\n\n<text class=\"displacy-token\" fill=\"currentColor\" text-anchor=\"middle\" y=\"572.0\">\n    <tspan class=\"displacy-word\" fill=\"currentColor\" x=\"1850\">of</tspan>\n    <tspan class=\"displacy-tag\" dy=\"2em\" fill=\"currentColor\" x=\"1850\">ADP</tspan>\n</text>\n\n<text class=\"displacy-token\" fill=\"currentColor\" text-anchor=\"middle\" y=\"572.0\">\n    <tspan class=\"displacy-word\" fill=\"currentColor\" x=\"2000\">a</tspan>\n    <tspan class=\"displacy-tag\" dy=\"2em\" fill=\"currentColor\" x=\"2000\">DET</tspan>\n</text>\n\n<text class=\"displacy-token\" fill=\"currentColor\" text-anchor=\"middle\" y=\"572.0\">\n    <tspan class=\"displacy-word\" fill=\"currentColor\" x=\"2150\">\n</tspan>\n    <tspan class=\"displacy-tag\" dy=\"2em\" fill=\"currentColor\" x=\"2150\">SPACE</tspan>\n</text>\n\n<text class=\"displacy-token\" fill=\"currentColor\" text-anchor=\"middle\" y=\"572.0\">\n    <tspan class=\"displacy-word\" fill=\"currentColor\" x=\"2300\">very</tspan>\n    <tspan class=\"displacy-tag\" dy=\"2em\" fill=\"currentColor\" x=\"2300\">ADV</tspan>\n</text>\n\n<text class=\"displacy-token\" fill=\"currentColor\" text-anchor=\"middle\" y=\"572.0\">\n    <tspan class=\"displacy-word\" fill=\"currentColor\" x=\"2450\">big</tspan>\n    <tspan class=\"displacy-tag\" dy=\"2em\" fill=\"currentColor\" x=\"2450\">ADJ</tspan>\n</text>\n\n<text class=\"displacy-token\" fill=\"currentColor\" text-anchor=\"middle\" y=\"572.0\">\n    <tspan class=\"displacy-word\" fill=\"currentColor\" x=\"2600\">fir-</tspan>\n    <tspan class=\"displacy-tag\" dy=\"2em\" fill=\"currentColor\" x=\"2600\">NOUN</tspan>\n</text>\n\n<text class=\"displacy-token\" fill=\"currentColor\" text-anchor=\"middle\" y=\"572.0\">\n    <tspan class=\"displacy-word\" fill=\"currentColor\" x=\"2750\">tree.</tspan>\n    <tspan class=\"displacy-tag\" dy=\"2em\" fill=\"currentColor\" x=\"2750\">NOUN</tspan>\n</text>\n\n<text class=\"displacy-token\" fill=\"currentColor\" text-anchor=\"middle\" y=\"572.0\">\n    <tspan class=\"displacy-word\" fill=\"currentColor\" x=\"2900\">\n\n</tspan>\n    <tspan class=\"displacy-tag\" dy=\"2em\" fill=\"currentColor\" x=\"2900\">SPACE</tspan>\n</text>\n\n<g class=\"displacy-arrow\">\n    <path class=\"displacy-arc\" id=\"arrow-00ab0cc88c24411c992662ea72014a2e-0-0\" stroke-width=\"2px\" d=\"M70,527.0 C70,452.0 170.0,452.0 170.0,527.0\" fill=\"none\" stroke=\"currentColor\"/>\n    <text dy=\"1.25em\" style=\"font-size: 0.8em; letter-spacing: 1px\">\n        <textPath xlink:href=\"#arrow-00ab0cc88c24411c992662ea72014a2e-0-0\" class=\"displacy-label\" startOffset=\"50%\" side=\"left\" fill=\"currentColor\" text-anchor=\"middle\">nsubj</textPath>\n    </text>\n    <path class=\"displacy-arrowhead\" d=\"M70,529.0 L62,517.0 78,517.0\" fill=\"currentColor\"/>\n</g>\n\n<g class=\"displacy-arrow\">\n    <path class=\"displacy-arc\" id=\"arrow-00ab0cc88c24411c992662ea72014a2e-0-1\" stroke-width=\"2px\" d=\"M220,527.0 C220,452.0 320.0,452.0 320.0,527.0\" fill=\"none\" stroke=\"currentColor\"/>\n    <text dy=\"1.25em\" style=\"font-size: 0.8em; letter-spacing: 1px\">\n        <textPath xlink:href=\"#arrow-00ab0cc88c24411c992662ea72014a2e-0-1\" class=\"displacy-label\" startOffset=\"50%\" side=\"left\" fill=\"currentColor\" text-anchor=\"middle\">prep</textPath>\n    </text>\n    <path class=\"displacy-arrowhead\" d=\"M320.0,529.0 L328.0,517.0 312.0,517.0\" fill=\"currentColor\"/>\n</g>\n\n<g class=\"displacy-arrow\">\n    <path class=\"displacy-arc\" id=\"arrow-00ab0cc88c24411c992662ea72014a2e-0-2\" stroke-width=\"2px\" d=\"M520,527.0 C520,452.0 620.0,452.0 620.0,527.0\" fill=\"none\" stroke=\"currentColor\"/>\n    <text dy=\"1.25em\" style=\"font-size: 0.8em; letter-spacing: 1px\">\n        <textPath xlink:href=\"#arrow-00ab0cc88c24411c992662ea72014a2e-0-2\" class=\"displacy-label\" startOffset=\"50%\" side=\"left\" fill=\"currentColor\" text-anchor=\"middle\">poss</textPath>\n    </text>\n    <path class=\"displacy-arrowhead\" d=\"M520,529.0 L512,517.0 528,517.0\" fill=\"currentColor\"/>\n</g>\n\n<g class=\"displacy-arrow\">\n    <path class=\"displacy-arc\" id=\"arrow-00ab0cc88c24411c992662ea72014a2e-0-3\" stroke-width=\"2px\" d=\"M370,527.0 C370,377.0 625.0,377.0 625.0,527.0\" fill=\"none\" stroke=\"currentColor\"/>\n    <text dy=\"1.25em\" style=\"font-size: 0.8em; letter-spacing: 1px\">\n        <textPath xlink:href=\"#arrow-00ab0cc88c24411c992662ea72014a2e-0-3\" class=\"displacy-label\" startOffset=\"50%\" side=\"left\" fill=\"currentColor\" text-anchor=\"middle\">pobj</textPath>\n    </text>\n    <path class=\"displacy-arrowhead\" d=\"M625.0,529.0 L633.0,517.0 617.0,517.0\" fill=\"currentColor\"/>\n</g>\n\n<g class=\"displacy-arrow\">\n    <path class=\"displacy-arc\" id=\"arrow-00ab0cc88c24411c992662ea72014a2e-0-4\" stroke-width=\"2px\" d=\"M220,527.0 C220,227.0 785.0,227.0 785.0,527.0\" fill=\"none\" stroke=\"currentColor\"/>\n    <text dy=\"1.25em\" style=\"font-size: 0.8em; letter-spacing: 1px\">\n        <textPath xlink:href=\"#arrow-00ab0cc88c24411c992662ea72014a2e-0-4\" class=\"displacy-label\" startOffset=\"50%\" side=\"left\" fill=\"currentColor\" text-anchor=\"middle\">prep</textPath>\n    </text>\n    <path class=\"displacy-arrowhead\" d=\"M785.0,529.0 L793.0,517.0 777.0,517.0\" fill=\"currentColor\"/>\n</g>\n\n<g class=\"displacy-arrow\">\n    <path class=\"displacy-arc\" id=\"arrow-00ab0cc88c24411c992662ea72014a2e-0-5\" stroke-width=\"2px\" d=\"M970,527.0 C970,377.0 1225.0,377.0 1225.0,527.0\" fill=\"none\" stroke=\"currentColor\"/>\n    <text dy=\"1.25em\" style=\"font-size: 0.8em; letter-spacing: 1px\">\n        <textPath xlink:href=\"#arrow-00ab0cc88c24411c992662ea72014a2e-0-5\" class=\"displacy-label\" startOffset=\"50%\" side=\"left\" fill=\"currentColor\" text-anchor=\"middle\">det</textPath>\n    </text>\n    <path class=\"displacy-arrowhead\" d=\"M970,529.0 L962,517.0 978,517.0\" fill=\"currentColor\"/>\n</g>\n\n<g class=\"displacy-arrow\">\n    <path class=\"displacy-arc\" id=\"arrow-00ab0cc88c24411c992662ea72014a2e-0-6\" stroke-width=\"2px\" d=\"M1120,527.0 C1120,452.0 1220.0,452.0 1220.0,527.0\" fill=\"none\" stroke=\"currentColor\"/>\n    <text dy=\"1.25em\" style=\"font-size: 0.8em; letter-spacing: 1px\">\n        <textPath xlink:href=\"#arrow-00ab0cc88c24411c992662ea72014a2e-0-6\" class=\"displacy-label\" startOffset=\"50%\" side=\"left\" fill=\"currentColor\" text-anchor=\"middle\">compound</textPath>\n    </text>\n    <path class=\"displacy-arrowhead\" d=\"M1120,529.0 L1112,517.0 1128,517.0\" fill=\"currentColor\"/>\n</g>\n\n<g class=\"displacy-arrow\">\n    <path class=\"displacy-arc\" id=\"arrow-00ab0cc88c24411c992662ea72014a2e-0-7\" stroke-width=\"2px\" d=\"M820,527.0 C820,302.0 1230.0,302.0 1230.0,527.0\" fill=\"none\" stroke=\"currentColor\"/>\n    <text dy=\"1.25em\" style=\"font-size: 0.8em; letter-spacing: 1px\">\n        <textPath xlink:href=\"#arrow-00ab0cc88c24411c992662ea72014a2e-0-7\" class=\"displacy-label\" startOffset=\"50%\" side=\"left\" fill=\"currentColor\" text-anchor=\"middle\">pobj</textPath>\n    </text>\n    <path class=\"displacy-arrowhead\" d=\"M1230.0,529.0 L1238.0,517.0 1222.0,517.0\" fill=\"currentColor\"/>\n</g>\n\n<g class=\"displacy-arrow\">\n    <path class=\"displacy-arc\" id=\"arrow-00ab0cc88c24411c992662ea72014a2e-0-8\" stroke-width=\"2px\" d=\"M220,527.0 C220,77.0 1395.0,77.0 1395.0,527.0\" fill=\"none\" stroke=\"currentColor\"/>\n    <text dy=\"1.25em\" style=\"font-size: 0.8em; letter-spacing: 1px\">\n        <textPath xlink:href=\"#arrow-00ab0cc88c24411c992662ea72014a2e-0-8\" class=\"displacy-label\" startOffset=\"50%\" side=\"left\" fill=\"currentColor\" text-anchor=\"middle\">prep</textPath>\n    </text>\n    <path class=\"displacy-arrowhead\" d=\"M1395.0,529.0 L1403.0,517.0 1387.0,517.0\" fill=\"currentColor\"/>\n</g>\n\n<g class=\"displacy-arrow\">\n    <path class=\"displacy-arc\" id=\"arrow-00ab0cc88c24411c992662ea72014a2e-0-9\" stroke-width=\"2px\" d=\"M1570,527.0 C1570,452.0 1670.0,452.0 1670.0,527.0\" fill=\"none\" stroke=\"currentColor\"/>\n    <text dy=\"1.25em\" style=\"font-size: 0.8em; letter-spacing: 1px\">\n        <textPath xlink:href=\"#arrow-00ab0cc88c24411c992662ea72014a2e-0-9\" class=\"displacy-label\" startOffset=\"50%\" side=\"left\" fill=\"currentColor\" text-anchor=\"middle\">det</textPath>\n    </text>\n    <path class=\"displacy-arrowhead\" d=\"M1570,529.0 L1562,517.0 1578,517.0\" fill=\"currentColor\"/>\n</g>\n\n<g class=\"displacy-arrow\">\n    <path class=\"displacy-arc\" id=\"arrow-00ab0cc88c24411c992662ea72014a2e-0-10\" stroke-width=\"2px\" d=\"M1420,527.0 C1420,377.0 1675.0,377.0 1675.0,527.0\" fill=\"none\" stroke=\"currentColor\"/>\n    <text dy=\"1.25em\" style=\"font-size: 0.8em; letter-spacing: 1px\">\n        <textPath xlink:href=\"#arrow-00ab0cc88c24411c992662ea72014a2e-0-10\" class=\"displacy-label\" startOffset=\"50%\" side=\"left\" fill=\"currentColor\" text-anchor=\"middle\">pobj</textPath>\n    </text>\n    <path class=\"displacy-arrowhead\" d=\"M1675.0,529.0 L1683.0,517.0 1667.0,517.0\" fill=\"currentColor\"/>\n</g>\n\n<g class=\"displacy-arrow\">\n    <path class=\"displacy-arc\" id=\"arrow-00ab0cc88c24411c992662ea72014a2e-0-11\" stroke-width=\"2px\" d=\"M1720,527.0 C1720,452.0 1820.0,452.0 1820.0,527.0\" fill=\"none\" stroke=\"currentColor\"/>\n    <text dy=\"1.25em\" style=\"font-size: 0.8em; letter-spacing: 1px\">\n        <textPath xlink:href=\"#arrow-00ab0cc88c24411c992662ea72014a2e-0-11\" class=\"displacy-label\" startOffset=\"50%\" side=\"left\" fill=\"currentColor\" text-anchor=\"middle\">prep</textPath>\n    </text>\n    <path class=\"displacy-arrowhead\" d=\"M1820.0,529.0 L1828.0,517.0 1812.0,517.0\" fill=\"currentColor\"/>\n</g>\n\n<g class=\"displacy-arrow\">\n    <path class=\"displacy-arc\" id=\"arrow-00ab0cc88c24411c992662ea72014a2e-0-12\" stroke-width=\"2px\" d=\"M2020,527.0 C2020,152.0 2740.0,152.0 2740.0,527.0\" fill=\"none\" stroke=\"currentColor\"/>\n    <text dy=\"1.25em\" style=\"font-size: 0.8em; letter-spacing: 1px\">\n        <textPath xlink:href=\"#arrow-00ab0cc88c24411c992662ea72014a2e-0-12\" class=\"displacy-label\" startOffset=\"50%\" side=\"left\" fill=\"currentColor\" text-anchor=\"middle\">det</textPath>\n    </text>\n    <path class=\"displacy-arrowhead\" d=\"M2020,529.0 L2012,517.0 2028,517.0\" fill=\"currentColor\"/>\n</g>\n\n<g class=\"displacy-arrow\">\n    <path class=\"displacy-arc\" id=\"arrow-00ab0cc88c24411c992662ea72014a2e-0-13\" stroke-width=\"2px\" d=\"M2020,527.0 C2020,452.0 2120.0,452.0 2120.0,527.0\" fill=\"none\" stroke=\"currentColor\"/>\n    <text dy=\"1.25em\" style=\"font-size: 0.8em; letter-spacing: 1px\">\n        <textPath xlink:href=\"#arrow-00ab0cc88c24411c992662ea72014a2e-0-13\" class=\"displacy-label\" startOffset=\"50%\" side=\"left\" fill=\"currentColor\" text-anchor=\"middle\"></textPath>\n    </text>\n    <path class=\"displacy-arrowhead\" d=\"M2120.0,529.0 L2128.0,517.0 2112.0,517.0\" fill=\"currentColor\"/>\n</g>\n\n<g class=\"displacy-arrow\">\n    <path class=\"displacy-arc\" id=\"arrow-00ab0cc88c24411c992662ea72014a2e-0-14\" stroke-width=\"2px\" d=\"M2320,527.0 C2320,452.0 2420.0,452.0 2420.0,527.0\" fill=\"none\" stroke=\"currentColor\"/>\n    <text dy=\"1.25em\" style=\"font-size: 0.8em; letter-spacing: 1px\">\n        <textPath xlink:href=\"#arrow-00ab0cc88c24411c992662ea72014a2e-0-14\" class=\"displacy-label\" startOffset=\"50%\" side=\"left\" fill=\"currentColor\" text-anchor=\"middle\">advmod</textPath>\n    </text>\n    <path class=\"displacy-arrowhead\" d=\"M2320,529.0 L2312,517.0 2328,517.0\" fill=\"currentColor\"/>\n</g>\n\n<g class=\"displacy-arrow\">\n    <path class=\"displacy-arc\" id=\"arrow-00ab0cc88c24411c992662ea72014a2e-0-15\" stroke-width=\"2px\" d=\"M2470,527.0 C2470,377.0 2725.0,377.0 2725.0,527.0\" fill=\"none\" stroke=\"currentColor\"/>\n    <text dy=\"1.25em\" style=\"font-size: 0.8em; letter-spacing: 1px\">\n        <textPath xlink:href=\"#arrow-00ab0cc88c24411c992662ea72014a2e-0-15\" class=\"displacy-label\" startOffset=\"50%\" side=\"left\" fill=\"currentColor\" text-anchor=\"middle\">amod</textPath>\n    </text>\n    <path class=\"displacy-arrowhead\" d=\"M2470,529.0 L2462,517.0 2478,517.0\" fill=\"currentColor\"/>\n</g>\n\n<g class=\"displacy-arrow\">\n    <path class=\"displacy-arc\" id=\"arrow-00ab0cc88c24411c992662ea72014a2e-0-16\" stroke-width=\"2px\" d=\"M2620,527.0 C2620,452.0 2720.0,452.0 2720.0,527.0\" fill=\"none\" stroke=\"currentColor\"/>\n    <text dy=\"1.25em\" style=\"font-size: 0.8em; letter-spacing: 1px\">\n        <textPath xlink:href=\"#arrow-00ab0cc88c24411c992662ea72014a2e-0-16\" class=\"displacy-label\" startOffset=\"50%\" side=\"left\" fill=\"currentColor\" text-anchor=\"middle\">compound</textPath>\n    </text>\n    <path class=\"displacy-arrowhead\" d=\"M2620,529.0 L2612,517.0 2628,517.0\" fill=\"currentColor\"/>\n</g>\n\n<g class=\"displacy-arrow\">\n    <path class=\"displacy-arc\" id=\"arrow-00ab0cc88c24411c992662ea72014a2e-0-17\" stroke-width=\"2px\" d=\"M220,527.0 C220,2.0 2750.0,2.0 2750.0,527.0\" fill=\"none\" stroke=\"currentColor\"/>\n    <text dy=\"1.25em\" style=\"font-size: 0.8em; letter-spacing: 1px\">\n        <textPath xlink:href=\"#arrow-00ab0cc88c24411c992662ea72014a2e-0-17\" class=\"displacy-label\" startOffset=\"50%\" side=\"left\" fill=\"currentColor\" text-anchor=\"middle\">punct</textPath>\n    </text>\n    <path class=\"displacy-arrowhead\" d=\"M2750.0,529.0 L2758.0,517.0 2742.0,517.0\" fill=\"currentColor\"/>\n</g>\n\n<g class=\"displacy-arrow\">\n    <path class=\"displacy-arc\" id=\"arrow-00ab0cc88c24411c992662ea72014a2e-0-18\" stroke-width=\"2px\" d=\"M2770,527.0 C2770,452.0 2870.0,452.0 2870.0,527.0\" fill=\"none\" stroke=\"currentColor\"/>\n    <text dy=\"1.25em\" style=\"font-size: 0.8em; letter-spacing: 1px\">\n        <textPath xlink:href=\"#arrow-00ab0cc88c24411c992662ea72014a2e-0-18\" class=\"displacy-label\" startOffset=\"50%\" side=\"left\" fill=\"currentColor\" text-anchor=\"middle\"></textPath>\n    </text>\n    <path class=\"displacy-arrowhead\" d=\"M2870.0,529.0 L2878.0,517.0 2862.0,517.0\" fill=\"currentColor\"/>\n</g>\n</svg>"
     },
     "metadata": {}
    }
   ],
   "source": [
    "# MY SOLUTION\n",
    "index = 0\n",
    "for sent in doc.sents:\n",
    "    if(index == 3):\n",
    "        displacy.render(sent, style='dep', jupyter=True, options={'distance': 150})\n",
    "        break\n",
    "    index += 1"
   ]
  },
  {
   "cell_type": "markdown",
   "metadata": {},
   "source": [
    "**6. Show the first two named entities from Beatrix Potter's *The Tale of Peter Rabbit* **"
   ]
  },
  {
   "cell_type": "code",
   "execution_count": 87,
   "metadata": {},
   "outputs": [
    {
     "output_type": "stream",
     "name": "stdout",
     "text": [
      "Peter Rabbit - PERSON - People, including fictional\nBeatrix Potter - PERSON - People, including fictional\n"
     ]
    }
   ],
   "source": [
    "# Teacher Solution\n",
    "for ent in doc.ents[:2]:\n",
    "    print(ent.text + ' - ' + ent.label_ + ' - ' + str(spacy.explain(ent.label_)))"
   ]
  },
  {
   "cell_type": "code",
   "execution_count": 85,
   "metadata": {},
   "outputs": [
    {
     "output_type": "stream",
     "name": "stdout",
     "text": [
      "Peter Rabbit - PERSON - People, including fictional\nBeatrix Potter - PERSON - People, including fictional\n1902 - DATE - Absolute or relative dates or periods\n"
     ]
    }
   ],
   "source": [
    "# My solution\n",
    "for ent in list(doc.sents)[0].ents:\n",
    "    print(ent.text + ' - ' + ent.label_ + ' - ' + str(spacy.explain(ent.label_)))\n"
   ]
  },
  {
   "cell_type": "markdown",
   "metadata": {},
   "source": [
    "**7. How many sentences are contained in *The Tale of Peter Rabbit*?**"
   ]
  },
  {
   "cell_type": "code",
   "execution_count": 46,
   "metadata": {},
   "outputs": [
    {
     "output_type": "execute_result",
     "data": {
      "text/plain": [
       "60"
      ]
     },
     "metadata": {},
     "execution_count": 46
    }
   ],
   "source": [
    "len(list(doc.sents))"
   ]
  },
  {
   "cell_type": "markdown",
   "metadata": {},
   "source": [
    "**8. CHALLENGE: How many sentences contain named entities?**"
   ]
  },
  {
   "cell_type": "code",
   "execution_count": 92,
   "metadata": {},
   "outputs": [
    {
     "output_type": "execute_result",
     "data": {
      "text/plain": [
       "39"
      ]
     },
     "metadata": {},
     "execution_count": 92
    }
   ],
   "source": [
    "# Teacher Solution\n",
    "list_of_sents = [nlp(sent.text) for sent in doc.sents]\n",
    "list_of_nent = [doc for doc in list_of_sents if doc.ents] # return sentence that contains entities in its doc\n",
    "len(list_of_nent)"
   ]
  },
  {
   "cell_type": "code",
   "execution_count": 51,
   "metadata": {},
   "outputs": [],
   "source": [
    "# My Solution\n",
    "def count_sent_named_entities(doc):\n",
    "    counter = 0\n",
    "    # iterate over each sentence\n",
    "    for sent in doc.sents:\n",
    "        if sent.ents:\n",
    "            counter += 1\n",
    "    print(counter)\n",
    "\n",
    "# 49"
   ]
  },
  {
   "cell_type": "code",
   "execution_count": 52,
   "metadata": {},
   "outputs": [
    {
     "output_type": "stream",
     "name": "stdout",
     "text": [
      "39\n"
     ]
    }
   ],
   "source": [
    "count_sent_named_entities(doc)"
   ]
  },
  {
   "cell_type": "markdown",
   "metadata": {},
   "source": [
    "**9. CHALLENGE: Display the named entity visualization for `list_of_sents[0]` from the previous problem**"
   ]
  },
  {
   "cell_type": "code",
   "execution_count": 93,
   "metadata": {},
   "outputs": [
    {
     "output_type": "display_data",
     "data": {
      "text/plain": "<IPython.core.display.HTML object>",
      "text/html": "<div class=\"entities\" style=\"line-height: 2.5; direction: ltr\">The Tale of \n<mark class=\"entity\" style=\"background: #aa9cfc; padding: 0.45em 0.6em; margin: 0 0.25em; line-height: 1; border-radius: 0.35em; box-decoration-break: clone; -webkit-box-decoration-break: clone\">\n    Peter Rabbit\n    <span style=\"font-size: 0.8em; font-weight: bold; line-height: 1; border-radius: 0.35em; text-transform: uppercase; vertical-align: middle; margin-left: 0.5rem\">PERSON</span>\n</mark>\n, by \n<mark class=\"entity\" style=\"background: #aa9cfc; padding: 0.45em 0.6em; margin: 0 0.25em; line-height: 1; border-radius: 0.35em; box-decoration-break: clone; -webkit-box-decoration-break: clone\">\n    Beatrix Potter\n    <span style=\"font-size: 0.8em; font-weight: bold; line-height: 1; border-radius: 0.35em; text-transform: uppercase; vertical-align: middle; margin-left: 0.5rem\">PERSON</span>\n</mark>\n (\n<mark class=\"entity\" style=\"background: #bfe1d9; padding: 0.45em 0.6em; margin: 0 0.25em; line-height: 1; border-radius: 0.35em; box-decoration-break: clone; -webkit-box-decoration-break: clone\">\n    1902\n    <span style=\"font-size: 0.8em; font-weight: bold; line-height: 1; border-radius: 0.35em; text-transform: uppercase; vertical-align: middle; margin-left: 0.5rem\">DATE</span>\n</mark>\n).\n\n</div>"
     },
     "metadata": {}
    }
   ],
   "source": [
    "# Teacher Solution\n",
    "displacy.render(list_of_sents[0], style='ent', jupyter=True)"
   ]
  },
  {
   "cell_type": "code",
   "execution_count": 94,
   "metadata": {},
   "outputs": [
    {
     "output_type": "display_data",
     "data": {
      "text/plain": "<IPython.core.display.HTML object>",
      "text/html": "<div class=\"entities\" style=\"line-height: 2.5; direction: ltr\">The Tale of \n<mark class=\"entity\" style=\"background: #aa9cfc; padding: 0.45em 0.6em; margin: 0 0.25em; line-height: 1; border-radius: 0.35em; box-decoration-break: clone; -webkit-box-decoration-break: clone\">\n    Peter Rabbit\n    <span style=\"font-size: 0.8em; font-weight: bold; line-height: 1; border-radius: 0.35em; text-transform: uppercase; vertical-align: middle; margin-left: 0.5rem\">PERSON</span>\n</mark>\n, by \n<mark class=\"entity\" style=\"background: #aa9cfc; padding: 0.45em 0.6em; margin: 0 0.25em; line-height: 1; border-radius: 0.35em; box-decoration-break: clone; -webkit-box-decoration-break: clone\">\n    Beatrix Potter\n    <span style=\"font-size: 0.8em; font-weight: bold; line-height: 1; border-radius: 0.35em; text-transform: uppercase; vertical-align: middle; margin-left: 0.5rem\">PERSON</span>\n</mark>\n (\n<mark class=\"entity\" style=\"background: #bfe1d9; padding: 0.45em 0.6em; margin: 0 0.25em; line-height: 1; border-radius: 0.35em; box-decoration-break: clone; -webkit-box-decoration-break: clone\">\n    1902\n    <span style=\"font-size: 0.8em; font-weight: bold; line-height: 1; border-radius: 0.35em; text-transform: uppercase; vertical-align: middle; margin-left: 0.5rem\">DATE</span>\n</mark>\n).\n\n</div>"
     },
     "metadata": {}
    }
   ],
   "source": [
    "# MY SOLUTION\n",
    "displacy.render(nlp(list(doc.sents)[0].text), style='ent', jupyter=True)"
   ]
  },
  {
   "cell_type": "markdown",
   "metadata": {},
   "source": [
    "### Great Job!"
   ]
  }
 ],
 "metadata": {
  "kernelspec": {
   "display_name": "Python 3",
   "language": "python",
   "name": "python3"
  },
  "language_info": {
   "codemirror_mode": {
    "name": "ipython",
    "version": 3
   },
   "file_extension": ".py",
   "mimetype": "text/x-python",
   "name": "python",
   "nbconvert_exporter": "python",
   "pygments_lexer": "ipython3",
   "version": "3.7.4-final"
  }
 },
 "nbformat": 4,
 "nbformat_minor": 2
}