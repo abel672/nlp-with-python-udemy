{
 "metadata": {
  "language_info": {
   "codemirror_mode": {
    "name": "ipython",
    "version": 3
   },
   "file_extension": ".py",
   "mimetype": "text/x-python",
   "name": "python",
   "nbconvert_exporter": "python",
   "pygments_lexer": "ipython3",
   "version": "3.7.4-final"
  },
  "orig_nbformat": 2,
  "kernelspec": {
   "name": "python3",
   "display_name": "Python 3",
   "language": "python"
  }
 },
 "nbformat": 4,
 "nbformat_minor": 2,
 "cells": [
  {
   "cell_type": "code",
   "execution_count": 1,
   "metadata": {},
   "outputs": [],
   "source": [
    "import spacy"
   ]
  },
  {
   "cell_type": "code",
   "execution_count": 2,
   "metadata": {},
   "outputs": [],
   "source": [
    "nlp = spacy.load('en_core_web_sm')"
   ]
  },
  {
   "cell_type": "code",
   "execution_count": 3,
   "metadata": {},
   "outputs": [
    {
     "output_type": "stream",
     "name": "stdout",
     "text": [
      "{'doing', 'where', 'than', 'yet', 'same', 'his', 'almost', 'keep', 'first', 'whereafter', 'can', 'further', 'ever', 'every', 'herein', 'becoming', 'among', '’ve', 'within', 'back', \"'d\", 'whereas', 'may', 'would', 'as', 'amount', 'have', 'when', 'do', 'eleven', 'few', 'itself', 'go', '’ll', 'whether', 'fifty', 'moreover', 'done', 'next', 'afterwards', 'least', 'anyhow', 'nowhere', 'take', 'something', 'several', 'ours', 'still', '’s', 'another', 'or', 'but', 'using', '’d', 'yourself', 'along', 'thereupon', 'latterly', 'about', 'himself', 'n’t', 'somewhere', 'seemed', 'therefore', 'everything', 'does', 'alone', 'via', 'in', 'nevertheless', 'twelve', \"'ll\", 'an', 'she', '‘m', 'such', 'our', 'across', 'namely', 'herself', 'everyone', 'anything', 'yours', 'for', 'together', 'unless', 'sometime', 'beforehand', 'they', 'put', 'say', 'beyond', 'which', 'hence', 'get', 'very', 'meanwhile', 'serious', 'most', 'because', 'under', 'top', 'noone', 'make', 'seem', \"n't\", 'fifteen', 'being', 'sometimes', 'by', \"'re\", 'since', 'hereafter', 'become', 'enough', 'front', '‘ll', 'its', 'what', 'again', 'who', 'and', 'neither', 'other', 'though', 'name', 'only', 'you', 'perhaps', \"'s\", 'per', 'regarding', 'others', 'hers', 'is', 'quite', 'well', 'her', 'could', 'why', 'whole', 'then', 'whereby', 'without', 'everywhere', 'until', 'somehow', 'eight', 'thence', 'a', 'nobody', 'while', 'be', 'indeed', 'third', 'had', 'less', 'any', 'part', 'toward', 'yourselves', 'own', 'he', 'various', 'behind', 'otherwise', 'ten', '‘re', 're', 'wherever', 'i', 'nothing', 'around', 'am', 'former', 'therein', 'towards', 'wherein', '’m', 'elsewhere', 'whoever', 'not', 'down', 'above', 'mostly', 'seeming', 'except', 'has', 'twenty', 'these', '‘d', 'now', 'hereupon', 'it', 'six', 'used', 'whom', 'there', 'through', 'each', 'into', 'side', 'seems', 'often', 'how', 'on', 'made', 'mine', 'so', 'already', 'against', 'no', 'those', 'last', 'might', 'whatever', 'their', 'please', 'amongst', 'themselves', 'never', 'bottom', 'formerly', 'of', 'n‘t', 'anyway', 'whose', 'with', 'my', 'will', 'one', 'that', '‘s', 'four', 'due', 'empty', 'below', 'whenever', 'upon', 'thru', 'myself', 'all', 'else', 'did', 'always', 'also', 'call', 'are', '‘ve', 'the', 'either', 'forty', 'rather', 'none', 'two', \"'ve\", 'besides', 'cannot', 'him', 'give', 'anywhere', 'from', 'became', 'nor', 'if', 'at', 'during', 'ourselves', 'hundred', 'beside', \"'m\", 'five', 'before', 'whence', 'out', 'however', 'see', 'more', 'were', '’re', 'even', 'been', 'many', 'much', 'whereupon', 'to', 'thereby', 'ca', 'up', 'we', 'show', 'becomes', 'between', 'sixty', 'off', 'anyone', 'should', 'although', 'after', 'me', 'nine', 'latter', 'must', 'this', 'them', 'someone', 'thus', 'full', 'whither', 'move', 'was', 'hereby', 'once', 'us', 'over', 'three', 'thereafter', 'onto', 'some', 'really', 'throughout', 'here', 'too', 'your', 'just', 'both'}\n"
     ]
    }
   ],
   "source": [
    "print(nlp.Defaults.stop_words)"
   ]
  },
  {
   "cell_type": "code",
   "execution_count": 4,
   "metadata": {},
   "outputs": [
    {
     "output_type": "execute_result",
     "data": {
      "text/plain": [
       "326"
      ]
     },
     "metadata": {},
     "execution_count": 4
    }
   ],
   "source": [
    "len(nlp.Defaults.stop_words)"
   ]
  },
  {
   "cell_type": "code",
   "execution_count": 5,
   "metadata": {},
   "outputs": [
    {
     "output_type": "execute_result",
     "data": {
      "text/plain": [
       "False"
      ]
     },
     "metadata": {},
     "execution_count": 5
    }
   ],
   "source": [
    "nlp.vocab['mistery'].is_stop"
   ]
  },
  {
   "cell_type": "code",
   "execution_count": 6,
   "metadata": {},
   "outputs": [],
   "source": [
    "# add custom stop word to the set\n",
    "nlp.Defaults.stop_words.add('btw')"
   ]
  },
  {
   "cell_type": "code",
   "execution_count": 7,
   "metadata": {},
   "outputs": [],
   "source": [
    "nlp.vocab['btw'].is_stop = True"
   ]
  },
  {
   "cell_type": "code",
   "execution_count": 10,
   "metadata": {},
   "outputs": [
    {
     "output_type": "execute_result",
     "data": {
      "text/plain": [
       "327"
      ]
     },
     "metadata": {},
     "execution_count": 10
    }
   ],
   "source": [
    "len(nlp.Defaults.stop_words)"
   ]
  },
  {
   "cell_type": "code",
   "execution_count": 11,
   "metadata": {},
   "outputs": [
    {
     "output_type": "execute_result",
     "data": {
      "text/plain": [
       "True"
      ]
     },
     "metadata": {},
     "execution_count": 11
    }
   ],
   "source": [
    "nlp.vocab['btw'].is_stop"
   ]
  },
  {
   "cell_type": "code",
   "execution_count": 13,
   "metadata": {},
   "outputs": [],
   "source": [
    "# remove stop word from the set\n",
    "nlp.Defaults.stop_words.remove('beyond')"
   ]
  },
  {
   "cell_type": "code",
   "execution_count": 14,
   "metadata": {},
   "outputs": [],
   "source": [
    "nlp.vocab['beyond'].is_stop = False"
   ]
  },
  {
   "cell_type": "code",
   "execution_count": 15,
   "metadata": {},
   "outputs": [
    {
     "output_type": "execute_result",
     "data": {
      "text/plain": [
       "False"
      ]
     },
     "metadata": {},
     "execution_count": 15
    }
   ],
   "source": [
    "nlp.vocab['beyond'].is_stop"
   ]
  },
  {
   "cell_type": "code",
   "execution_count": null,
   "metadata": {},
   "outputs": [],
   "source": []
  }
 ]
}