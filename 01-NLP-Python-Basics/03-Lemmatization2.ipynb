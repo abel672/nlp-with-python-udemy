{
 "metadata": {
  "language_info": {
   "codemirror_mode": {
    "name": "ipython",
    "version": 3
   },
   "file_extension": ".py",
   "mimetype": "text/x-python",
   "name": "python",
   "nbconvert_exporter": "python",
   "pygments_lexer": "ipython3",
   "version": "3.7.4-final"
  },
  "orig_nbformat": 2,
  "kernelspec": {
   "name": "python3",
   "display_name": "Python 3",
   "language": "python"
  }
 },
 "nbformat": 4,
 "nbformat_minor": 2,
 "cells": [
  {
   "cell_type": "code",
   "execution_count": 1,
   "metadata": {},
   "outputs": [],
   "source": [
    "import spacy"
   ]
  },
  {
   "cell_type": "code",
   "execution_count": 2,
   "metadata": {},
   "outputs": [],
   "source": [
    "nlp = spacy.load('en_core_web_sm')"
   ]
  },
  {
   "cell_type": "code",
   "execution_count": 3,
   "metadata": {},
   "outputs": [],
   "source": [
    "doc1 = nlp(u\"I am a runner running in a a race because I love to run since I ran today.\")"
   ]
  },
  {
   "cell_type": "code",
   "execution_count": 4,
   "metadata": {},
   "outputs": [
    {
     "output_type": "stream",
     "name": "stdout",
     "text": [
      "I \t PRON \t 561228191312463089 \t -PRON-\nam \t VERB \t 10382539506755952630 \t be\na \t DET \t 11901859001352538922 \t a\nrunner \t NOUN \t 12640964157389618806 \t runner\nrunning \t VERB \t 12767647472892411841 \t run\nin \t ADP \t 3002984154512732771 \t in\na \t DET \t 11901859001352538922 \t a\na \t DET \t 11901859001352538922 \t a\nrace \t NOUN \t 8048469955494714898 \t race\nbecause \t ADP \t 16950148841647037698 \t because\nI \t PRON \t 561228191312463089 \t -PRON-\nlove \t VERB \t 3702023516439754181 \t love\nto \t PART \t 3791531372978436496 \t to\nrun \t VERB \t 12767647472892411841 \t run\nsince \t ADP \t 10066841407251338481 \t since\nI \t PRON \t 561228191312463089 \t -PRON-\nran \t VERB \t 12767647472892411841 \t run\ntoday \t NOUN \t 11042482332948150395 \t today\n. \t PUNCT \t 12646065887601541794 \t .\n"
     ]
    }
   ],
   "source": [
    "for token in doc1:\n",
    "    print(token.text, '\\t', token.pos_, '\\t', token.lemma, '\\t', token.lemma_)"
   ]
  },
  {
   "cell_type": "code",
   "execution_count": 5,
   "metadata": {},
   "outputs": [],
   "source": [
    "def show_lemmas(text):\n",
    "    for token in text:\n",
    "        print(f'{token.text:{12}} {token.pos_:{6}} {token.lemma:<{22}} {token.lemma_}')"
   ]
  },
  {
   "cell_type": "code",
   "execution_count": 6,
   "metadata": {},
   "outputs": [],
   "source": [
    "doc2 = nlp(u\"I saw then mice today!\")"
   ]
  },
  {
   "cell_type": "code",
   "execution_count": 7,
   "metadata": {},
   "outputs": [
    {
     "output_type": "stream",
     "name": "stdout",
     "text": [
      "I            PRON   561228191312463089     -PRON-\nsaw          VERB   11925638236994514241   see\nthen         ADV    2630753287402592467    then\nmice         VERB   5736009664026643314    mice\ntoday        NOUN   11042482332948150395   today\n!            PUNCT  17494803046312582752   !\n"
     ]
    }
   ],
   "source": [
    "show_lemmas(doc2)"
   ]
  },
  {
   "cell_type": "code",
   "execution_count": null,
   "metadata": {},
   "outputs": [],
   "source": []
  }
 ]
}