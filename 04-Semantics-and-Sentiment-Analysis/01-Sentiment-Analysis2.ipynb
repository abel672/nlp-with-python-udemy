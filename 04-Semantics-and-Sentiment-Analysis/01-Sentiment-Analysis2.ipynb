{
 "metadata": {
  "language_info": {
   "codemirror_mode": {
    "name": "ipython",
    "version": 3
   },
   "file_extension": ".py",
   "mimetype": "text/x-python",
   "name": "python",
   "nbconvert_exporter": "python",
   "pygments_lexer": "ipython3",
   "version": "3.7.4-final"
  },
  "orig_nbformat": 2,
  "kernelspec": {
   "name": "python3",
   "display_name": "Python 3",
   "language": "python"
  }
 },
 "nbformat": 4,
 "nbformat_minor": 2,
 "cells": [
  {
   "cell_type": "code",
   "execution_count": 68,
   "metadata": {},
   "outputs": [],
   "source": [
    "import nltk"
   ]
  },
  {
   "cell_type": "code",
   "execution_count": 69,
   "metadata": {},
   "outputs": [
    {
     "output_type": "stream",
     "name": "stderr",
     "text": [
      "[nltk_data] Downloading package vader_lexicon to\n[nltk_data]     /Users/amescua/nltk_data...\n[nltk_data]   Package vader_lexicon is already up-to-date!\n"
     ]
    },
    {
     "output_type": "execute_result",
     "data": {
      "text/plain": [
       "True"
      ]
     },
     "metadata": {},
     "execution_count": 69
    }
   ],
   "source": [
    "nltk.download('vader_lexicon')"
   ]
  },
  {
   "cell_type": "code",
   "execution_count": 70,
   "metadata": {},
   "outputs": [],
   "source": [
    "from nltk.sentiment.vader import SentimentIntensityAnalyzer"
   ]
  },
  {
   "cell_type": "code",
   "execution_count": 71,
   "metadata": {},
   "outputs": [],
   "source": [
    "sid = SentimentIntensityAnalyzer()"
   ]
  },
  {
   "cell_type": "code",
   "execution_count": 72,
   "metadata": {},
   "outputs": [],
   "source": [
    "a = \"This is a good movie\""
   ]
  },
  {
   "cell_type": "code",
   "execution_count": 73,
   "metadata": {},
   "outputs": [
    {
     "output_type": "execute_result",
     "data": {
      "text/plain": [
       "{'neg': 0.0, 'neu': 0.508, 'pos': 0.492, 'compound': 0.4404}"
      ]
     },
     "metadata": {},
     "execution_count": 73
    }
   ],
   "source": [
    "sid.polarity_scores(a) # positive"
   ]
  },
  {
   "cell_type": "code",
   "execution_count": 74,
   "metadata": {},
   "outputs": [],
   "source": [
    "a = \"This was the best, most awesome movie EVER MADE!!!\""
   ]
  },
  {
   "cell_type": "code",
   "execution_count": 75,
   "metadata": {},
   "outputs": [
    {
     "output_type": "execute_result",
     "data": {
      "text/plain": [
       "{'neg': 0.0, 'neu': 0.425, 'pos': 0.575, 'compound': 0.8877}"
      ]
     },
     "metadata": {},
     "execution_count": 75
    }
   ],
   "source": [
    "sid.polarity_scores(a) # super positive"
   ]
  },
  {
   "cell_type": "code",
   "execution_count": 76,
   "metadata": {},
   "outputs": [],
   "source": [
    "a = \"This was the WORST movie that has ever disgraced the screen.\""
   ]
  },
  {
   "cell_type": "code",
   "execution_count": 77,
   "metadata": {},
   "outputs": [
    {
     "output_type": "execute_result",
     "data": {
      "text/plain": [
       "{'neg': 0.465, 'neu': 0.535, 'pos': 0.0, 'compound': -0.8331}"
      ]
     },
     "metadata": {},
     "execution_count": 77
    }
   ],
   "source": [
    "sid.polarity_scores(a) # negative"
   ]
  },
  {
   "cell_type": "code",
   "execution_count": 78,
   "metadata": {},
   "outputs": [],
   "source": [
    "# Sentiment Analysis with Amazon reviews\n",
    "import pandas as pd"
   ]
  },
  {
   "cell_type": "code",
   "execution_count": 79,
   "metadata": {},
   "outputs": [],
   "source": [
    "df = pd.read_csv('../TextFiles/amazonreviews.tsv', sep='\\t')"
   ]
  },
  {
   "cell_type": "code",
   "execution_count": 80,
   "metadata": {},
   "outputs": [
    {
     "output_type": "execute_result",
     "data": {
      "text/plain": [
       "  label                                             review\n",
       "0   pos  Stuning even for the non-gamer: This sound tra...\n",
       "1   pos  The best soundtrack ever to anything.: I'm rea...\n",
       "2   pos  Amazing!: This soundtrack is my favorite music...\n",
       "3   pos  Excellent Soundtrack: I truly like this soundt...\n",
       "4   pos  Remember, Pull Your Jaw Off The Floor After He..."
      ],
      "text/html": "<div>\n<style scoped>\n    .dataframe tbody tr th:only-of-type {\n        vertical-align: middle;\n    }\n\n    .dataframe tbody tr th {\n        vertical-align: top;\n    }\n\n    .dataframe thead th {\n        text-align: right;\n    }\n</style>\n<table border=\"1\" class=\"dataframe\">\n  <thead>\n    <tr style=\"text-align: right;\">\n      <th></th>\n      <th>label</th>\n      <th>review</th>\n    </tr>\n  </thead>\n  <tbody>\n    <tr>\n      <td>0</td>\n      <td>pos</td>\n      <td>Stuning even for the non-gamer: This sound tra...</td>\n    </tr>\n    <tr>\n      <td>1</td>\n      <td>pos</td>\n      <td>The best soundtrack ever to anything.: I'm rea...</td>\n    </tr>\n    <tr>\n      <td>2</td>\n      <td>pos</td>\n      <td>Amazing!: This soundtrack is my favorite music...</td>\n    </tr>\n    <tr>\n      <td>3</td>\n      <td>pos</td>\n      <td>Excellent Soundtrack: I truly like this soundt...</td>\n    </tr>\n    <tr>\n      <td>4</td>\n      <td>pos</td>\n      <td>Remember, Pull Your Jaw Off The Floor After He...</td>\n    </tr>\n  </tbody>\n</table>\n</div>"
     },
     "metadata": {},
     "execution_count": 80
    }
   ],
   "source": [
    "df.head()"
   ]
  },
  {
   "cell_type": "code",
   "execution_count": 81,
   "metadata": {},
   "outputs": [
    {
     "output_type": "execute_result",
     "data": {
      "text/plain": [
       "neg    5097\n",
       "pos    4903\n",
       "Name: label, dtype: int64"
      ]
     },
     "metadata": {},
     "execution_count": 81
    }
   ],
   "source": [
    "df['label'].value_counts() # count labels"
   ]
  },
  {
   "cell_type": "code",
   "execution_count": 82,
   "metadata": {},
   "outputs": [],
   "source": [
    "df.dropna(inplace=True) # drop null"
   ]
  },
  {
   "cell_type": "code",
   "execution_count": 83,
   "metadata": {},
   "outputs": [],
   "source": [
    "# check white spaces\n",
    "blanks = []\n",
    "\n",
    "for ind, label, review in df.itertuples():\n",
    "    if type(review) == str:\n",
    "        if review.isspace():\n",
    "            blanks.append(ind)"
   ]
  },
  {
   "cell_type": "code",
   "execution_count": 84,
   "metadata": {},
   "outputs": [
    {
     "output_type": "execute_result",
     "data": {
      "text/plain": [
       "[]"
      ]
     },
     "metadata": {},
     "execution_count": 84
    }
   ],
   "source": [
    "blanks\n",
    "# df.drop(blanks, inplace=True)"
   ]
  },
  {
   "cell_type": "code",
   "execution_count": 85,
   "metadata": {},
   "outputs": [
    {
     "output_type": "execute_result",
     "data": {
      "text/plain": [
       "'Stuning even for the non-gamer: This sound track was beautiful! It paints the senery in your mind so well I would recomend it even to people who hate vid. game music! I have played the game Chrono Cross but out of all of the games I have ever played it has the best music! It backs away from crude keyboarding and takes a fresher step with grate guitars and soulful orchestras. It would impress anyone who cares to listen! ^_^'"
      ]
     },
     "metadata": {},
     "execution_count": 85
    }
   ],
   "source": [
    "df.iloc[0]['review'] # first review"
   ]
  },
  {
   "cell_type": "code",
   "execution_count": 86,
   "metadata": {},
   "outputs": [
    {
     "output_type": "execute_result",
     "data": {
      "text/plain": [
       "{'neg': 0.088, 'neu': 0.669, 'pos': 0.243, 'compound': 0.9454}"
      ]
     },
     "metadata": {},
     "execution_count": 86
    }
   ],
   "source": [
    "sid.polarity_scores(df.iloc[0]['review'])"
   ]
  },
  {
   "cell_type": "code",
   "execution_count": 87,
   "metadata": {},
   "outputs": [],
   "source": [
    "# executing lambda Sentiment Analysis in all the reviews\n",
    "# saving value in a new created column 'scores'\n",
    "df['scores'] = df['review'].apply(lambda review: sid.polarity_scores(review))"
   ]
  },
  {
   "cell_type": "code",
   "execution_count": 88,
   "metadata": {},
   "outputs": [
    {
     "output_type": "execute_result",
     "data": {
      "text/plain": [
       "  label                                             review  \\\n",
       "0   pos  Stuning even for the non-gamer: This sound tra...   \n",
       "1   pos  The best soundtrack ever to anything.: I'm rea...   \n",
       "2   pos  Amazing!: This soundtrack is my favorite music...   \n",
       "3   pos  Excellent Soundtrack: I truly like this soundt...   \n",
       "4   pos  Remember, Pull Your Jaw Off The Floor After He...   \n",
       "\n",
       "                                              scores  \n",
       "0  {'neg': 0.088, 'neu': 0.669, 'pos': 0.243, 'co...  \n",
       "1  {'neg': 0.018, 'neu': 0.837, 'pos': 0.145, 'co...  \n",
       "2  {'neg': 0.04, 'neu': 0.692, 'pos': 0.268, 'com...  \n",
       "3  {'neg': 0.09, 'neu': 0.615, 'pos': 0.295, 'com...  \n",
       "4  {'neg': 0.0, 'neu': 0.746, 'pos': 0.254, 'comp...  "
      ],
      "text/html": "<div>\n<style scoped>\n    .dataframe tbody tr th:only-of-type {\n        vertical-align: middle;\n    }\n\n    .dataframe tbody tr th {\n        vertical-align: top;\n    }\n\n    .dataframe thead th {\n        text-align: right;\n    }\n</style>\n<table border=\"1\" class=\"dataframe\">\n  <thead>\n    <tr style=\"text-align: right;\">\n      <th></th>\n      <th>label</th>\n      <th>review</th>\n      <th>scores</th>\n    </tr>\n  </thead>\n  <tbody>\n    <tr>\n      <td>0</td>\n      <td>pos</td>\n      <td>Stuning even for the non-gamer: This sound tra...</td>\n      <td>{'neg': 0.088, 'neu': 0.669, 'pos': 0.243, 'co...</td>\n    </tr>\n    <tr>\n      <td>1</td>\n      <td>pos</td>\n      <td>The best soundtrack ever to anything.: I'm rea...</td>\n      <td>{'neg': 0.018, 'neu': 0.837, 'pos': 0.145, 'co...</td>\n    </tr>\n    <tr>\n      <td>2</td>\n      <td>pos</td>\n      <td>Amazing!: This soundtrack is my favorite music...</td>\n      <td>{'neg': 0.04, 'neu': 0.692, 'pos': 0.268, 'com...</td>\n    </tr>\n    <tr>\n      <td>3</td>\n      <td>pos</td>\n      <td>Excellent Soundtrack: I truly like this soundt...</td>\n      <td>{'neg': 0.09, 'neu': 0.615, 'pos': 0.295, 'com...</td>\n    </tr>\n    <tr>\n      <td>4</td>\n      <td>pos</td>\n      <td>Remember, Pull Your Jaw Off The Floor After He...</td>\n      <td>{'neg': 0.0, 'neu': 0.746, 'pos': 0.254, 'comp...</td>\n    </tr>\n  </tbody>\n</table>\n</div>"
     },
     "metadata": {},
     "execution_count": 88
    }
   ],
   "source": [
    "df.head()"
   ]
  },
  {
   "cell_type": "code",
   "execution_count": 89,
   "metadata": {},
   "outputs": [],
   "source": [
    "# getting every score.compund attribute and put it in a new column\n",
    "df['compund'] = df['scores'].apply(lambda d: d['compound'])"
   ]
  },
  {
   "cell_type": "code",
   "execution_count": 90,
   "metadata": {},
   "outputs": [
    {
     "output_type": "execute_result",
     "data": {
      "text/plain": [
       "  label                                             review  \\\n",
       "0   pos  Stuning even for the non-gamer: This sound tra...   \n",
       "1   pos  The best soundtrack ever to anything.: I'm rea...   \n",
       "2   pos  Amazing!: This soundtrack is my favorite music...   \n",
       "3   pos  Excellent Soundtrack: I truly like this soundt...   \n",
       "4   pos  Remember, Pull Your Jaw Off The Floor After He...   \n",
       "\n",
       "                                              scores  compund  \n",
       "0  {'neg': 0.088, 'neu': 0.669, 'pos': 0.243, 'co...   0.9454  \n",
       "1  {'neg': 0.018, 'neu': 0.837, 'pos': 0.145, 'co...   0.8957  \n",
       "2  {'neg': 0.04, 'neu': 0.692, 'pos': 0.268, 'com...   0.9858  \n",
       "3  {'neg': 0.09, 'neu': 0.615, 'pos': 0.295, 'com...   0.9814  \n",
       "4  {'neg': 0.0, 'neu': 0.746, 'pos': 0.254, 'comp...   0.9781  "
      ],
      "text/html": "<div>\n<style scoped>\n    .dataframe tbody tr th:only-of-type {\n        vertical-align: middle;\n    }\n\n    .dataframe tbody tr th {\n        vertical-align: top;\n    }\n\n    .dataframe thead th {\n        text-align: right;\n    }\n</style>\n<table border=\"1\" class=\"dataframe\">\n  <thead>\n    <tr style=\"text-align: right;\">\n      <th></th>\n      <th>label</th>\n      <th>review</th>\n      <th>scores</th>\n      <th>compund</th>\n    </tr>\n  </thead>\n  <tbody>\n    <tr>\n      <td>0</td>\n      <td>pos</td>\n      <td>Stuning even for the non-gamer: This sound tra...</td>\n      <td>{'neg': 0.088, 'neu': 0.669, 'pos': 0.243, 'co...</td>\n      <td>0.9454</td>\n    </tr>\n    <tr>\n      <td>1</td>\n      <td>pos</td>\n      <td>The best soundtrack ever to anything.: I'm rea...</td>\n      <td>{'neg': 0.018, 'neu': 0.837, 'pos': 0.145, 'co...</td>\n      <td>0.8957</td>\n    </tr>\n    <tr>\n      <td>2</td>\n      <td>pos</td>\n      <td>Amazing!: This soundtrack is my favorite music...</td>\n      <td>{'neg': 0.04, 'neu': 0.692, 'pos': 0.268, 'com...</td>\n      <td>0.9858</td>\n    </tr>\n    <tr>\n      <td>3</td>\n      <td>pos</td>\n      <td>Excellent Soundtrack: I truly like this soundt...</td>\n      <td>{'neg': 0.09, 'neu': 0.615, 'pos': 0.295, 'com...</td>\n      <td>0.9814</td>\n    </tr>\n    <tr>\n      <td>4</td>\n      <td>pos</td>\n      <td>Remember, Pull Your Jaw Off The Floor After He...</td>\n      <td>{'neg': 0.0, 'neu': 0.746, 'pos': 0.254, 'comp...</td>\n      <td>0.9781</td>\n    </tr>\n  </tbody>\n</table>\n</div>"
     },
     "metadata": {},
     "execution_count": 90
    }
   ],
   "source": [
    "df.head() # now we have the review compund score"
   ]
  },
  {
   "cell_type": "code",
   "execution_count": 91,
   "metadata": {},
   "outputs": [],
   "source": [
    "# adding pos or neg tag according to compound value of the score\n",
    "df['comp_score'] = df['compund'].apply(lambda score: 'pos' if score >= 0 else 'neg')"
   ]
  },
  {
   "cell_type": "code",
   "execution_count": 92,
   "metadata": {},
   "outputs": [
    {
     "output_type": "execute_result",
     "data": {
      "text/plain": [
       "  label                                             review  \\\n",
       "0   pos  Stuning even for the non-gamer: This sound tra...   \n",
       "1   pos  The best soundtrack ever to anything.: I'm rea...   \n",
       "2   pos  Amazing!: This soundtrack is my favorite music...   \n",
       "3   pos  Excellent Soundtrack: I truly like this soundt...   \n",
       "4   pos  Remember, Pull Your Jaw Off The Floor After He...   \n",
       "\n",
       "                                              scores  compund comp_score  \n",
       "0  {'neg': 0.088, 'neu': 0.669, 'pos': 0.243, 'co...   0.9454        pos  \n",
       "1  {'neg': 0.018, 'neu': 0.837, 'pos': 0.145, 'co...   0.8957        pos  \n",
       "2  {'neg': 0.04, 'neu': 0.692, 'pos': 0.268, 'com...   0.9858        pos  \n",
       "3  {'neg': 0.09, 'neu': 0.615, 'pos': 0.295, 'com...   0.9814        pos  \n",
       "4  {'neg': 0.0, 'neu': 0.746, 'pos': 0.254, 'comp...   0.9781        pos  "
      ],
      "text/html": "<div>\n<style scoped>\n    .dataframe tbody tr th:only-of-type {\n        vertical-align: middle;\n    }\n\n    .dataframe tbody tr th {\n        vertical-align: top;\n    }\n\n    .dataframe thead th {\n        text-align: right;\n    }\n</style>\n<table border=\"1\" class=\"dataframe\">\n  <thead>\n    <tr style=\"text-align: right;\">\n      <th></th>\n      <th>label</th>\n      <th>review</th>\n      <th>scores</th>\n      <th>compund</th>\n      <th>comp_score</th>\n    </tr>\n  </thead>\n  <tbody>\n    <tr>\n      <td>0</td>\n      <td>pos</td>\n      <td>Stuning even for the non-gamer: This sound tra...</td>\n      <td>{'neg': 0.088, 'neu': 0.669, 'pos': 0.243, 'co...</td>\n      <td>0.9454</td>\n      <td>pos</td>\n    </tr>\n    <tr>\n      <td>1</td>\n      <td>pos</td>\n      <td>The best soundtrack ever to anything.: I'm rea...</td>\n      <td>{'neg': 0.018, 'neu': 0.837, 'pos': 0.145, 'co...</td>\n      <td>0.8957</td>\n      <td>pos</td>\n    </tr>\n    <tr>\n      <td>2</td>\n      <td>pos</td>\n      <td>Amazing!: This soundtrack is my favorite music...</td>\n      <td>{'neg': 0.04, 'neu': 0.692, 'pos': 0.268, 'com...</td>\n      <td>0.9858</td>\n      <td>pos</td>\n    </tr>\n    <tr>\n      <td>3</td>\n      <td>pos</td>\n      <td>Excellent Soundtrack: I truly like this soundt...</td>\n      <td>{'neg': 0.09, 'neu': 0.615, 'pos': 0.295, 'com...</td>\n      <td>0.9814</td>\n      <td>pos</td>\n    </tr>\n    <tr>\n      <td>4</td>\n      <td>pos</td>\n      <td>Remember, Pull Your Jaw Off The Floor After He...</td>\n      <td>{'neg': 0.0, 'neu': 0.746, 'pos': 0.254, 'comp...</td>\n      <td>0.9781</td>\n      <td>pos</td>\n    </tr>\n  </tbody>\n</table>\n</div>"
     },
     "metadata": {},
     "execution_count": 92
    }
   ],
   "source": [
    "df.head() "
   ]
  },
  {
   "cell_type": "code",
   "execution_count": 93,
   "metadata": {},
   "outputs": [],
   "source": [
    "# checking the accuracy score of our current data frame\n",
    "from sklearn.metrics import accuracy_score, classification_report, confusion_matrix"
   ]
  },
  {
   "cell_type": "code",
   "execution_count": 94,
   "metadata": {},
   "outputs": [
    {
     "output_type": "execute_result",
     "data": {
      "text/plain": [
       "0.7091"
      ]
     },
     "metadata": {},
     "execution_count": 94
    }
   ],
   "source": [
    "accuracy_score(df['label'], df['comp_score'])"
   ]
  },
  {
   "cell_type": "code",
   "execution_count": 95,
   "metadata": {},
   "outputs": [
    {
     "output_type": "stream",
     "name": "stdout",
     "text": [
      "              precision    recall  f1-score   support\n\n         neg       0.86      0.51      0.64      5097\n         pos       0.64      0.91      0.75      4903\n\n    accuracy                           0.71     10000\n   macro avg       0.75      0.71      0.70     10000\nweighted avg       0.75      0.71      0.70     10000\n\n"
     ]
    }
   ],
   "source": [
    "print(classification_report(df['label'], df['comp_score']))"
   ]
  },
  {
   "cell_type": "code",
   "execution_count": 97,
   "metadata": {},
   "outputs": [
    {
     "output_type": "stream",
     "name": "stdout",
     "text": [
      "[[2623 2474]\n [ 435 4468]]\n"
     ]
    }
   ],
   "source": [
    "print(confusion_matrix(df['label'], df['comp_score'])) # it should print something"
   ]
  },
  {
   "cell_type": "code",
   "execution_count": null,
   "metadata": {},
   "outputs": [],
   "source": []
  }
 ]
}